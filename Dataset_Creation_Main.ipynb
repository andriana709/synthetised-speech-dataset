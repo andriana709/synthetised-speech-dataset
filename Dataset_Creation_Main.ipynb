{
  "nbformat": 4,
  "nbformat_minor": 0,
  "metadata": {
    "colab": {
      "name": "Dataset Creation - Main.ipynb",
      "provenance": [],
      "collapsed_sections": [],
      "include_colab_link": true
    },
    "kernelspec": {
      "name": "python3",
      "display_name": "Python 3"
    },
    "language_info": {
      "name": "python"
    }
  },
  "cells": [
    {
      "cell_type": "markdown",
      "metadata": {
        "id": "view-in-github",
        "colab_type": "text"
      },
      "source": [
        "<a href=\"https://colab.research.google.com/github/finedominos/synthetised-speech-dataset/blob/master/Dataset_Creation_Main.ipynb\" target=\"_parent\"><img src=\"https://colab.research.google.com/assets/colab-badge.svg\" alt=\"Open In Colab\"/></a>"
      ]
    },
    {
      "cell_type": "markdown",
      "metadata": {
        "id": "5qDA1kgEwqy5"
      },
      "source": [
        "# Importing libraries and the dataset"
      ]
    },
    {
      "cell_type": "code",
      "metadata": {
        "id": "bBwrIQKUSsXm"
      },
      "source": [
        "import numpy as np\n",
        "from pathlib import Path\n",
        "import random\n",
        "import shutil\n",
        "import IPython\n",
        "import os\n",
        "import IPython.display as ipd\n",
        "import matplotlib.pyplot as plt\n",
        "import requests\n",
        "import json\n",
        "import pandas as pd"
      ],
      "execution_count": null,
      "outputs": []
    },
    {
      "cell_type": "code",
      "metadata": {
        "id": "MNJNFpQSoLo2"
      },
      "source": [
        "# variable to choose if we import the test-clean set as well\n",
        "import_test_clean = True"
      ],
      "execution_count": null,
      "outputs": []
    },
    {
      "cell_type": "code",
      "metadata": {
        "id": "lpXh5mu-VL9E",
        "colab": {
          "base_uri": "https://localhost:8080/"
        },
        "outputId": "ccce8d54-283f-4b61-9736-c6e40bc9d167"
      },
      "source": [
        "import tarfile\n",
        "if not os.path.isdir(\"LibriSpeech\"):\n",
        "  # Getting the .tar.gz file from LibriSpeech (\"dev-clean\" set from https://www.openslr.org/12)\n",
        "  !wget https://www.openslr.org/resources/12/dev-clean.tar.gz\n",
        "  tar = tarfile.open(\"dev-clean.tar.gz\")\n",
        "  tar.extractall()\n",
        "  tar.close()\n",
        "  !rm dev-clean.tar.gz\n",
        "\n",
        "  if import_test_clean: # getting the test subset\n",
        "    !wget https://www.openslr.org/resources/12/test-clean.tar.gz\n",
        "    tar_test = tarfile.open(\"test-clean.tar.gz\")\n",
        "    tar_test.extractall()\n",
        "    tar_test.close()\n",
        "    !rm test-clean.tar.gz\n",
        "\n",
        "else:\n",
        "  print(\"LibriSpeech already downloaded :)\")"
      ],
      "execution_count": null,
      "outputs": [
        {
          "output_type": "stream",
          "text": [
            "--2021-06-23 04:12:15--  https://www.openslr.org/resources/12/dev-clean.tar.gz\n",
            "Resolving www.openslr.org (www.openslr.org)... 46.101.158.64\n",
            "Connecting to www.openslr.org (www.openslr.org)|46.101.158.64|:443... connected.\n",
            "HTTP request sent, awaiting response... 200 OK\n",
            "Length: 337926286 (322M) [application/x-gzip]\n",
            "Saving to: ‘dev-clean.tar.gz’\n",
            "\n",
            "dev-clean.tar.gz    100%[===================>] 322.27M  27.8MB/s    in 12s     \n",
            "\n",
            "2021-06-23 04:12:28 (26.4 MB/s) - ‘dev-clean.tar.gz’ saved [337926286/337926286]\n",
            "\n",
            "--2021-06-23 04:12:31--  https://www.openslr.org/resources/12/test-clean.tar.gz\n",
            "Resolving www.openslr.org (www.openslr.org)... 46.101.158.64\n",
            "Connecting to www.openslr.org (www.openslr.org)|46.101.158.64|:443... connected.\n",
            "HTTP request sent, awaiting response... 200 OK\n",
            "Length: 346663984 (331M) [application/x-gzip]\n",
            "Saving to: ‘test-clean.tar.gz’\n",
            "\n",
            "test-clean.tar.gz   100%[===================>] 330.60M  27.8MB/s    in 13s     \n",
            "\n",
            "2021-06-23 04:12:44 (25.6 MB/s) - ‘test-clean.tar.gz’ saved [346663984/346663984]\n",
            "\n"
          ],
          "name": "stdout"
        }
      ]
    },
    {
      "cell_type": "markdown",
      "metadata": {
        "id": "wbydu9Sww-oi"
      },
      "source": [
        "# Functions"
      ]
    },
    {
      "cell_type": "markdown",
      "metadata": {
        "id": "iyLnuQvAIsze"
      },
      "source": [
        "## Chapters information extraction"
      ]
    },
    {
      "cell_type": "code",
      "metadata": {
        "id": "HrYKCvf3xNLY"
      },
      "source": [
        "def get_chapters_info():\n",
        "  \"\"\"\n",
        "  Reading the file CHAPTERS.TXT, in which the data is organized as:\n",
        "  ID|READER|MINUTES|SUBSET|PROJ.|BOOK ID|CH. TITLE|PROJECT TITLE (Book title)\n",
        "  Returns:\n",
        "    chapters_info: List with the information about chapters coming from the chosen subset \"dev-clean\"\n",
        "  \"\"\"\n",
        "\n",
        "\n",
        "  chapters_file = open(\"LibriSpeech/CHAPTERS.TXT\") # Open the text file containing info about all chapters\n",
        "  chapters_info_all = chapters_file.readlines()\n",
        "  chapters_info_all = chapters_info_all[14:]        # Remove the first several lines with just text (kinda readme)\n",
        "\n",
        "  # Only extracting the chapters info from the dev-clean subset\n",
        "  chapters_info = [] \n",
        "  for item in chapters_info_all:\n",
        "    subset = item.split(\"| \")[3]\n",
        "    if \"dev-clean\" in subset: # Not using equivallence (==) because of spaces in the string\n",
        "      chapters_info.append(item)\n",
        "\n",
        "  if import_test_clean:\n",
        "    for item in chapters_info_all:\n",
        "      subset = item.split(\"| \")[3]\n",
        "      if \"test-clean\" in subset: # Not using equivallence (==) because of spaces in the string\n",
        "        chapters_info.append(item)\n",
        "\n",
        "\n",
        "  #print(\"Number of chapters in the whole LibriSpeech dataset:\", len(chapters_info_all))\n",
        "  print(\"Number of chapters in the chosen subset of chapters 'dev-clean' and 'test-clean':\", len(chapters_info))\n",
        "\n",
        "  return chapters_info"
      ],
      "execution_count": null,
      "outputs": []
    },
    {
      "cell_type": "markdown",
      "metadata": {
        "id": "DN2sGEvRIyPO"
      },
      "source": [
        "## Books published year extraction"
      ]
    },
    {
      "cell_type": "code",
      "metadata": {
        "id": "Z3eyb5z4xYOz"
      },
      "source": [
        "def get_published_years(chaptersInfo, debugModeOn = False):\n",
        "  \"\"\"\n",
        "  Searching for the books' published year.\n",
        "  Going through the information about chapters from \"dev-clean\", extracting lists.\n",
        "  Parameters:\n",
        "    chaptersInfo: Extracted information about chapters\n",
        "  Returns:\n",
        "    chapters_table: The list of chapters IDs from the list chapters_info, the corresponding books' published years, and the book titles\n",
        "    books_table: The list of book titles and corresponding published years (only different books)\n",
        "  \"\"\"\n",
        "\n",
        "  chapters_table = []\n",
        "  books_table = []\n",
        "  \n",
        "  prev_book_id = None\n",
        "\n",
        "  url = r\"https://www.googleapis.com/books/v1/volumes\" # TODO: find what is this volumes in the url?\n",
        "\n",
        "  for i in range(len(chaptersInfo)):\n",
        "    chapter_id = chaptersInfo[i].split(\"| \")[0]\n",
        "    if debugModeOn:\n",
        "      print(\"Line no.\", i)\n",
        "      print(\"Chapter ID \", chapter_id)\n",
        "    book_id = chaptersInfo[i].split(\"| \")[5]\n",
        "    book_title = chaptersInfo[i].split(\"| \")[7]\n",
        "\n",
        "    # Do the query only when a new book is examined\n",
        "    # (Since several chapters refer to the same book)\n",
        "    \n",
        "    if (prev_book_id != book_id):\n",
        "      year_found = False    # For keeping track if the info about the published year is accessible\n",
        "      #print(\"New query starting for book ID: \", book_id)\n",
        "\n",
        "      # Building the query\n",
        "      book_query = \"intitle:\" + book_title\n",
        "      params = {\"q\": book_query}\n",
        "      response = requests.get(url, params = params)\n",
        "      response_dict = response.json()\n",
        "      if \"items\" in response_dict:\n",
        "        response_all_results = response_dict[\"items\"]\n",
        "  # For eventual debugging \n",
        "  #    else:\n",
        "  #      print(\"No key named items in the dictionary\")\n",
        "      \n",
        "      # Exploring all results found for the chosen book\n",
        "      \n",
        "      result_year_earliest = 2021  # The earliest found year: initialized to today\n",
        "      \n",
        "      for result in response_all_results:\n",
        "        if \"volumeInfo\" in result:\n",
        "          result_info = result[\"volumeInfo\"]\n",
        "          if \"publishedDate\" in result_info:   # If there is information about the published date\n",
        "            result_year_str = result_info[\"publishedDate\"]\n",
        "            if (result_year_str[:4].isdigit()):  # If the published date string can be converted to a digit\n",
        "              result_year = int(result_year_str[:4])\n",
        "              year_found = True\n",
        "\n",
        "              # If the currently examined book is earlier than the earliest found so far\n",
        "              if (result_year < result_year_earliest):\n",
        "                result_year_earliest = result_year\n",
        "      \n",
        "      if year_found == True: # If the published year successfully found, add it to the list of years\n",
        "        books_table.append([book_title, int(result_year_earliest)])\n",
        "                      \n",
        "\n",
        "  # For eventual debugging      \n",
        "  #          else:\n",
        "  #            print(\"The found published date is not a digit\")    \n",
        "  #        else:\n",
        "  #          print(\"No key named publishedDate in the dictionary\")        \n",
        "  #      else:\n",
        "  #        print(\"No key named volumeInfo in the dictionary\")\"\"\"\n",
        "                \n",
        "              \n",
        "    if year_found == True: # If the published year successfully found, add it to the list of years\n",
        "      chapters_table.append([chapter_id, int(result_year_earliest), book_title])\n",
        "      if debugModeOn:\n",
        "        print(\"Earliest found published year of the book '\", book_title,\"': \", result_year_earliest, \"\\n\")\n",
        "    else:\n",
        "      print(\"No info found about the published year of the book '\", book_title[:-1], \"\\n\")\n",
        "      \n",
        "    prev_book_id = book_id\n",
        "\n",
        "  chapters_table = np.asarray(chapters_table)\n",
        "  books_table = np.asarray(books_table)\n",
        "\n",
        "  for ch in chapters_table:\n",
        "    ch_title = (ch[2])[:-1]\n",
        "    ch[2] = ch_title\n",
        "    ch_id = int(ch[0])\n",
        "    ch[0] = ch_id\n",
        "\n",
        "  for b in books_table:\n",
        "    b_title = (b[0])[:-1]\n",
        "    b[0] = b_title\n",
        "  \n",
        "  if debugModeOn:\n",
        "    print(\"Number of different books in the chosen subset of chapters:\", len(books_table))\n",
        "    print(\"\\n\")\n",
        "\n",
        "  return chapters_table, books_table"
      ],
      "execution_count": null,
      "outputs": []
    },
    {
      "cell_type": "markdown",
      "metadata": {
        "id": "fdaUqBSSyodE"
      },
      "source": [
        "## Filtering the dataset according to the published year data"
      ]
    },
    {
      "cell_type": "code",
      "metadata": {
        "id": "klHp2fVJxeoo"
      },
      "source": [
        "def filter_by_years(chaptersTable, yearMin=1800, debugModeOn=False):\n",
        "  \"\"\"\n",
        "  The function filter_by_years filters the dataset of chapters according to the published year data\n",
        "  Parameters:\n",
        "    chaptersTable (2D array) - the list of chapters information to be filtered (chapters ID, published year, book title)\n",
        "    yearMin - the earliest published year to consider\n",
        "    debugModeOn\n",
        "  Returns:\n",
        "    chaptersTableFilter\n",
        "  \"\"\"\n",
        "  chaptersTableFilter = []\n",
        "\n",
        "  for i in range(len(chaptersTable[:,0])):\n",
        "    if (int(chaptersTable[i,1]) > yearMin):\n",
        "      chaptersTableFilter.append(chaptersTable[i])\n",
        "    elif debugModeOn:\n",
        "      print(\"Deleted chapter with the ID no. \", chapters_table[i,0])\n",
        "        \n",
        "  print(\"\\nNumber of chapters in the original subset:\", len(chaptersTable))\n",
        "  print(\"Number of chapters in the filtered subset:\", len(chaptersTableFilter))\n",
        " \n",
        "  chaptersTableFilter = np.asarray(chaptersTableFilter)\n",
        "  \n",
        "  return chaptersTableFilter"
      ],
      "execution_count": null,
      "outputs": []
    },
    {
      "cell_type": "markdown",
      "metadata": {
        "id": "Rnc8oPDqGB2Y"
      },
      "source": [
        "## Extracting the lines of text from the chapters"
      ]
    },
    {
      "cell_type": "code",
      "metadata": {
        "id": "F7N1Nu1eQ8J2"
      },
      "source": [
        "# Extract the lines from the text files of chapters\n",
        "\n",
        "def extract_lines(chaptersPaths, chaptersTable):\n",
        "  \n",
        "  content_lines = []\n",
        "  chaptersIDs = list(map(int, chaptersTable[:,0])) # Extract only the list of chapter IDs\n",
        "  # print(chaptersIDs)\n",
        "\n",
        "  for i, file in enumerate(chaptersPaths):\n",
        "    chapter_id = int(file.split(\"/\")[3])\n",
        "\n",
        "    # If the current chapter belongs to the list of considered chapters\n",
        "    if (chapter_id in chaptersIDs):\n",
        "      f = open(file, \"r\")                 # Open each file to read it\n",
        "      content = f.readlines()             # Read all lines into a list\n",
        "      for line in content:                # Iterate through each line in a list. example of line: \"1919-142785-0063 ILLUSTRATION SAGE\\n\"\n",
        "        string = line.split('\\n')[-2]     # Remove the \"\\n\" from lines\n",
        "        string = string.split(' ', 1)     # Split the string after the first space, keep both parts. example of result: ['1919-142785-0063', 'ILLUSTRATION SAGE']\n",
        "        content_lines.append(string)      # Add the extracted strings to the list of lines\n",
        "\n",
        "\n",
        "  print(\"Number of lines after filtering:\", len(content_lines))\n",
        "\n",
        "  return np.asarray(content_lines)\n",
        "  "
      ],
      "execution_count": null,
      "outputs": []
    },
    {
      "cell_type": "markdown",
      "metadata": {
        "id": "Y7xm4qvio7M5"
      },
      "source": [
        "## Filtering sentences with non-standard words (according to NLTK)"
      ]
    },
    {
      "cell_type": "code",
      "metadata": {
        "id": "M4ETEqVnpB2I",
        "colab": {
          "base_uri": "https://localhost:8080/"
        },
        "outputId": "57701b35-9b8c-400c-c4a3-d417cfa069f1"
      },
      "source": [
        "import nltk\n",
        "nltk.download('words')\n",
        "nltk.download('wordnet')\n",
        "# Basic vocabulary dictionary:\n",
        "english_vocab = set(w.upper() for w in nltk.corpus.words.words())\n",
        "\n",
        "# Lemmatizer:\n",
        "from nltk.stem.wordnet import WordNetLemmatizer\n",
        "lemmatizer = WordNetLemmatizer()\n",
        "# Adding all country names: (We estimate countries are common language)\n",
        "!pip install pycountry\n",
        "import pycountry\n",
        "countries = []\n",
        "for country in pycountry.countries:\n",
        "  countries += (country.name.upper().split(\" \")[:])\n",
        "  countries.append('ENGLAND') # Because of uk it's not in...\n",
        "\n",
        "# Other frequent common words still not in english_vocab\n",
        "other_allowed_exceptions = [\"OTHERS\", \"LONDON\", \"SYDNEY\", \"EUROPE\", 'FAVOUR', 'FAVOURABLE', 'FAVOURITE'] # what about SAVOUR, VAPOUR,... would also be an issue for speech to text, so I'd say no... but, what about americans versions..."
      ],
      "execution_count": null,
      "outputs": [
        {
          "output_type": "stream",
          "text": [
            "[nltk_data] Downloading package words to /root/nltk_data...\n",
            "[nltk_data]   Unzipping corpora/words.zip.\n",
            "[nltk_data] Downloading package wordnet to /root/nltk_data...\n",
            "[nltk_data]   Unzipping corpora/wordnet.zip.\n",
            "Collecting pycountry\n",
            "\u001b[?25l  Downloading https://files.pythonhosted.org/packages/76/73/6f1a412f14f68c273feea29a6ea9b9f1e268177d32e0e69ad6790d306312/pycountry-20.7.3.tar.gz (10.1MB)\n",
            "\u001b[K     |████████████████████████████████| 10.1MB 203kB/s \n",
            "\u001b[?25hBuilding wheels for collected packages: pycountry\n",
            "  Building wheel for pycountry (setup.py) ... \u001b[?25l\u001b[?25hdone\n",
            "  Created wheel for pycountry: filename=pycountry-20.7.3-py2.py3-none-any.whl size=10746883 sha256=a3689e92ca2acea6e1976387e5f2eef33bcc5cdb50dac8f76996663dca7a54e3\n",
            "  Stored in directory: /root/.cache/pip/wheels/33/4e/a6/be297e6b83567e537bed9df4a93f8590ec01c1acfbcd405348\n",
            "Successfully built pycountry\n",
            "Installing collected packages: pycountry\n",
            "Successfully installed pycountry-20.7.3\n"
          ],
          "name": "stdout"
        }
      ]
    },
    {
      "cell_type": "markdown",
      "metadata": {
        "id": "M_0CS_FMqGPj"
      },
      "source": [
        "### Dictionary of contractions"
      ]
    },
    {
      "cell_type": "code",
      "metadata": {
        "id": "LDcgbIscpB8G"
      },
      "source": [
        "contractions_dict = { \n",
        "# \"ain't\": \"am not / are not / is not / has not / have not\",\n",
        "\"aren't\": \"are not / am not\",\n",
        "\"can't\": \"cannot\",\n",
        "# \"can't've\": \"cannot have\",\n",
        "# \"'cause\": \"because\",\n",
        "\"could've\": \"could have\",\n",
        "\"couldn't\": \"could not\",\n",
        "# \"couldn't've\": \"could not have\",\n",
        "\"didn't\": \"did not\",\n",
        "\"doesn't\": \"does not\",\n",
        "\"don't\": \"do not\",\n",
        "\"hadn't\": \"had not\",\n",
        "# \"hadn't've\": \"had not have\",\n",
        "\"hasn't\": \"has not\",\n",
        "\"haven't\": \"have not\",\n",
        "\"he'd\": \"he had / he would\",\n",
        "# \"he'd've\": \"he would have\",\n",
        "\"he'll\": \"he shall / he will\",\n",
        "# \"he'll've\": \"he shall have / he will have\",\n",
        "\"he's\": \"he has / he is\",\n",
        "# \"how'd\": \"how did\",\n",
        "# \"how'd'y\": \"how do you\",\n",
        "# \"how'll\": \"how will\",\n",
        "\"how's\": \"how has / how is / how does\",\n",
        "\"I'd\": \"I had / I would\",\n",
        "# \"I'd've\": \"I would have\",\n",
        "\"I'll\": \"I shall / I will\",\n",
        "# \"I'll've\": \"I shall have / I will have\",\n",
        "\"I'm\": \"I am\",\n",
        "\"I've\": \"I have\",\n",
        "\"isn't\": \"is not\",\n",
        "\"it'd\": \"it had / it would\",\n",
        "# \"it'd've\": \"it would have\",\n",
        "\"it'll\": \"it shall / it will\",\n",
        "# \"it'll've\": \"it shall have / it will have\",\n",
        "\"it's\": \"it has / it is\",\n",
        "\"let's\": \"let us\",\n",
        "# \"ma'am\": \"madam\",\n",
        "# \"mayn't\": \"may not\",\n",
        "# \"might've\": \"might have\",\n",
        "# \"mightn't\": \"might not\",\n",
        "# \"mightn't've\": \"might not have\",\n",
        "# \"must've\": \"must have\",\n",
        "\"mustn't\": \"must not\",\n",
        "# \"mustn't've\": \"must not have\",\n",
        "# \"needn't\": \"need not\",\n",
        "# \"needn't've\": \"need not have\",\n",
        "\"o'clock\": \"of the clock\",\n",
        "# \"oughtn't\": \"ought not\",\n",
        "# \"oughtn't've\": \"ought not have\",\n",
        "# \"shan't\": \"shall not\",\n",
        "# \"sha'n't\": \"shall not\",\n",
        "# \"shan't've\": \"shall not have\",\n",
        "\"she'd\": \"she had / she would\",\n",
        "# \"she'd've\": \"she would have\",\n",
        "\"she'll\": \"she shall / she will\",\n",
        "# \"she'll've\": \"she shall have / she will have\",\n",
        "\"she's\": \"she has / she is\",\n",
        "\"should've\": \"should have\",\n",
        "\"shouldn't\": \"should not\",\n",
        "# \"shouldn't've\": \"should not have\",\n",
        "# \"so've\": \"so have\",\n",
        "# \"so's\": \"so as / so is\",\n",
        "\"that'd\": \"that would / that had\",\n",
        "# \"that'd've\": \"that would have\",\n",
        "\"that's\": \"that has / that is\",\n",
        "\"there'd\": \"there had / there would\",\n",
        "# \"there'd've\": \"there would have\",\n",
        "\"there's\": \"there has / there is\",\n",
        "\"they'd\": \"they had / they would\",\n",
        "# \"they'd've\": \"they would have\",\n",
        "\"they'll\": \"they shall / they will\",\n",
        "# \"they'll've\": \"they shall have / they will have\",\n",
        "\"they're\": \"they are\",\n",
        "\"they've\": \"they have\",\n",
        "# \"to've\": \"to have\",\n",
        "\"wasn't\": \"was not\",\n",
        "\"we'd\": \"we had / we would\",\n",
        "# \"we'd've\": \"we would have\",\n",
        "\"we'll\": \"we will\",\n",
        "# \"we'll've\": \"we will have\",\n",
        "\"we're\": \"we are\",\n",
        "\"we've\": \"we have\",\n",
        "\"weren't\": \"were not\",\n",
        "\"what'll\": \"what shall / what will\",\n",
        "# \"what'll've\": \"what shall have / what will have\",\n",
        "# \"what're\": \"what are\",\n",
        "# \"what's\": \"what has / what is\",\n",
        "# \"what've\": \"what have\",\n",
        "# \"when's\": \"when has / when is\",\n",
        "# \"when've\": \"when have\",\n",
        "# \"where'd\": \"where did\",\n",
        "# \"where's\": \"where has / where is\",\n",
        "# \"where've\": \"where have\",\n",
        "# \"who'll\": \"who shall / who will\",\n",
        "# \"who'll've\": \"who shall have / who will have\",\n",
        "# \"who's\": \"who has / who is\",\n",
        "# \"who've\": \"who have\",\n",
        "# \"why's\": \"why has / why is\",\n",
        "# \"why've\": \"why have\",\n",
        "# \"will've\": \"will have\",\n",
        "\"won't\": \"will not\",\n",
        "# \"won't've\": \"will not have\",\n",
        "# \"would've\": \"would have\",\n",
        "\"wouldn't\": \"would not\",\n",
        "# \"wouldn't've\": \"would not have\",\n",
        "\"y'all\": \"you all\",\n",
        "# \"y'all'd\": \"you all would\",\n",
        "# \"y'all'd've\": \"you all would have\",\n",
        "# \"y'all're\": \"you all are\",\n",
        "# \"y'all've\": \"you all have\",\n",
        "\"you'd\": \"you had / you would\",\n",
        "# \"you'd've\": \"you would have\",\n",
        "\"you'll\": \"you shall / you will\",\n",
        "# \"you'll've\": \"you shall have / you will have\",\n",
        "\"you're\": \"you are\",\n",
        "\"you've\": \"you have\"\n",
        "}\n",
        "\n",
        "contractions_upper_list = [string.upper() for string in contractions_dict.keys()]"
      ],
      "execution_count": null,
      "outputs": []
    },
    {
      "cell_type": "markdown",
      "metadata": {
        "id": "KaWP4yhSqK1T"
      },
      "source": [
        "### Actual function"
      ]
    },
    {
      "cell_type": "code",
      "metadata": {
        "id": "KBNdqSezpS7z"
      },
      "source": [
        "KEEP_CONTRACTIONS = True\n",
        "\n",
        "def filter_non_existing_words(sentences_list, debugModeOn=False):\n",
        "  \"\"\" Filters the list of sentences discard the ones with unexisting words \n",
        "  in NLTK's dictionary\n",
        "\n",
        "  :param sentences_list: list of sentences [sentence_id, uppercase_sentence]\n",
        "  :returns: filtered list of sentences, same format\n",
        "  \"\"\"\n",
        "  number_true = 0\n",
        "  number_false = 0\n",
        "  number_countries = 0\n",
        "  number_contractions = 0\n",
        "  number_exceptions = 0\n",
        "  word_count = 0    # Just checkin'\n",
        "  list_false = []\n",
        "  filtered_dataset = []\n",
        "  for i,sentence in enumerate(sentences_list[:,1]):\n",
        "    flag = True\n",
        "    for word in sentence.split(\" \"):\n",
        "      word_count += 1\n",
        "      if word in english_vocab:\n",
        "        number_true += 1\n",
        "      elif lemmatizer.lemmatize(word.lower(), 'n').upper() in english_vocab:   # Plural is also not included in english_vocab, so lemmatizing to singular\n",
        "        number_true += 1 \n",
        "      elif lemmatizer.lemmatize(word.lower(), 'v').upper() in english_vocab:  # Conjugated verbs as well / past participal\n",
        "        number_true += 1 \n",
        "      elif lemmatizer.lemmatize(word.lower(), 'a').upper() in english_vocab:  # Comparative and Superlative\n",
        "        number_true += 1 \n",
        "      # elif lemmatizer.lemmatize(word.lower(), 's').upper() in english_vocab:  # Superlative\n",
        "      #   print(\"sattelite: \", word)\n",
        "      #   number_true += 1 \n",
        "      # elif lemmatizer.lemmatize(word.lower(), 'r').upper() in english_vocab:  # Adverbs\n",
        "      #   print(\"adverbs: \", word)\n",
        "      #   number_true += 1 \n",
        "      elif word in countries:  # Comparative and Superlative\n",
        "        number_true += 1 \n",
        "        number_countries += 1\n",
        "      elif word in contractions_upper_list and KEEP_CONTRACTIONS:  # I'm, won't, shouldn't, etc...\n",
        "        number_true += 1 \n",
        "        number_contractions += 1\n",
        "      elif word in other_allowed_exceptions and KEEP_CONTRACTIONS:  # I'm, won't, shouldn't, etc...\n",
        "        number_true += 1 \n",
        "        number_exceptions += 1\n",
        "      elif word[-2:]==\"'S\": # Possessive\n",
        "        if word[:-2] in english_vocab:\n",
        "          number_true += 1\n",
        "        else:\n",
        "          flag = False\n",
        "          number_false += 1\n",
        "          list_false.append((word[:-2], sentence))\n",
        "      else:\n",
        "        flag = False\n",
        "        number_false += 1\n",
        "        list_false.append((word, sentence))\n",
        "  \n",
        "    if flag:\n",
        "      filtered_dataset.append(sentences_list[i][:])\n",
        "\n",
        "  if debugModeOn:\n",
        "    print(\"Total number of words words: \",word_count)\n",
        "    print(\"Number of existing words: \",number_true)\n",
        "    print(\"Number of unexisting words: \",number_false)\n",
        "    print(\"Number of countries: \",number_countries)\n",
        "    print(\"Number of contractions: \",number_contractions)\n",
        "    print(\"Number of other exceptions: \",number_exceptions)\n",
        "\n",
        "  return np.asarray(filtered_dataset)\n"
      ],
      "execution_count": null,
      "outputs": []
    },
    {
      "cell_type": "markdown",
      "metadata": {
        "id": "nJUbJa0jh7cE"
      },
      "source": [
        "## Words counter"
      ]
    },
    {
      "cell_type": "code",
      "metadata": {
        "id": "Q8nuWDNth9bw"
      },
      "source": [
        "#counter words\n",
        "\n",
        "def words_counter(string):\n",
        "  word_list = []\n",
        "  word_list = string.split(\" \")\n",
        "  n_word = len(word_list)\n",
        "  return n_word"
      ],
      "execution_count": null,
      "outputs": []
    },
    {
      "cell_type": "code",
      "metadata": {
        "id": "PzYn4FUXh6wF"
      },
      "source": [
        "# Count the words \n",
        "\n",
        "def count_words(contentLines, debugModeOn=False):\n",
        "  lengths=[] #array with lengths of each sentece in the dataset\n",
        "  for s in contentLines:\n",
        "    sentence_len=words_counter(s[1])\n",
        "    lengths.append(sentence_len)\n",
        "\n",
        "  len_arr=np.asarray(lengths)\n",
        "  lengths=np.expand_dims(len_arr,1)\n",
        "\n",
        "  mean_len=np.mean(lengths)\n",
        "  max_len=np.max(lengths)\n",
        "  min_len=np.min(lengths)\n",
        "  arg_min=np.argmin(lengths)\n",
        "  arg_max=np.argmax(lengths)\n",
        "\n",
        "  if debugModeOn:\n",
        "    print(\"The mean is %f\" %mean_len)\n",
        "    print(\"The max is %d at indice %d\" %(max_len, arg_max))\n",
        "    print(\"The sentence is\")\n",
        "    print(contentLines[arg_max][1])\n",
        "    print(\"The min is %d at indice %d\" %(min_len, arg_min))\n",
        "    print(\"The sentence is\")\n",
        "    print(contentLines[arg_min][1])\n",
        "\n",
        "  #histogram of the whole dataset\n",
        "\n",
        "  plt.figure(figsize = (10,6))\n",
        "  bins=np.arange(min_len,max_len)\n",
        "  a=plt.hist(lengths, bins=bins)  # arguments are passed to np.histogram\n",
        "  plt.title(\"Lenghts of lines in the LibriSpeech corpus\")\n",
        "  plt.xlabel(\"Number of words in a line\")\n",
        "  plt.ylabel(\"Number of lines\")\n",
        "  plt.xlim(0)\n",
        "  plt.show()\n",
        "\n",
        "  if debugModeOn:\n",
        "    print(\"Sentences with same lenghts (from %d to %d)\" %(min_len,max_len))\n",
        "    print(a[0])\n",
        "\n",
        "  #reduction of the dataset\n",
        "\n",
        "  arg_sort=np.argsort(lengths,axis=0)\n",
        "  sort_length=np.reshape(lengths[arg_sort],(lengths[arg_sort].shape[0],1)) #sort the lengths in order from the sentence with less words\n",
        "  sort_dataset = np.reshape(contentLines[arg_sort],(contentLines[arg_sort].shape[0],2)) #sort the dataset in order from the sentence with less words\n",
        "  left=int(lengths.shape[0]*0.1) #to reduce from less words\n",
        "  right=-int(lengths.shape[0]*0.3) #to reduce from more words\n",
        "  short_dataset=sort_dataset[left:right,:] #reduce the dataset\n",
        "  new_lengths=sort_length[left:right,:]\n",
        "\n",
        "  #another histogram\n",
        "  \n",
        "  min2=np.min(new_lengths)\n",
        "  max2=np.max(new_lengths)\n",
        "\n",
        "  bins2=np.arange(min2,max2)\n",
        "  b=plt.hist(new_lengths, bins=bins2)  # arguments are passed to np.histogram\n",
        "  plt.title(\"Histogram of new lengths\")\n",
        "  plt.show()\n",
        "\n",
        "  print(\"Kept sentences with lengths between %d and %d\"%(min2, max2))\n",
        "\n",
        "  if debugModeOn:\n",
        "    print(\"Sentences with same lenghts (from %d to %d)\" %(min2,max2))\n",
        "    print(b[0])\n",
        "\n",
        "  return short_dataset\n"
      ],
      "execution_count": null,
      "outputs": []
    },
    {
      "cell_type": "markdown",
      "metadata": {
        "id": "y5hb633DxQx5"
      },
      "source": [
        "# Main"
      ]
    },
    {
      "cell_type": "markdown",
      "metadata": {
        "id": "UxXwQVRUJO6L"
      },
      "source": [
        "## Parameters"
      ]
    },
    {
      "cell_type": "code",
      "metadata": {
        "id": "J2nPIHpD2ZLS"
      },
      "source": [
        "# Parameters\n",
        "\n",
        "published_year_minimum = 1850     # Earliest published date to consider\n",
        "debug_mode_on = False             # Functions will print outputs if the debug mode is on"
      ],
      "execution_count": null,
      "outputs": []
    },
    {
      "cell_type": "markdown",
      "metadata": {
        "id": "bjvUx9-CJQn2"
      },
      "source": [
        "## Extracting data"
      ]
    },
    {
      "cell_type": "code",
      "metadata": {
        "colab": {
          "base_uri": "https://localhost:8080/"
        },
        "id": "uj4i-LxQHsaI",
        "outputId": "738a2e17-fef7-4c1a-a410-f86a080cd1d2"
      },
      "source": [
        "chapters_info = get_chapters_info()"
      ],
      "execution_count": null,
      "outputs": [
        {
          "output_type": "stream",
          "text": [
            "Number of chapters in the chosen subset of chapters 'dev-clean' and 'test-clean': 184\n"
          ],
          "name": "stdout"
        }
      ]
    },
    {
      "cell_type": "code",
      "metadata": {
        "id": "QL3dy-VMHvqL"
      },
      "source": [
        "chapters_table, books_table = get_published_years(chapters_info, debug_mode_on)"
      ],
      "execution_count": null,
      "outputs": []
    },
    {
      "cell_type": "code",
      "metadata": {
        "colab": {
          "base_uri": "https://localhost:8080/"
        },
        "id": "Q7cQMZObv_mX",
        "outputId": "3a743d81-c503-463c-82de-0213ede199dc"
      },
      "source": [
        "# chapters_table is organized as: [chapter_id, book_year, book_title]\n",
        "# books_table is organized as: [book_title, book_year]\n",
        "\n",
        "print(chapters_table.shape)\n",
        "print(\"Example line of chapters_table: \",chapters_table[2])\n",
        "print(\"Example line of books_table: \", books_table[2])\n",
        "\n",
        "print(\"Number of different books: \", len(books_table))"
      ],
      "execution_count": null,
      "outputs": [
        {
          "output_type": "stream",
          "text": [
            "(184, 3)\n",
            "Example line of chapters_table:  ['8226' '1869' 'He Knew He Was Right']\n",
            "Example line of books_table:  ['Hypatia' '1753']\n",
            "Number of different books:  117\n"
          ],
          "name": "stdout"
        }
      ]
    },
    {
      "cell_type": "code",
      "metadata": {
        "colab": {
          "base_uri": "https://localhost:8080/",
          "height": 404
        },
        "id": "EuzlaAKHshdr",
        "outputId": "02d10ab3-f501-4898-efc8-9f30558851fb"
      },
      "source": [
        "# Histogram\n",
        "\n",
        "plt.figure(figsize = (10,6))\n",
        "plt.hist(list(map(int, books_table[:,1])), bins = 30)\n",
        "#plt.axvline(x=published_year_minimum, color='k', linestyle='--') # Plotting the published year threshold\n",
        "plt.title(\"Publication years of the books in the LibriSpeech corpus\")\n",
        "plt.xlabel(\"Publication year\")\n",
        "plt.ylabel(\"Number of different books\")\n",
        "plt.show()"
      ],
      "execution_count": null,
      "outputs": [
        {
          "output_type": "display_data",
          "data": {
            "image/png": "[encoded data removed]",
            "text/plain": [
              "<Figure size 720x432 with 1 Axes>"
            ]
          },
          "metadata": {
            "tags": [],
            "needs_background": "light"
          }
        }
      ]
    },
    {
      "cell_type": "code",
      "metadata": {
        "id": "wi4uQrkTJbl0",
        "colab": {
          "base_uri": "https://localhost:8080/"
        },
        "outputId": "b1b4c541-7942-4121-c7a1-68868f273c18"
      },
      "source": [
        "# Getting the list of chapters (text files)\n",
        "chapters_paths = [str(file) for file in Path().glob(\"LibriSpeech/dev-clean/*/*/*.trans.txt\")]\n",
        "if import_test_clean:\n",
        "  chapters_paths_test = [str(file) for file in Path().glob(\"LibriSpeech/test-clean/*/*/*.trans.txt\")]\n",
        "  chapters_paths = chapters_paths + chapters_paths_test\n",
        "\n",
        "print(len(chapters_paths))"
      ],
      "execution_count": null,
      "outputs": [
        {
          "output_type": "stream",
          "text": [
            "184\n"
          ],
          "name": "stdout"
        }
      ]
    },
    {
      "cell_type": "markdown",
      "metadata": {
        "id": "RdaljpACJhs3"
      },
      "source": [
        "## Filtering chapters list"
      ]
    },
    {
      "cell_type": "code",
      "metadata": {
        "id": "LS_tSMPO-PmV",
        "colab": {
          "base_uri": "https://localhost:8080/"
        },
        "outputId": "574a7f56-4b6d-408e-abb4-61e4da68545c"
      },
      "source": [
        "chapters_table_filtered = filter_by_years(chapters_table, published_year_minimum)"
      ],
      "execution_count": null,
      "outputs": [
        {
          "output_type": "stream",
          "text": [
            "\n",
            "Number of chapters in the original subset: 184\n",
            "Number of chapters in the filtered subset: 160\n"
          ],
          "name": "stdout"
        }
      ]
    },
    {
      "cell_type": "code",
      "metadata": {
        "colab": {
          "base_uri": "https://localhost:8080/"
        },
        "id": "W8xfUl99v7Pc",
        "outputId": "8cd94851-bf13-4dd8-eb45-944a55d509ff"
      },
      "source": [
        "print(\"Example line of chapters_table_filtered: \", chapters_table_filtered[0])"
      ],
      "execution_count": null,
      "outputs": [
        {
          "output_type": "stream",
          "text": [
            "Example line of chapters_table_filtered:  ['4943' '1878' 'For the Term of His Natural Life']\n"
          ],
          "name": "stdout"
        }
      ]
    },
    {
      "cell_type": "code",
      "metadata": {
        "colab": {
          "base_uri": "https://localhost:8080/"
        },
        "id": "30mS-nBYJon-",
        "outputId": "f965c237-7a91-4956-93ba-4318440fe33b"
      },
      "source": [
        "\"\"\"\n",
        "Extracting lines from chapters into the list content_lines (array with 2 columns):\n",
        "The first column is with indexes (speaker-chapter-line, example \"1919-142785-0063\")\n",
        "The second column is with strings corresponding to lines (example \"ILLUSTRATION SAGE\")\n",
        "\"\"\"\n",
        "content_lines = extract_lines(chapters_paths, chapters_table_filtered)"
      ],
      "execution_count": null,
      "outputs": [
        {
          "output_type": "stream",
          "text": [
            "Number of lines after filtering: 4694\n"
          ],
          "name": "stdout"
        }
      ]
    },
    {
      "cell_type": "code",
      "metadata": {
        "colab": {
          "base_uri": "https://localhost:8080/"
        },
        "id": "yNKeJTBby7Aa",
        "outputId": "aece82be-b41b-4bce-cac4-087861d21a52"
      },
      "source": [
        "print(\"\\nExample first column of the 1st element of content_lines:\\n\", content_lines[0,0])\n",
        "print(\"Example second column of the 2nd element of content_lines:\\n\", content_lines[0,1])"
      ],
      "execution_count": null,
      "outputs": [
        {
          "output_type": "stream",
          "text": [
            "\n",
            "Example first column of the 1st element of content_lines:\n",
            " 2086-149214-0000\n",
            "Example second column of the 2nd element of content_lines:\n",
            " THE NARRATIVE IT MAY BE IS WOVEN OF SO HUMBLE A TEXTURE AS TO REQUIRE THIS ADVANTAGE AND AT THE SAME TIME TO RENDER IT THE MORE DIFFICULT OF ATTAINMENT\n"
          ],
          "name": "stdout"
        }
      ]
    },
    {
      "cell_type": "code",
      "metadata": {
        "colab": {
          "base_uri": "https://localhost:8080/"
        },
        "id": "61yENv-kuBjv",
        "outputId": "9c34f0ba-1fc8-498e-9ba3-af6808f16441"
      },
      "source": [
        "content_lines_filtered = filter_non_existing_words(content_lines, debug_mode_on)\n",
        "print(\"Number of lines after filtering non-existing words:\", len(content_lines_filtered))\n",
        "\n",
        "\n",
        "# If filtering non-existing words from the original dataset, it reduces from 2703 to 2151 lines\n",
        "# If filtering from the dataset filtered by years, it reduces from 2367 to 1868 lines"
      ],
      "execution_count": null,
      "outputs": [
        {
          "output_type": "stream",
          "text": [
            "Number of lines after filtering non-existing words: 3710\n"
          ],
          "name": "stdout"
        }
      ]
    },
    {
      "cell_type": "code",
      "metadata": {
        "colab": {
          "base_uri": "https://localhost:8080/",
          "height": 705
        },
        "id": "IV4vc55fixeN",
        "outputId": "65a6dde9-c56a-4106-8e70-1df7879b14f9"
      },
      "source": [
        "content_lines_filtered1 = count_words(content_lines_filtered, debug_mode_on)\n",
        "\n",
        "print(\"Number of lines after filtering by sentences length:\", len(content_lines_filtered1))"
      ],
      "execution_count": null,
      "outputs": [
        {
          "output_type": "display_data",
          "data": {
            "image/png": "[encoded data removed]",
            "text/plain": [
              "<Figure size 720x432 with 1 Axes>"
            ]
          },
          "metadata": {
            "tags": [],
            "needs_background": "light"
          }
        },
        {
          "output_type": "display_data",
          "data": {
            "image/png": "[encoded data removed]",
            "text/plain": [
              "<Figure size 432x288 with 1 Axes>"
            ]
          },
          "metadata": {
            "tags": [],
            "needs_background": "light"
          }
        },
        {
          "output_type": "stream",
          "text": [
            "Kept sentences with lengths between 6 and 22\n",
            "Number of lines after filtering by sentences length: 2226\n"
          ],
          "name": "stdout"
        }
      ]
    },
    {
      "cell_type": "code",
      "metadata": {
        "colab": {
          "base_uri": "https://localhost:8080/"
        },
        "id": "_QK94nQ4vs_I",
        "outputId": "59d3267e-e49c-48d5-f67b-41caf09c2a99"
      },
      "source": [
        "print(content_lines_filtered1.shape)\n",
        "print(content_lines_filtered1[1])"
      ],
      "execution_count": null,
      "outputs": [
        {
          "output_type": "stream",
          "text": [
            "(2183, 2)\n",
            "['4970-29095-0000' 'SHE WAS TIRED OF OTHER THINGS']\n"
          ],
          "name": "stdout"
        }
      ]
    },
    {
      "cell_type": "markdown",
      "metadata": {
        "id": "sjoI2scl1i_-"
      },
      "source": [
        "## Writing to JSON"
      ]
    },
    {
      "cell_type": "code",
      "metadata": {
        "colab": {
          "base_uri": "https://localhost:8080/"
        },
        "id": "ZAVNm_ci0xa1",
        "outputId": "9c2327ac-a1f8-4523-a561-8032cdaa3f2c"
      },
      "source": [
        "from google.colab import drive\n",
        "drive.mount('/content/drive')"
      ],
      "execution_count": null,
      "outputs": [
        {
          "output_type": "stream",
          "text": [
            "Mounted at /content/drive\n"
          ],
          "name": "stdout"
        }
      ]
    },
    {
      "cell_type": "code",
      "metadata": {
        "id": "-3M3PsMFvDWx"
      },
      "source": [
        "filtered_dataset = (content_lines_filtered1[:,0]).tolist() # keeping only the first column because only lines ID\n",
        "\n",
        "with open(\"dataset_dev_test_filters_1850.json\", \"w\") as outfile:\n",
        "    json.dump(filtered_dataset, outfile, indent=4)  \n",
        "with open('/content/dataset_dev_test_filters_1850.json', 'w') as f:\n",
        "    json.dump(filtered_dataset, f, indent=4)"
      ],
      "execution_count": null,
      "outputs": []
    },
    {
      "cell_type": "markdown",
      "metadata": {
        "id": "XImGoyF7nepv"
      },
      "source": [
        "## Opening filtered lists of sentences"
      ]
    },
    {
      "cell_type": "code",
      "metadata": {
        "id": "DGK4ZMm2k1xN",
        "colab": {
          "base_uri": "https://localhost:8080/"
        },
        "outputId": "23254a08-c3db-4532-90d0-81939a142a32"
      },
      "source": [
        "with open(\"/content/dataset_dev_test_filters_1850.json\", \"r\") as jsonfile:\n",
        "    data_filters = json.load(jsonfile)\n",
        "\n",
        "with open(\"/content/dataset_wer_0.json\", \"r\") as jsonfile:\n",
        "   data_wer = json.load(jsonfile)\n",
        "\n",
        "\n",
        "print(\"Number of lines filtered with 3 filters: \", len(data_filters))\n",
        "print(\"Number of lines filtered with WER: \", len(data_wer))\n",
        "\n",
        "print(\"\\ndata_filters: \", data_filters)\n",
        "#print(\"data_wer: \", data_wer)"
      ],
      "execution_count": null,
      "outputs": [
        {
          "output_type": "stream",
          "text": [
            "Number of lines filtered with 3 filters:  2223\n",
            "Number of lines filtered with WER:  1620\n",
            "\n",
            "data_filters:  ['8463-294828-0018', '1272-135031-0021', '3752-4943-0027', '4446-2275-0017', '672-122797-0047', '1462-170142-0042', '4446-2271-0023', '1995-1826-0010', '7976-105575-0017', '1995-1826-0008', '8463-294828-0022', '1988-147956-0005', '7976-105575-0020', '4446-2275-0014', '1995-1826-0003', '3729-6852-0025', '7850-286674-0012', '3729-6852-0030', '8463-294828-0025', '5536-43358-0000', '7850-286674-0017', '1995-1826-0004', '7850-73752-0019', '6295-244435-0006', '777-126732-0026', '3752-4944-0019', '3752-4944-0014', '1462-170145-0010', '3752-4943-0017', '6930-75918-0010', '908-157963-0001', '2035-147961-0033', '4446-2275-0027', '672-122797-0010', '121-127105-0009', '3000-15664-0006', '4446-2275-0024', '2035-147961-0022', '4446-2275-0009', '3752-4944-0001', '3000-15664-0026', '4507-16021-0008', '6319-275224-0012', '2035-147961-0015', '2035-147960-0009', '5536-43358-0014', '672-122797-0014', '121-121726-0006', '2035-147961-0034', '7176-92135-0026', '121-121726-0011', '5694-64029-0014', '4446-2275-0020', '5694-64025-0008', '2078-142845-0035', '3752-4943-0009', '7176-92135-0010', '5694-64029-0018', '121-121726-0008', '4446-2275-0045', '5694-64025-0018', '2803-154320-0008', '5694-64038-0016', '5105-28241-0007', '2035-147961-0003', '2412-153954-0023', '1089-134686-0003', '1988-24833-0014', '6313-66129-0012', '777-126732-0043', '237-134493-0010', '777-126732-0038', '5683-32865-0014', '5142-36377-0019', '1462-170145-0012', '5683-32865-0006', '5683-32865-0002', '1462-170142-0003', '1462-170145-0008', '1462-170145-0002', '2094-142345-0017', '1462-170142-0015', '5142-33396-0017', '7729-102255-0000', '237-134500-0019', '5683-32866-0023', '1580-141084-0036', '3729-6852-0021', '2277-149896-0033', '237-134500-0027', '2277-149896-0022', '237-134500-0042', '1580-141084-0043', '5683-32866-0001', '2277-149896-0004', '5683-32866-0000', '2094-142345-0004', '2277-149896-0003', '5142-33396-0008', '5142-33396-0016', '2803-154328-0013', '237-134493-0009', '260-123286-0012', '5536-43363-0011', '6829-68771-0031', '7021-79740-0012', '6313-66129-0011', '6829-68771-0021', '260-123288-0000', '3853-163249-0044', '5142-33396-0029', '1580-141084-0006', '4446-2275-0003', '5142-33396-0026', '652-130737-0007', '1580-141084-0012', '4970-29095-0025', '260-123286-0014', '8230-279154-0012', '8842-302201-0010', '4970-29095-0014', '7729-102255-0034', '260-123288-0012', '4970-29095-0012', '7176-88083-0027', '3853-163249-0011', '4970-29093-0021', '5338-284437-0033', '6313-76958-0003', '6313-76958-0000', '652-129742-0008', '1462-170138-0026', '260-123286-0011', '6313-66125-0013', '1320-122612-0014', '5683-32879-0021', '4507-16021-0012', '7127-75947-0019', '2830-3980-0003', '2428-83699-0010', '8463-294828-0004', '7127-75947-0017', '2428-83699-0022', '3081-166546-0081', '2428-83699-0026', '8455-210777-0047', '2428-83699-0031', '2830-3980-0022', '2428-83699-0038', '8463-294828-0008', '2830-3980-0033', '2830-3980-0040', '6295-64301-0004', '1988-24833-0016', '2830-3980-0042', '6295-64301-0014', '3081-166546-0069', '1221-135767-0015', '672-122797-0035', '5142-36586-0001', '8297-275156-0000', '5142-36600-0000', '3170-137482-0032', '2830-3980-0035', '1919-142785-0029', '8455-210777-0066', '1272-135031-0018', '6241-61943-0022', '6241-61943-0021', '6241-61943-0002', '6930-76324-0019', '7976-110523-0018', '1995-1837-0028', '5895-34622-0000', '6241-66616-0020', '2086-149220-0043', '8463-294828-0021', '672-122797-0057', '5895-34615-0000', '2428-83699-0004', '5895-34615-0001', '908-157963-0002', '5895-34615-0009', '908-157963-0003', '672-122797-0058', '6930-81414-0021', '7976-105575-0001', '7976-110124-0025', '8463-294828-0016', '6930-81414-0018', '2428-83705-0031', '3536-8226-0027', '3536-8226-0014', '1995-1837-0006', '8455-210777-0020', '6295-64301-0008', '5142-33396-0066', '7850-73752-0011', '7850-73752-0013', '3752-4944-0038', '1988-24833-0028', '6829-68769-0047', '8297-275154-0015', '3752-4944-0008', '4507-16021-0057', '8297-275154-0017', '3752-4944-0045', '4446-2273-0017', '3752-4944-0043', '8297-275154-0023', '4507-16021-0054', '3081-166546-0035', '4446-2273-0020', '7850-73752-0014', '6829-68769-0050', '3081-166546-0017', '6295-244435-0028', '4507-16021-0014', '3752-4944-0033', '3752-4944-0028', '3752-4944-0049', '3752-4944-0029', '1988-24833-0026', '3081-166546-0048', '4446-2271-0022', '8297-275155-0010', '4507-16021-0024', '672-122797-0024', '3575-170457-0049', '5142-33396-0061', '3081-166546-0050', '1462-170142-0017', '6345-64257-0020', '8555-292519-0004', '2078-142845-0029', '8463-294825-0019', '7176-92135-0011', '6930-81414-0017', '7176-92135-0002', '6930-75918-0000', '2277-149874-0011', '3752-4944-0006', '3752-4944-0007', '1462-170142-0028', '6319-57405-0007', '5683-32879-0008', '8463-294828-0026', '1462-170142-0029', '2277-149896-0016', '1089-134686-0014', '8463-294828-0024', '237-134500-0009', '1462-170142-0034', '2277-149896-0029', '5142-33396-0004', '8463-294825-0004', '8463-294825-0015', '1089-134686-0007', '2277-149874-0006', '1462-170142-0018', '6345-64257-0017', '7850-286674-0007', '3081-166546-0014', '6930-76324-0010', '6930-81414-0015', '1089-134686-0001', '3081-166546-0025', '5105-28240-0014', '3000-15664-0003', '3752-4944-0067', '3081-166546-0072', '6829-68771-0017', '1221-135767-0020', '7176-88083-0008', '3081-166546-0068', '3170-137482-0029', '3081-166546-0066', '3081-166546-0046', '3000-15664-0004', '6829-68771-0034', '5536-43363-0012', '1221-135766-0015', '3081-166546-0049', '1993-147965-0004', '3752-4944-0057', '1089-134691-0007', '6295-244435-0011', '6829-68769-0013', '6313-66129-0006', '8230-279154-0003', '6829-68769-0046', '7176-88083-0015', '7176-92135-0013', '6930-75918-0013', '1462-170145-0019', '6930-81414-0010', '3752-4944-0050', '1089-134691-0019', '6829-68769-0043', '2428-83699-0011', '6930-81414-0003', '237-126133-0020', '6345-64257-0015', '7176-92135-0021', '6313-76958-0025', '652-130726-0018', '2428-83699-0021', '6313-76958-0031', '6313-66125-0002', '2428-83699-0023', '3752-4943-0005', '7176-92135-0027', '3081-166546-0078', '652-130737-0013', '6313-76958-0019', '6319-275224-0009', '1462-170142-0032', '1995-1837-0013', '2803-154320-0009', '2803-154320-0005', '2803-154320-0002', '1188-133604-0013', '4446-2271-0007', '1580-141083-0019', '2035-147961-0024', '2830-3979-0012', '2830-3979-0010', '2830-3980-0064', '1919-142785-0035', '2035-147961-0009', '5142-33396-0047', '4507-16021-0005', '1919-142785-0042', '4446-2273-0011', '2830-3980-0044', '4446-2273-0014', '4446-2273-0026', '4077-13751-0019', '251-137823-0000', '2094-142345-0060', '251-136532-0020', '251-136532-0009', '1580-141084-0013', '7021-79759-0000', '7021-79759-0003', '4446-2275-0030', '1580-141083-0053', '1580-141083-0052', '121-121726-0004', '121-121726-0001', '4446-2275-0018', '1988-24833-0027', '1188-133604-0006', '3575-170457-0004', '1580-141083-0005', '4507-16021-0029', '5895-34629-0017', '5895-34629-0003', '1995-1826-0025', '1995-1836-0002', '1995-1826-0005', '1995-1837-0005', '7127-75946-0011', '5895-34615-0008', '7127-75947-0030', '5895-34622-0021', '5895-34622-0016', '7127-75946-0010', '5895-34622-0010', '1995-1837-0010', '672-122797-0054', '7976-110124-0020', '174-50561-0003', '7976-110124-0017', '672-122797-0043', '8297-275155-0023', '4992-41797-0016', '2830-3980-0027', '8297-275154-0024', '4507-16021-0058', '84-121550-0027', '8297-275154-0012', '1580-141084-0018', '2830-3980-0014', '8455-210777-0029', '7127-75947-0002', '7127-75946-0021', '174-50561-0019', '174-50561-0017', '8455-210777-0043', '908-157963-0024', '2830-3980-0002', '251-137823-0007', '2035-147961-0031', '7976-110523-0016', '777-126732-0080', '260-123288-0019', '5683-32866-0022', '777-126732-0046', '260-123286-0022', '260-123286-0024', '2094-142345-0007', '260-123288-0004', '260-123286-0004', '251-118436-0004', '777-126732-0077', '2094-142345-0026', '1580-141084-0020', '121-127105-0018', '5142-33396-0013', '2086-149220-0028', '5142-33396-0055', '251-118436-0022', '1919-142785-0062', '4507-16021-0036', '1272-128104-0012', '4992-41797-0012', '4992-41797-0019', '2094-142345-0025', '2086-149220-0027', '672-122797-0039', '5683-32866-0015', '8297-275155-0012', '3081-166546-0027', '1272-141231-0000', '2428-83705-0010', '237-134500-0017', '1462-170138-0004', '1221-135767-0008', '1462-170142-0013', '6313-76958-0002', '6930-76324-0026', '6313-76958-0001', '2035-147961-0007', '672-122797-0052', '5694-64029-0017', '4507-16021-0003', '3752-4944-0060', '2094-142345-0020', '2830-3980-0049', '5694-64029-0025', '2277-149897-0019', '1462-170138-0019', '1221-135767-0019', '1580-141083-0011', '2428-83705-0006', '4507-16021-0011', '6829-68769-0037', '2830-3980-0045', '1995-1836-0007', '652-130737-0004', '3575-170457-0001', '6829-68769-0044', '260-123286-0008', '2830-3980-0020', '174-84280-0009', '5895-34629-0004', '5142-36586-0004', '6345-64257-0012', '1580-141084-0037', '777-126732-0039', '237-134500-0029', '7127-75947-0008', '7127-75947-0011', '4970-29093-0000', '8463-294828-0011', '1580-141084-0038', '174-50561-0000', '3081-166546-0086', '672-122797-0044', '2428-83705-0039', '3536-8226-0013', '5895-34629-0029', '7976-110124-0019', '5895-34629-0024', '1462-170145-0011', '237-134500-0035', '2277-149896-0021', '3170-137482-0008', '174-84280-0011', '672-122797-0046', '6930-75918-0007', '3752-4944-0054', '1272-141231-0020', '777-126732-0054', '3170-137482-0012', '8297-275154-0016', '237-134500-0026', '8297-275154-0013', '2428-83699-0024', '2830-3980-0015', '6345-64257-0010', '2277-149896-0034', '8297-275154-0008', '2086-149220-0020', '1272-135031-0008', '5895-34629-0002', '3170-137482-0014', '3081-166546-0055', '7127-75946-0025', '8455-210777-0021', '7127-75946-0023', '7976-110124-0007', '4992-41806-0005', '2830-3980-0070', '6295-244435-0019', '6930-81414-0011', '3752-4943-0014', '7729-102255-0001', '5338-284437-0019', '2412-153947-0001', '7127-75947-0034', '4446-2275-0023', '1580-141083-0049', '1988-24833-0000', '251-118436-0001', '3752-4943-0012', '6930-81414-0027', '3575-170457-0052', '1580-141083-0047', '5683-32879-0012', '4446-2273-0030', '5338-284437-0012', '2830-3979-0002', '1089-134686-0027', '7850-286674-0008', '8463-294825-0016', '1988-24833-0008', '3752-4944-0009', '5142-33396-0027', '4970-29095-0030', '6319-64726-0020', '237-126133-0009', '4970-29093-0017', '251-137823-0002', '6241-61946-0007', '260-123288-0006', '4970-29095-0011', '7729-102255-0027', '1580-141084-0015', '2412-153948-0010', '1089-134691-0004', '2412-153954-0008', '1995-1837-0011', '8463-287645-0014', '4970-29095-0023', '4077-13754-0001', '5105-28241-0003', '5536-43359-0008', '672-122797-0017', '260-123288-0018', '121-127105-0032', '6829-68769-0014', '6829-68769-0010', '6829-68769-0017', '3752-4944-0035', '251-118436-0018', '7176-92135-0029', '6295-244435-0035', '6295-244435-0034', '6829-68769-0016', '1580-141083-0039', '7127-75947-0032', '5338-284437-0000', '237-134500-0005', '1580-141083-0028', '652-130726-0028', '3752-4944-0040', '5694-64025-0017', '6241-61946-0019', '3575-170457-0031', '3752-4944-0042', '6295-244435-0026', '1221-135766-0013', '5142-33396-0045', '7176-92135-0033', '6829-68769-0019', '6241-61943-0015', '1188-133604-0029', '1580-141084-0035', '1988-147956-0013', '7850-73752-0016', '5683-32865-0003', '4446-2273-0013', '2803-154320-0014', '6313-76958-0015', '1089-134686-0035', '5694-64038-0012', '422-122949-0029', '422-122949-0030', '777-126732-0078', '6241-61943-0007', '2803-154320-0007', '237-134500-0003', '1995-1837-0021', '6241-61946-0012', '1462-170142-0022', '8463-287645-0008', '8463-287645-0001', '777-126732-0022', '1462-170142-0027', '3729-6852-0031', '3536-8226-0029', '6930-75918-0011', '672-122797-0051', '260-123286-0029', '6930-76324-0025', '7127-75946-0008', '1995-1837-0020', '6241-61943-0016', '1462-170142-0023', '6241-61943-0009', '6241-61946-0005', '7976-110124-0024', '6313-66129-0007', '7976-110124-0021', '672-122797-0027', '4446-2271-0019', '1988-147956-0024', '3752-4944-0011', '3752-4944-0010', '1988-147956-0010', '4446-2273-0027', '1988-24833-0022', '1988-24833-0019', '672-122797-0018', '4446-2275-0010', '652-130726-0025', '6313-76958-0028', '5536-43359-0000', '4446-2275-0032', '3752-4943-0008', '121-127105-0010', '6313-66125-0000', '6313-66125-0006', '672-122797-0000', '2412-153954-0002', '121-127105-0015', '2094-142345-0055', '1284-1181-0019', '121-127105-0017', '3575-170457-0032', '7976-110124-0023', '1284-1181-0005', '6313-76958-0006', '1462-170145-0014', '672-122797-0041', '908-157963-0030', '260-123286-0017', '7976-110124-0004', '5105-28233-0000', '7976-110124-0000', '1272-135031-0007', '2830-3980-0018', '2428-83699-0030', '2428-83699-0033', '1272-141231-0017', '2830-3980-0021', '1272-141231-0008', '1272-141231-0004', '6295-64301-0009', '5105-28240-0016', '2830-3980-0046', '5105-28240-0018', '672-122797-0036', '652-129742-0011', '652-129742-0010', '6295-64301-0030', '2830-3980-0060', '6295-244435-0003', '6295-244435-0024', '1272-128104-0001', '5142-33396-0005', '5142-33396-0040', '5142-33396-0025', '3853-163249-0040', '8455-210777-0009', '7729-102255-0013', '672-122797-0068', '6829-68771-0003', '7729-102255-0012', '251-137823-0017', '8455-210777-0026', '5142-33396-0030', '3853-163249-0050', '672-122797-0063', '8555-284449-0006', '8455-210777-0037', '3170-137482-0028', '5683-32865-0015', '5338-284437-0006', '1188-133604-0031', '8455-210777-0062', '5895-34629-0031', '3081-166546-0004', '7021-79740-0009', '237-134500-0007', '8297-275154-0007', '2035-147961-0010', '3081-166546-0047', '5142-36377-0016', '8230-279154-0008', '2078-142845-0011', '4970-29095-0017', '4507-16021-0037', '1580-141084-0014', '5142-33396-0058', '4507-16021-0043', '5142-33396-0020', '5694-64029-0032', '7729-102255-0025', '5694-64029-0030', '6829-68771-0028', '4970-29095-0005', '8297-275155-0007', '7729-102255-0023', '237-126133-0012', '5142-33396-0050', '8297-275155-0003', '4507-16021-0056', '8297-275154-0021', '6829-68769-0027', '3081-166546-0039', '7176-92135-0009', '5694-64029-0015', '4507-16021-0050', '4970-29093-0008', '8555-284447-0020', '5694-64029-0004', '7176-92135-0028', '5142-33396-0041', '2277-149874-0017', '237-134500-0030', '2277-149897-0015', '5142-33396-0014', '2086-149220-0044', '7021-85628-0016', '3170-137482-0004', '2277-149896-0012', '6930-76324-0001', '5694-64038-0011', '6319-64726-0008', '5683-32879-0009', '2277-149897-0024', '2803-154328-0001', '2277-149897-0030', '422-122949-0002', '3000-15664-0027', '7127-75947-0029', '2035-147960-0001', '1580-141083-0048', '5895-34629-0001', '5694-64025-0012', '2035-147961-0026', '251-118436-0021', '2277-149874-0013', '1580-141083-0022', '4970-29093-0004', '8555-292519-0010', '1993-147966-0005', '8555-292519-0013', '1580-141083-0014', '2035-147961-0016', '1580-141083-0040', '1580-141083-0041', '2412-153948-0002', '1993-147964-0006', '6829-68769-0011', '4446-2275-0015', '4446-2273-0018', '1089-134686-0004', '1320-122617-0030', '1580-141083-0046', '2803-154328-0022', '1993-147966-0006', '3000-15664-0029', '1089-134686-0029', '4446-2275-0035', '5536-43359-0010', '4446-2275-0034', '3000-15664-0039', '7176-88083-0016', '4446-2275-0028', '1988-24833-0023', '2803-154328-0014', '3853-163249-0035', '6829-68769-0002', '3752-4943-0013', '1993-147965-0000', '3752-4943-0029', '2412-153948-0005', '1988-24833-0025', '5683-32879-0022', '2412-153954-0022', '1462-170138-0016', '2094-142345-0035', '1462-170138-0001', '1284-1180-0027', '2277-149874-0004', '2277-149897-0009', '5142-33396-0003', '2277-149897-0011', '2277-149897-0012', '2277-149896-0028', '6345-64257-0014', '777-126732-0044', '1462-170145-0013', '237-134500-0028', '5683-32879-0001', '260-123286-0031', '1462-170145-0006', '1462-170142-0011', '1462-170145-0001', '5683-32866-0002', '2300-131720-0041', '777-126732-0021', '777-126732-0012', '1462-170142-0037', '2277-149897-0023', '777-126732-0008', '5683-32879-0023', '652-129742-0014', '4446-2275-0038', '777-126732-0068', '237-134500-0014', '2412-153954-0013', '672-122797-0003', '251-136532-0013', '8230-279154-0032', '4077-13751-0013', '237-126133-0016', '251-137823-0006', '6313-66129-0005', '237-126133-0021', '652-130737-0005', '652-130737-0011', '8842-302203-0007', '6313-66125-0014', '260-123288-0016', '1580-141084-0021', '4970-29093-0014', '8842-304647-0012', '121-127105-0036', '6313-76958-0027', '5338-284437-0016', '2300-131720-0006', '5683-32866-0028', '652-130726-0030', '652-129742-0000', '652-129742-0002', '260-123288-0020', '777-126732-0074', '237-134500-0016', '6313-66129-0000', '2803-154320-0013', '1089-134686-0032', '908-157963-0013', '8455-210777-0067', '3536-8226-0028', '3170-137482-0016', '5895-34629-0016', '5895-34629-0025', '8455-210777-0056', '8455-210777-0048', '908-157963-0022', '174-84280-0010', '5142-36586-0000', '3081-166546-0059', '2830-3980-0004', '3081-166546-0056', '5694-64038-0005', '6829-68769-0051', '3081-166546-0044', '5142-33396-0063', '1272-141231-0021', '2428-83699-0028', '2428-83699-0032', '4507-16021-0052', '2830-3980-0024', '3081-166546-0028', '4507-16021-0046', '8463-294828-0019', '8555-292519-0012', '2428-83705-0021', '2428-83705-0019', '6319-275224-0000', '672-122797-0056', '8463-287645-0012', '7127-75946-0004', '7127-75946-0007', '6319-64726-0006', '5895-34622-0007', '8463-294828-0032', '5895-34622-0012', '422-122949-0028', '5895-34622-0018', '2086-149220-0047', '3081-166546-0019', '6241-61943-0004', '6241-61943-0001', '2086-149220-0038', '422-122949-0035', '5895-34615-0013', '2428-83705-0000', '672-122797-0050', '2428-83705-0007', '7976-105575-0010', '2086-149220-0026', '2086-149220-0024', '2428-83705-0016', '6930-75918-0002', '6930-81414-0024', '2830-3980-0041', '2277-149897-0031', '6829-68769-0039', '3752-4944-0065', '6295-64301-0025', '6295-244435-0040', '7176-92135-0032', '6295-244435-0021', '5694-64038-0024', '1221-135766-0014', '6829-68769-0028', '2035-147960-0012', '5694-64029-0027', '6829-68769-0035', '1919-142785-0034', '5694-64029-0010', '1580-141083-0023', '2035-147961-0012', '4446-2271-0010', '1919-142785-0009', '4446-2271-0006', '2078-142845-0040', '3575-170457-0034', '2035-147960-0006', '672-122797-0032', '7176-92135-0037', '3081-166546-0006', '3081-166546-0009', '7976-110523-0019', '1988-147956-0018', '5694-64038-0013', '1272-128104-0008', '4446-2273-0012', '3081-166546-0010', '2803-154320-0010', '1580-141083-0021', '260-123286-0000', '6930-76324-0014', '237-134500-0023', '1995-1826-0015', '3752-4943-0028', '5683-32866-0014', '2078-142845-0046', '672-122797-0048', '1995-1826-0002', '1995-1826-0022', '1462-170145-0016', '3752-4944-0002', '1462-170142-0036', '6930-76324-0009', '6930-81414-0022', '1188-133604-0014', '3000-15664-0046', '4446-2273-0002', '3729-6852-0019', '4446-2271-0024', '6930-76324-0024', '6930-76324-0003', '3752-4944-0034', '2094-142345-0018', '1462-170145-0005', '5683-32866-0006', '6241-61946-0010', '5683-32866-0007', '2830-3980-0068', '6241-66616-0002', '260-123288-0009', '4507-16021-0059', '7021-79759-0002', '4970-29093-0015', '237-126133-0025', '6313-66129-0002', '1272-128104-0006', '3170-137482-0045', '6313-66129-0004', '672-122797-0069', '6313-66129-0027', '4507-16021-0051', '672-122797-0015', '6313-66129-0009', '2094-142345-0050', '2830-3980-0028', '8230-279154-0011', '1272-141231-0011', '4507-16021-0045', '1272-141231-0007', '260-123288-0001', '2830-3980-0013', '2830-3980-0012', '6313-66125-0003', '1462-170138-0025', '3752-4944-0051', '260-123288-0022', '5105-28241-0013', '2078-142845-0038', '1580-141084-0000', '6829-68771-0014', '237-134500-0011', '5683-32866-0025', '908-157963-0016', '3752-4944-0056', '6930-81414-0007', '5683-32866-0027', '2830-3980-0063', '1320-122612-0009', '237-134493-0013', '2830-3980-0000', '1580-141083-0013', '8455-210777-0025', '672-122797-0040', '260-123288-0017', '1320-122617-0022', '260-123288-0008', '1284-1181-0007', '5142-33396-0018', '5142-33396-0002', '2277-149896-0031', '1089-134691-0014', '2277-149897-0037', '5142-33396-0009', '2277-149897-0027', '2277-149897-0006', '6295-64301-0007', '251-137823-0020', '652-130737-0006', '251-137823-0003', '5338-284437-0005', '5142-33396-0035', '2035-147961-0020', '2035-147961-0019', '2035-147961-0006', '5142-33396-0049', '2035-147961-0001', '2035-147960-0011', '2035-147960-0007', '5142-33396-0056', '5142-33396-0057', '5142-33396-0062', '5142-33396-0064', '2035-147961-0029', '7176-88083-0009', '3853-163249-0055', '5694-64029-0000', '6295-64301-0017', '6295-64301-0001', '6295-244435-0007', '2428-83705-0041', '2428-83705-0013', '2428-83705-0005', '6319-275224-0013', '8463-294828-0037', '6319-275224-0004', '8463-287645-0009', '6319-64726-0010', '6319-64726-0003', '2086-149220-0046', '7850-73752-0012', '2086-149220-0045', '2086-149220-0042', '2086-149220-0021', '2086-149220-0007', '3081-166546-0080', '3081-166546-0052', '3081-166546-0013', '3081-166546-0003', '7176-92135-0007', '5694-64029-0029', '5694-64029-0008', '7127-75947-0013', '5895-34622-0020', '6295-64301-0012', '4992-41797-0000', '3570-5694-0012', '3570-5694-0019', '652-129742-0007', '7976-110124-0016', '1284-1180-0011', '2412-153954-0005', '1988-147956-0002', '7976-105575-0018', '777-126732-0029', '1988-147956-0023', '7976-105575-0019', '6345-64257-0008', '4992-41797-0006', '7976-105575-0021', '777-126732-0010', '7127-75946-0009', '7976-105575-0023', '4446-2273-0019', '121-127105-0006', '4077-13754-0000', '2412-153954-0024', '2086-149220-0032', '6930-81414-0020', '4446-2275-0036', '8555-292519-0008', '1988-147956-0016', '2412-153948-0015', '4446-2275-0022', '3081-166546-0040', '5694-64029-0003', '3081-166546-0034', '1988-24833-0015', '3853-163249-0056', '7176-92135-0003', '1320-122617-0005', '2078-142845-0018', '6829-68769-0007', '5694-64029-0009', '5694-64025-0004', '7176-92135-0024', '4446-2275-0021', '4446-2273-0029', '5895-34622-0003', '8842-302201-0009', '3729-6852-0014', '2428-83699-0036', '1272-141231-0019', '1272-141231-0032', '5105-28233-0004', '5105-28233-0001', '1272-135031-0004', '2428-83699-0019', '8463-294828-0012', '1272-135031-0020', '777-126732-0027', '2428-83705-0040', '2428-83705-0029', '8463-294828-0020', '8463-294825-0010', '2428-83705-0020', '3570-5696-0004', '6241-61943-0010', '6319-275224-0016', '3570-5694-0022', '6241-61943-0023', '6241-61946-0001', '2094-142345-0032', '6241-61946-0008', '6241-61946-0018', '6241-61946-0021', '6930-76324-0013', '6829-68771-0023', '777-126732-0073', '422-122949-0016', '3570-5695-0000', '6829-68771-0022', '8230-279154-0039', '1320-122612-0006', '7729-102255-0035', '5142-33396-0028', '4992-41806-0009', '2803-154328-0023', '2803-154328-0010', '2830-3980-0006', '7127-75946-0024', '7976-110124-0005', '2035-147961-0014', '2035-147961-0013', '908-157963-0027', '7976-110124-0022', '908-157963-0005', '2035-147960-0004', '251-136532-0018', '1580-141083-0008', '1995-1826-0019', '8297-275155-0031', '672-122797-0074', '4507-16021-0055', '8297-275154-0026', '8297-275154-0011', '8297-275156-0001', '7976-105575-0022', '8455-210777-0050', '5895-34629-0009', '5895-34615-0003', '1995-1837-0009', '5895-34622-0006', '5895-34622-0004', '2035-152373-0016', '251-137823-0009', '251-137823-0013', '7729-102255-0005', '4970-29095-0022', '5142-36377-0000', '4970-29095-0002', '5338-284437-0027', '237-134493-0012', '672-122797-0021', '237-134500-0006', '237-134500-0008', '2277-149874-0009', '237-134500-0021', '4446-2271-0012', '2277-149896-0025', '2277-149896-0019', '1462-170142-0031', '2277-149896-0015', '4446-2271-0005', '1580-141084-0045', '2830-3980-0053', '672-122797-0034', '251-118436-0005', '5683-32866-0030', '5683-32866-0020', '5683-32866-0018', '4446-2273-0009', '5683-32866-0017', '2277-149897-0020', '2277-149897-0021', '672-122797-0030', '1919-142785-0015', '1919-142785-0012', '5683-32879-0005', '2830-3980-0071', '1462-170142-0026', '3729-6852-0038', '1462-170138-0015', '1462-170138-0014', '1089-134691-0005', '1089-134686-0037', '1089-134686-0034', '6313-66125-0008', '5536-43359-0014', '3752-4943-0020', '6295-244435-0013', '6313-66129-0022', '1284-1180-0012', '6295-64301-0031', '1089-134686-0026', '6295-244435-0012', '1462-170142-0025', '3752-4944-0059', '2300-131720-0000', '1462-170138-0018', '7850-286674-0015', '6295-244435-0032', '6295-244435-0023', '6295-244435-0037', '5105-28240-0017', '652-129742-0020', '6313-66125-0020', '5536-43358-0012', '1462-170138-0027', '1284-1181-0002', '5142-33396-0011', '6313-66125-0019', '777-126732-0032', '8463-287645-0000', '1089-134686-0031', '2803-161169-0002', '6313-66129-0010', '5683-32866-0016', '5142-33396-0010', '251-118436-0015', '2803-161169-0016', '1580-141084-0010', '251-118436-0007', '251-118436-0000', '8463-294825-0005', '260-123286-0013', '7021-79740-0001', '652-130737-0010', '8463-287645-0010', '260-123286-0015', '7729-102255-0014', '1988-147956-0021', '251-136532-0010', '7176-92135-0041', '251-118436-0008', '260-123286-0007', '5142-33396-0022', '5683-32879-0007', '5694-64029-0026', '4446-2275-0042', '7176-88083-0014', '7176-88083-0012', '6829-68771-0020', '7176-88083-0005', '5536-43359-0006', '1320-122617-0015', '4446-2275-0041', '1320-122617-0008', '6829-68769-0003', '1993-147964-0003', '3000-15664-0025', '5694-64025-0009', '7176-92135-0045', '5694-64025-0001', '3000-15664-0018', '6829-68769-0022', '672-122797-0007', '8842-302201-0007', '3752-4943-0021', '121-121726-0009', '5105-28241-0012', '2277-149896-0011', '1462-170142-0040', '8555-284447-0022', '4446-2273-0034', '237-134500-0040', '4446-2275-0006', '3081-166546-0043', '237-134500-0010', '1089-134686-0015', '3081-166546-0037', '6313-66129-0031', '5338-284437-0015', '5142-36377-0017', '5338-284437-0028', '237-126133-0013', '4970-29093-0020', '121-121726-0003', '121-121726-0007', '2277-149896-0006', '7021-85628-0022', '5142-33396-0021', '2803-154328-0007', '2428-83705-0017', '7127-75947-0035', '6313-66125-0004', '3752-4944-0062', '1580-141083-0004', '1580-141083-0003', '3536-8226-0030', '2428-83705-0032', '3729-6852-0028', '3570-5695-0009', '1272-141231-0018', '3536-8226-0012', '4507-16021-0035', '174-50561-0005', '2830-3979-0006', '8297-275155-0019', '4507-16021-0048', '2428-83699-0002', '8463-294828-0009', '6313-76958-0026', '2830-3980-0061', '7127-75947-0007', '3570-5695-0010', '2830-3980-0062', '6313-76958-0024', '174-84280-0003', '1272-135031-0006', '8455-210777-0023', '174-84280-0008', '8297-275156-0009', '2830-3980-0072', '1995-1837-0015', '1221-135767-0005', '8463-294828-0029', '1580-141083-0025', '1462-170138-0007', '4446-2271-0003', '7976-105575-0012', '1462-170142-0039', '1580-141083-0024', '6241-61943-0011', '6295-64301-0005', '7976-105575-0009', '6319-275224-0019', '5105-28240-0012', '652-129742-0005', '2830-3980-0001', '2035-147961-0040', '1580-141083-0015', '6313-76958-0011', '6295-64301-0013', '4992-41797-0011', '2803-154328-0005', '4992-41797-0010', '2035-147961-0008', '1995-1837-0029', '3575-170457-0021', '6829-68769-0020', '7127-75947-0003', '5142-36377-0006', '6345-64257-0016', '237-126133-0022', '7176-88083-0000', '7976-105575-0004', '4970-29095-0006', '5142-36377-0015', '237-134493-0018', '672-122797-0061', '7176-88083-0006', '652-129742-0013', '8455-210777-0052', '121-127105-0007', '4077-13754-0003', '2300-131720-0024', '7976-105575-0025', '4970-29095-0035', '6313-76958-0016', '3752-4943-0011', '2094-142345-0053', '5895-34629-0027', '1919-142785-0044', '3853-163249-0023', '1993-147966-0004', '1462-170142-0002', '1320-122617-0026', '121-127105-0001', '174-50561-0006', '7176-88083-0017', '5142-36377-0020', '4446-2275-0001', '8297-275156-0006', '1580-141084-0034', '4446-2273-0015', '5142-33396-0046', '1988-147956-0012', '251-137823-0014', '652-130726-0007', '251-137823-0011', '1188-133604-0033', '7729-102255-0029', '7729-102255-0031', '1580-141083-0016', '2035-147961-0023', '2035-147961-0036', '2803-161169-0011', '1188-133604-0017', '7021-79740-0003', '1188-133604-0010', '1919-142785-0003', '6313-66125-0017', '7021-85628-0005', '2803-154320-0003', '652-129742-0018', '5142-33396-0036', '2035-147960-0014', '5683-32865-0017', '5683-32865-0011', '1919-142785-0026', '5142-33396-0001', '1988-24833-0007', '2277-149874-0012', '2277-149874-0007', '1988-24833-0012', '2277-149874-0002', '2277-149896-0026', '2277-149896-0023', '237-134500-0032', '1580-141083-0045', '2277-149896-0018', '237-134500-0002', '672-122797-0073', '4507-16021-0049', '5142-33396-0007', '1462-170145-0017', '2277-149896-0005', '2277-149897-0028', '2830-3980-0074', '5683-32866-0005', '5536-43363-0015', '4507-16021-0033', '2277-149897-0013', '652-130737-0001', '1988-24833-0021', '6829-68769-0026', '5338-284437-0007', '3081-166546-0011', '3570-5694-0013', '3170-137482-0030', '2428-83699-0037', '3729-6852-0018', '6829-68769-0033', '6295-64301-0020', '6295-244435-0029', '777-126732-0006', '6930-76324-0023', '6319-275224-0010', '5694-64029-0022', '260-123286-0030', '3570-5696-0006', '7176-92135-0008', '6319-57405-0002', '1272-135031-0003', '3081-166546-0024', '2428-83699-0020', '3752-4943-0022', '3752-4944-0048', '3081-166546-0020', '777-126732-0009', '1462-170142-0038', '6241-66616-0016', '2428-83705-0043', '8463-294828-0014', '6295-64301-0027', '1272-141231-0003', '2428-83705-0023', '8842-302203-0003', '5694-64025-0015', '7850-286674-0002', '422-122949-0033', '8842-302203-0008', '6295-64301-0016', '1089-134691-0022', '7850-286674-0003', '1272-128104-0010', '5105-28241-0019', '1188-133604-0036', '8463-294828-0027', '5683-32865-0010', '1988-24833-0005', '5683-32865-0013', '237-134493-0015', '777-126732-0051', '2035-147961-0037', '8555-284449-0020', '5536-43358-0003', '652-130737-0002', '237-134493-0006', '4446-2273-0025', '260-123286-0005', '2035-152373-0006', '2830-3980-0075', '251-118436-0020', '4507-16021-0023', '251-118436-0014', '237-126133-0011', '1188-133604-0043', '5142-33396-0053', '652-130726-0009', '4446-2273-0021', '5142-36377-0010', '4446-2273-0023', '2035-147960-0016', '2094-142345-0021', '1919-142785-0022', '6295-244435-0025', '5536-43359-0015', '1988-147956-0007', '3570-5694-0004', '2277-149897-0036', '6241-61946-0017', '6930-76324-0006', '5142-33396-0023', '237-134500-0039', '251-136532-0002', '6930-81414-0006', '1284-1180-0029', '1580-141084-0042', '6930-76324-0012', '8555-284447-0007', '260-123288-0027', '777-126732-0042', '260-123286-0016', '1988-147956-0029', '7021-85628-0002', '6295-244435-0031', '4446-2271-0013', '3081-166546-0042', '6241-61946-0000', '251-137823-0016', '2277-149874-0018', '6930-76324-0005', '777-126732-0061', '7021-85628-0021', '251-137823-0008', '2277-149874-0015', '6241-61946-0002', '777-126732-0075', '1462-170142-0012', '2277-149874-0005', '237-134500-0024', '2300-131720-0040', '6313-66129-0025', '5142-33396-0038', '6829-68769-0052', '7729-102255-0030', '6313-66129-0035', '7976-110523-0021', '1320-122617-0014', '5895-34622-0023', '2412-153954-0011', '2830-3980-0038', '3575-170457-0010', '6295-64301-0002', '5895-34629-0011', '5694-64029-0013', '2830-3980-0052', '6829-68771-0011', '1919-142785-0038', '8463-294828-0002', '3729-6852-0024', '4077-13754-0004', '7976-110523-0001', '6829-68769-0030', '121-127105-0022', '2830-3980-0011', '5694-64038-0014', '8842-302196-0004', '7976-110124-0014', '4077-13751-0017', '652-129742-0006', '1462-170138-0022', '1993-147964-0001', '1995-1826-0018', '1995-1826-0016', '2830-3980-0017', '6295-64301-0006', '1284-1181-0003', '6313-76958-0007', '7976-105575-0024', '4970-29095-0036', '1272-141231-0027', '2086-149220-0040', '4970-29095-0034', '8297-275154-0025', '8230-279154-0024', '4970-29095-0016', '8297-275155-0001', '7176-88083-0020', '1272-135031-0017', '6295-244435-0002', '5105-28240-0022', '5142-33396-0068', '2078-142845-0021', '672-122797-0066', '8297-275155-0020', '7976-105575-0005', '6313-66125-0007', '2830-3980-0069', '3000-15664-0007', '2035-152373-0003', '6313-66125-0005', '777-126732-0004', '1284-1180-0028', '1919-142785-0028', '2830-3980-0076', '4507-16021-0025', '6930-75918-0006', '4507-16021-0042', '3752-4944-0013', '1995-1826-0012', '7976-105575-0014', '6930-75918-0015', '4992-41806-0012', '1988-147956-0011', '2035-152373-0018', '6295-64301-0019', '1995-1826-0020', '6345-64257-0007', '652-130737-0003', '7127-75946-0020', '5683-32865-0008', '777-126732-0002', '260-123286-0009', '1580-141083-0007', '1221-135767-0024', '6313-66125-0021', '8463-287645-0011', '1995-1837-0016', '7021-85628-0010', '7021-85628-0020', '1919-142785-0045', '8455-210777-0064', '8297-275156-0008', '6241-61943-0005', '2803-154328-0011', '652-130726-0027', '2830-3980-0056', '1580-141083-0020', '8455-210777-0028', '1284-1181-0008', '5142-36586-0003', '1919-142785-0032', '6241-61943-0018', '6319-275224-0017', '7127-75947-0015', '4992-41797-0020', '2428-83705-0024', '2830-3980-0039', '6241-61943-0012', '1272-128104-0000', '2830-3980-0030', '251-136532-0001', '6930-76324-0017', '2830-3980-0036', '1580-141084-0011', '3570-5695-0013', '1580-141084-0009', '1988-147956-0022', '3729-6852-0037', '6313-76958-0017', '8455-210777-0005', '8455-210777-0017', '2830-3980-0037', '7021-85628-0008', '1188-133604-0039', '672-122797-0072', '1995-1836-0008', '8842-302203-0011', '121-121726-0000', '8230-279154-0022', '2078-142845-0014', '5105-28241-0000', '8230-279154-0035', '251-118436-0016', '2412-153947-0016', '3081-166546-0012', '5536-43358-0004', '237-126133-0017', '8230-279154-0021', '1988-24833-0002', '3081-166546-0016', '4446-2275-0016', '5142-36377-0018', '237-134500-0000', '4446-2275-0012', '3570-5694-0001', '2277-149874-0016', '1089-134686-0021', '3081-166546-0061', '6829-68769-0040', '2078-142845-0017', '8842-302201-0008', '7176-88083-0019', '3000-15664-0009', '8842-302196-0008', '2094-142345-0056', '2078-142845-0045', '6829-68771-0036', '6829-68771-0035', '6829-68771-0033', '1320-122617-0006', '6829-68771-0032', '6829-68771-0030', '5694-64029-0006', '6829-68771-0027', '1320-122617-0017', '8842-302201-0013', '672-122797-0012', '6829-68769-0031', '5536-43359-0012', '6829-68771-0015', '6829-68771-0006', '3853-163249-0043', '672-122797-0016', '237-134500-0033', '2277-149896-0020', '2830-3980-0008', '5142-33396-0015', '1462-170142-0009', '2277-149897-0010', '260-123286-0003', '1580-141084-0039', '1089-134691-0001', '1580-141084-0040', '4446-2273-0028', '1284-1181-0015', '6313-66129-0013', '5683-32879-0020', '3575-170457-0048', '2277-149897-0025', '8455-210777-0018', '3853-163249-0021', '8297-275156-0011', '4446-2273-0005', '4970-29095-0032', '121-127105-0003', '5105-28240-0004', '174-84280-0006', '6295-64301-0021', '1272-141231-0029', '4970-29095-0037', '5105-28240-0005', '6930-76324-0002', '1462-170142-0041', '672-122797-0070', '8297-275154-0019', '1320-122612-0002', '121-127105-0034', '7729-102255-0021', '2035-152373-0008', '5142-36377-0003', '3752-4943-0024', '5105-28240-0019', '1462-170142-0020', '5142-36377-0002', '1580-141083-0002', '1284-1181-0009', '8297-275155-0022', '6345-64257-0018', '7176-88083-0026', '4507-16021-0053', '7729-102255-0039', '2428-83699-0007', '8230-279154-0023', '8463-287645-0013', '2428-83699-0027', '2086-149220-0029', '8463-294825-0001', '6313-66129-0008', '251-118436-0011', '5536-43358-0019', '7976-105575-0011', '8842-302196-0007', '1995-1826-0023', '7976-105575-0007', '7127-75946-0015', '2830-3980-0025', '652-129742-0004', '2094-142345-0051', '7976-110124-0015', '3000-15664-0014', '7976-110124-0011', '7976-110124-0010', '1272-128104-0005', '7976-110124-0008', '2830-3980-0005', '7176-92135-0044', '777-126732-0058', '1272-141231-0005', '7976-105575-0027', '237-126133-0005', '4992-41797-0022', '672-122797-0013', '1320-122617-0027', '5895-34615-0015', '251-137823-0022', '1995-1837-0004', '8842-302201-0012', '777-126732-0059', '5142-33396-0012', '5105-28240-0011', '1272-141231-0009', '5536-43358-0015', '2277-149897-0014', '2086-149220-0031', '7976-110523-0003', '1089-134686-0002', '1995-1837-0024', '1995-1837-0027', '1462-170142-0006', '2035-147960-0003', '6829-68769-0036', '2277-149897-0003', '5338-284437-0024', '6930-76324-0020', '777-126732-0040', '5338-284437-0004', '5338-284437-0021', '6319-275224-0015', '2035-147961-0039', '2277-149874-0010', '6295-244435-0030', '6319-57405-0005', '1919-142785-0013', '237-134493-0011', '3170-137482-0037', '4446-2271-0018', '6241-61946-0016', '1988-147956-0028', '6930-81414-0008', '7021-79740-0007', '6241-61946-0014', '5142-33396-0044', '3570-5695-0003', '3575-170457-0022', '1221-135766-0004', '2035-147961-0011', '7729-102255-0045', '2803-154328-0009', '1580-141083-0044', '251-136532-0021', '1580-141083-0042', '2803-154328-0008', '2035-147960-0008', '7729-102255-0033', '4970-29093-0007', '1089-134686-0025', '6319-64726-0015', '7850-73752-0001', '5338-284437-0030', '5142-36377-0024', '6319-64726-0013', '3752-4944-0039', '5683-32879-0014', '6829-68769-0049', '2300-131720-0038', '4446-2275-0005', '5536-43359-0005', '5895-34615-0019', '3575-170457-0007', '1995-1836-0001', '6313-66129-0023', '2078-142845-0034', '3575-170457-0051', '6313-76958-0018', '2086-149214-0001', '4077-13751-0001', '260-123286-0023', '3729-6852-0044', '672-122797-0020', '2277-149896-0017', '3081-166546-0087', '4446-2273-0004', '6829-68769-0023', '7976-110124-0013', '908-157963-0025', '8555-284449-0008', '1272-128104-0007', '3000-15664-0002', '2078-142845-0050', '237-134500-0036', '6241-61946-0009', '7729-102255-0038', '3575-170457-0045', '4077-13751-0010', '1995-1826-0017', '1993-147965-0008', '6829-68769-0005', '3575-170457-0050', '7976-105575-0015', '1995-1826-0009', '1320-122617-0031', '1993-147965-0003', '121-127105-0012', '1320-122617-0000', '2803-161169-0001', '2094-142345-0052', '7729-102255-0002', '1272-141231-0014', '6345-64257-0019', '2094-142345-0023', '4970-29093-0009', '2830-3980-0065', '8297-275154-0002', '3081-166546-0029', '1919-142785-0031', '3853-163249-0020', '652-130726-0003', '7176-88083-0010', '8455-210777-0002', '6319-275224-0018', '8842-304647-0008', '2035-147961-0018', '1462-170138-0008', '1089-134691-0006', '6295-244435-0018', '237-134493-0001', '8297-275155-0002', '652-130726-0017', '2412-153948-0008', '251-137823-0010', '1188-133604-0038', '5142-33396-0059', '652-130726-0012', '121-127105-0031', '5142-36377-0004', '8555-284449-0016', '3170-137482-0048', '652-130726-0014', '2078-142845-0027', '8463-294828-0033', '1462-170142-0016', '251-136532-0015', '1988-24833-0003', '4446-2275-0019', '2300-131720-0036', '2428-83699-0029', '4446-2271-0001', '6241-61943-0025', '8455-210777-0031', '260-123286-0026', '5694-64029-0028', '3853-163249-0026', '3170-137482-0041', '1580-141084-0016', '4970-29095-0024', '3853-163249-0025', '8455-210777-0024', '3752-4944-0064', '3752-4943-0003', '4446-2275-0026', '777-126732-0023', '4446-2273-0022', '3570-5694-0005', '3575-170457-0047', '3575-170457-0054', '6345-64257-0013', '1284-1180-0020', '1919-142785-0018', '84-121550-0032', '1988-147956-0019', '8842-302201-0011', '2412-153947-0002', '2830-3980-0055', '121-127105-0005', '4446-2271-0008', '3575-170457-0029', '1988-24833-0009', '121-127105-0011', '84-121550-0010', '1988-24833-0004', '2094-142345-0005', '84-121550-0015', '2094-142345-0039', '3575-170457-0014', '121-127105-0013', '84-121550-0026', '3575-170457-0040', '4446-2271-0020', '2094-142345-0036', '3575-170457-0019', '6295-64301-0015', '2035-152373-0000', '2803-154328-0012', '5536-43359-0004', '1993-147965-0007', '1580-141083-0027', '1993-147964-0004', '6313-66125-0011', '6313-66125-0010', '1284-1181-0010', '2035-147960-0005', '2803-154328-0017', '3000-15664-0022', '5694-64038-0003', '2035-152373-0014', '2277-149896-0024', '5536-43358-0011', '8297-275155-0015', '5694-64029-0012', '6829-68769-0032', '6829-68769-0034', '2078-142845-0019', '7176-88083-0002', '7021-85628-0012', '7176-88083-0004', '6829-68771-0024', '237-134500-0022', '5536-43359-0018', '5536-43359-0017', '5536-43359-0016', '5683-32866-0011', '5536-43363-0016', '5683-32866-0021', '5338-284437-0010', '237-134493-0004', '251-118436-0006', '3853-163249-0003', '251-137823-0018', '5105-28241-0016', '5142-33396-0019', '3853-163249-0008', '251-136532-0007', '5142-36377-0001', '5142-33396-0024', '8230-279154-0020', '8230-279154-0017', '3853-163249-0037', '8455-210777-0039', '7176-92135-0001', '6313-66129-0020', '6829-68769-0053', '3752-4944-0047', '6319-275224-0002', '8455-210777-0041', '6319-64726-0017', '6241-66616-0017', '6319-64726-0011', '5895-34615-0017', '2428-83705-0018', '6930-76324-0008', '7850-73752-0009', '7976-110523-0007', '8455-210777-0070', '5895-34629-0023', '2428-83705-0033', '2428-83705-0038', '7127-75947-0024', '2086-149220-0023', '1272-141231-0025', '1272-141231-0022', '6295-64301-0010', '3081-166546-0079', '8455-210777-0059', '2086-149220-0036', '3170-137482-0006', '652-129742-0012', '2300-131720-0008', '8555-292519-0005', '2412-153948-0009', '260-123286-0028', '6241-61943-0003', '3853-163249-0007', '5105-28240-0015', '237-126133-0010', '4970-29093-0023', '777-126732-0011', '4970-29093-0022', '3570-5695-0008', '3729-6852-0011', '2094-142345-0001', '2428-83699-0042', '5536-43359-0013', '3853-163249-0019', '6930-76324-0021', '6295-244435-0022', '2078-142845-0013', '2078-142845-0020', '422-122949-0031', '121-127105-0028', '1284-1180-0002', '7176-92135-0036', '3752-4944-0017', '8842-302196-0002', '6829-68769-0021', '8842-302196-0006', '3570-5696-0002', '260-123286-0027', '6930-76324-0004', '7850-73752-0002', '8842-302196-0009', '1284-1180-0005', '7176-88083-0003', '422-122949-0008', '777-126732-0035', '5536-43359-0009', '3853-163249-0041', '3853-163249-0038', '6241-61946-0004', '8230-279154-0015', '3000-15664-0028', '2830-3980-0010', '237-134500-0037', '652-130726-0019', '672-122797-0038', '2830-3980-0032', '2803-161169-0006', '84-121550-0006', '5142-33396-0033', '5895-34615-0010', '8297-275154-0010', '84-121550-0004', '1995-1836-0003', '3575-170457-0005', '7976-110523-0002', '2803-161169-0003', '3575-170457-0011', '7021-85628-0009', '8455-210777-0058', '2300-131720-0005', '1580-141083-0037', '8455-210777-0053', '8455-210777-0044', '1919-142785-0023', '2830-3979-0000', '2830-3980-0066', '1919-142785-0043', '7127-75946-0012', '7021-79740-0002', '652-130726-0020', '251-118436-0013', '6313-66129-0018', '5683-32879-0010', '2830-3980-0019', '6313-66129-0003', '4992-41797-0004', '652-130726-0000', '7729-102255-0028', '7729-102255-0036', '1284-134647-0000', '1995-1826-0011', '8555-292519-0007', '3575-170457-0012', '652-130726-0026', '6295-64301-0003', '7850-286674-0014', '3170-137482-0019', '6829-68769-0048', '3170-137482-0034', '3081-166546-0045', '7976-105575-0003', '1919-142785-0033', '5536-43358-0010', '84-121550-0033', '1284-1180-0032', '7976-105575-0008', '6313-76958-0004', '6241-61943-0013', '3170-137482-0005', '4992-41797-0017', '4992-41797-0018', '84-121550-0020', '5895-34615-0012', '6313-76958-0005', '5895-34615-0020', '6295-244435-0009', '1919-142785-0040', '8463-294825-0002', '8463-294828-0013', '5895-34629-0033', '7127-75946-0013', '2428-83699-0034', '6313-76958-0009', '3729-6852-0029', '2086-149220-0034', '777-126732-0048', '2830-3980-0051', '5536-43363-0002', '6313-76958-0029', '1089-134691-0016', '1462-170145-0007', '3853-163249-0051']\n"
          ],
          "name": "stdout"
        }
      ]
    },
    {
      "cell_type": "code",
      "metadata": {
        "id": "Jrn0TPA81VnB",
        "colab": {
          "base_uri": "https://localhost:8080/"
        },
        "outputId": "dc6a9aee-d897-49cf-de6c-783f9a638e56"
      },
      "source": [
        "intersect = []\n",
        "for sentence in data_filters:\n",
        "  if sentence in data_wer:\n",
        "    intersect.append(sentence)\n",
        "print(\"length of the intersection:\", len(intersect))"
      ],
      "execution_count": null,
      "outputs": [
        {
          "output_type": "stream",
          "text": [
            "length of the intersection: 970\n"
          ],
          "name": "stdout"
        }
      ]
    },
    {
      "cell_type": "code",
      "metadata": {
        "id": "Nh5W0P9EJYSk"
      },
      "source": [
        "dict_books = {}\n",
        "\n",
        "for chapter in chapters_table:\n",
        "  if chapter[2] not in dict_books.keys():\n",
        "    dict_books[chapter[2]] = []\n",
        "\n",
        "for sentence in intersect:\n",
        "  chapter_code = sentence.split('-')[1]\n",
        "  flag = False\n",
        "  for chapter in chapters_table:\n",
        "    if chapter_code == chapter[0]:\n",
        "      dict_books[chapter[2]].append(sentence)\n",
        "      \n",
        "      flag = True\n",
        "  if not flag:\n",
        "    print(\"ERROR: chapter %s didn't find his book\"%chapter)\n"
      ],
      "execution_count": null,
      "outputs": []
    },
    {
      "cell_type": "code",
      "metadata": {
        "colab": {
          "base_uri": "https://localhost:8080/"
        },
        "id": "7XyYxIhsQ6PQ",
        "outputId": "cdaaf609-de66-467f-9691-0ba3b092143c"
      },
      "source": [
        "print(dict_books)"
      ],
      "execution_count": null,
      "outputs": [
        {
          "output_type": "stream",
          "text": [
            "{'For the Term of His Natural Life': ['3752-4944-0019', '3752-4944-0014', '3752-4944-0001', '3752-4943-0009', '3752-4944-0045', '3752-4944-0043', '3752-4944-0033', '3752-4944-0029', '3752-4944-0006', '3752-4944-0007', '3752-4944-0060', '3752-4944-0054', '3752-4943-0014', '3752-4943-0012', '3752-4944-0009', '3752-4944-0035', '3752-4944-0040', '3752-4944-0042', '3752-4944-0011', '3752-4944-0010', '3752-4943-0008', '3752-4943-0029', '3752-4943-0028', '3752-4944-0002', '3752-4944-0034', '3752-4944-0051', '3752-4943-0020', '3752-4944-0059', '3752-4944-0013', '3752-4944-0039'], 'He Knew He Was Right': ['3536-8226-0027', '3536-8226-0029', '3536-8226-0030'], 'Hypatia': [], 'Steep Trails': ['3000-15664-0006', '3000-15664-0026', '3000-15664-0003', '3000-15664-0004', '3000-15664-0027', '3000-15664-0046'], 'Simple Story': [], 'Waverley, Volume 1': [], \"It's Like This, Cat (Version 2)\": ['1988-24833-0014', '1988-24833-0028', '1988-24833-0026', '1988-24833-0000', '1988-24833-0008', '1988-24833-0023', '1988-24833-0015', '1988-24833-0021', '1988-24833-0002', '1988-24833-0003'], 'Man Who Laughs': ['5895-34622-0000', '5895-34615-0000', '5895-34615-0001', '5895-34615-0009', '5895-34615-0008', '5895-34622-0010', '5895-34629-0004', '5895-34629-0029', '5895-34629-0024', '5895-34629-0002', '5895-34629-0031', '5895-34629-0016', '5895-34629-0025', '5895-34622-0007', '5895-34622-0012', '5895-34615-0013', '5895-34622-0020', '5895-34615-0003', '5895-34622-0004', '5895-34629-0011', '5895-34615-0015', '5895-34615-0019', '5895-34615-0017', '5895-34615-0010'], 'Soul of the Indian': ['5536-43358-0000', '5536-43358-0014', '5536-43363-0011', '5536-43363-0012', '5536-43359-0000', '5536-43359-0014', '5536-43358-0012', '5536-43359-0006', '5536-43363-0015', '5536-43359-0004', '5536-43358-0011', '5536-43359-0018', '5536-43363-0016'], 'Martin Pippin in the Apple Orchard': ['174-50561-0019', '174-50561-0017'], 'Old Greek Stories': ['6319-57405-0007'], 'Journey to the Centre of the Earth': ['6241-61943-0022', '6241-61943-0021', '6241-61946-0007', '6241-61946-0019', '6241-61946-0012', '6241-61943-0009', '6241-61943-0001', '6241-61946-0010', '6241-61946-0018', '6241-61946-0021', '6241-61943-0005', '6241-61943-0012', '6241-61946-0014', '6241-61946-0009', '6241-61943-0003', '6241-61946-0004'], \"'Co. Aytch,' Maury Grays, First Tennessee Regiment or, A Side Show of the Big Show\": ['5694-64029-0014', '5694-64025-0008', '5694-64029-0018', '5694-64025-0018', '5694-64038-0016', '5694-64029-0017', '5694-64029-0030', '5694-64038-0011', '5694-64025-0012', '5694-64038-0005', '5694-64029-0027', '5694-64029-0010', '5694-64038-0013', '5694-64029-0008', '5694-64029-0026', '5694-64025-0001', '5694-64025-0015', '5694-64038-0014', '5694-64029-0006', '5694-64038-0003'], 'Mary Marston': ['6295-64301-0004', '6295-64301-0014', '6345-64257-0017', '6345-64257-0015', '6295-64301-0009', '6295-64301-0030', '6345-64257-0014', '6295-64301-0007', '6295-64301-0001', '6295-64301-0012', '6345-64257-0008', '6295-64301-0005', '6345-64257-0016', '6295-64301-0020', '6295-64301-0027', '6295-64301-0016', '6295-64301-0002', '6295-64301-0006', '6295-64301-0019', '6345-64257-0013', '6295-64301-0003'], 'Fairy Tales Every Child Should Know': ['6319-64726-0006'], 'Pony Rider Boys in the Rockies': ['6313-66129-0007', '6313-66129-0000', '6313-66129-0035'], 'Wolf Hunters': ['6241-66616-0020', '6241-66616-0016'], 'Henrietta Temple': ['7850-73752-0011', '7850-73752-0013', '7850-73752-0014', '7850-73752-0016', '7850-73752-0002'], 'Pony Rider Boys in Texas': ['6313-76958-0031', '6313-76958-0001'], 'Amusement Only': ['2428-83699-0010', '2428-83699-0022', '2428-83699-0026', '2428-83699-0031', '2428-83699-0038', '2428-83699-0004', '2428-83705-0031', '2428-83699-0011', '2428-83699-0021', '2428-83699-0023', '2428-83705-0010', '2428-83705-0006', '2428-83699-0024', '2428-83699-0030', '2428-83699-0033', '2428-83699-0032', '2428-83705-0021', '2428-83705-0019', '2428-83705-0000', '2428-83705-0016', '2428-83699-0019', '2428-83705-0032', '2428-83699-0002', '2428-83705-0043', '2428-83705-0024', '2428-83705-0038'], 'Passionate Friends': ['174-84280-0011'], 'Literary Sense': [], 'With Fire and Sword (Byers)': ['7976-105575-0017', '7976-105575-0018', '7976-105575-0019', '7976-105575-0021', '7976-105575-0023', '7976-105575-0012', '7976-105575-0024', '7976-105575-0011', '7976-105575-0007', '7976-105575-0015', '7976-105575-0003'], 'Islands of Magic': ['7976-110124-0025', '7976-110124-0020', '7976-110124-0019', '7976-110124-0007', '7976-110124-0024', '7976-110124-0004', '7976-110124-0000', '7976-110124-0005', '7976-110124-0022', '7976-110124-0014', '7976-110124-0013'], 'My Book Of Favourite Fairy Tales': ['7976-110523-0016', '7976-110523-0019', '7976-110523-0021', '7976-110523-0001', '7976-110523-0007'], 'Hidden Treasures': [], 'People of the Black Circle': ['251-118436-0022', '251-118436-0018', '251-118436-0021', '251-118436-0005', '251-118436-0015', '251-118436-0007', '251-118436-0000', '251-118436-0011'], 'Count of Monte Cristo': [], 'Divine Comedy': ['84-121550-0015'], 'Beyond Good and Evil': ['422-122949-0029', '422-122949-0002', '422-122949-0016', '422-122949-0033'], 'Secret Agent': ['777-126732-0026', '777-126732-0043', '777-126732-0078', '777-126732-0012', '777-126732-0004', '777-126732-0058'], 'Reviews': ['1272-128104-0012', '1272-128104-0008', '1272-128104-0007'], 'Good Things to Eat As Suggested By Rufus': ['652-129742-0011', '652-129742-0014', '652-129742-0002', '652-129742-0007', '652-129742-0020', '652-129742-0013', '652-129742-0006'], 'Bohemian San Francisco': ['652-130726-0018', '652-130726-0028', '652-130726-0025', '652-130737-0005', '652-130737-0011', '652-130726-0030', '652-130726-0007', '652-130726-0027', '652-130726-0003', '652-130726-0017'], 'Tik-Tok of Oz': ['1272-135031-0021', '1272-135031-0018', '1272-135031-0007', '1272-135031-0006', '1272-135031-0017'], 'Omnilingual': ['251-136532-0009', '251-136532-0013', '251-136532-0018', '251-136532-0002', '251-136532-0021'], 'Memoirs of Jacques Casanova Vol. 1': ['3170-137482-0032', '3170-137482-0029', '3170-137482-0028', '3170-137482-0030', '3170-137482-0048', '3170-137482-0019', '3170-137482-0034'], 'Tom Swift and the Visitor From Planet X': ['251-137823-0002', '251-137823-0017', '251-137823-0020', '251-137823-0009', '251-137823-0016', '251-137823-0022', '251-137823-0010'], 'Don Quixote - Vol. 2': [], 'Planet of the Damned': ['1272-141231-0000', '1272-141231-0004', '1272-141231-0011', '1272-141231-0029', '1272-141231-0025'], 'Book of Household Management': ['1919-142785-0029', '1919-142785-0035', '1919-142785-0062', '2078-142845-0011', '1919-142785-0009', '2078-142845-0046', '1919-142785-0015', '1919-142785-0012', '1919-142785-0022', '1919-142785-0038', '1919-142785-0028', '1919-142785-0045', '1919-142785-0032', '2078-142845-0034', '1919-142785-0031', '2078-142845-0027', '1919-142785-0023'], 'History of the Decline and Fall of the Roman Empire Vol. IV': [], 'Mary Barton': [], 'My Antonia': ['1988-147956-0005', '2035-147961-0033', '2035-147961-0022', '2035-147960-0009', '2035-147961-0034', '2035-147961-0003', '1993-147965-0004', '2035-147961-0007', '1988-147956-0013', '1988-147956-0024', '1988-147956-0010', '2035-147960-0001', '2035-147961-0026', '1993-147966-0005', '2035-147961-0016', '1993-147964-0006', '1993-147966-0006', '1993-147965-0000', '2035-147960-0012', '2035-147961-0020', '2035-147961-0006', '1988-147956-0002', '1988-147956-0016', '2035-147960-0004', '1988-147956-0021', '2035-147961-0008', '1988-147956-0012', '2035-147961-0023', '2035-147961-0036', '1988-147956-0007', '1988-147956-0029', '1993-147964-0001', '2035-147961-0039', '1988-147956-0028', '1993-147965-0008', '2035-147961-0018', '1988-147956-0019', '1993-147965-0007'], 'Democracy in America II': [], 'House of the Seven Gables (Version 2)': ['2086-149220-0043', '2086-149220-0020', '2086-149220-0044', '2086-149220-0038', '2086-149220-0046', '2086-149220-0045', '2086-149220-0042', '2086-149220-0021', '2086-149220-0032', '2086-149220-0029', '2086-149214-0001', '2086-149220-0036', '2086-149220-0034'], 'Sister Carrie': ['2277-149896-0033', '2277-149896-0022', '2277-149896-0004', '2277-149896-0003', '2277-149874-0011', '2277-149896-0016', '2277-149896-0029', '2277-149874-0006', '2277-149896-0021', '2277-149896-0034', '2277-149897-0009', '2277-149897-0011', '2277-149897-0012', '2277-149897-0023', '2277-149897-0031', '2277-149897-0037', '2277-149897-0027', '2277-149897-0006', '2277-149874-0009', '2277-149896-0019', '2277-149897-0021', '2277-149896-0011', '2277-149896-0006', '2277-149874-0007', '2277-149874-0002', '2277-149896-0026', '2277-149896-0023', '2277-149897-0028', '2277-149897-0036', '2277-149874-0018', '2277-149874-0015', '2277-149897-0025', '2277-149874-0010', '2277-149896-0024'], 'Popular History of Ireland, Book 01': ['2035-152373-0003'], 'Erewhon': ['2412-153954-0023', '2412-153948-0010', '2412-153954-0008', '2412-153954-0022', '2412-153954-0005', '2412-153954-0024', '2412-153947-0002'], 'In Search of the Castaways': ['2803-154320-0008', '2803-154320-0009', '2803-154320-0005', '2803-154320-0002', '2803-154320-0014', '2803-154320-0007', '2803-154328-0001', '2803-154320-0013', '2803-154320-0010', '2803-154328-0023', '2803-154328-0007', '2803-154328-0005', '2803-154320-0003', '2803-154328-0011'], 'Stories Mother Nature Told Her Children': ['2803-161169-0011', '2803-161169-0003'], 'Work: A Story of Experience': ['3853-163249-0011', '3853-163249-0040', '3853-163249-0055', '3853-163249-0056', '3853-163249-0023', '3853-163249-0021', '3853-163249-0026', '3853-163249-0008'], 'Initials Only': ['3081-166546-0035', '3081-166546-0048', '3081-166546-0050', '3081-166546-0014', '3081-166546-0025', '3081-166546-0072', '3081-166546-0068', '3081-166546-0066', '3081-166546-0027', '3081-166546-0086', '3081-166546-0055', '3081-166546-0004', '3081-166546-0039', '3081-166546-0056', '3081-166546-0028', '3081-166546-0019', '3081-166546-0009', '3081-166546-0010', '3081-166546-0003', '3081-166546-0040', '3081-166546-0034', '3081-166546-0037', '3081-166546-0011', '3081-166546-0024', '3081-166546-0042', '3081-166546-0016', '3081-166546-0061'], 'Miserables Vol. 2': [], \"Alexander's Bridge (version 2)\": ['1462-170142-0042', '1462-170145-0010', '1462-170145-0012', '1462-170142-0003', '1462-170145-0008', '1462-170142-0015', '1462-170142-0017', '1462-170142-0029', '1462-170142-0034', '1462-170142-0018', '1462-170142-0032', '1462-170138-0004', '1462-170138-0019', '1462-170145-0011', '1462-170142-0022', '1462-170145-0014', '1462-170138-0016', '1462-170145-0013', '1462-170142-0011', '1462-170145-0016', '1462-170145-0005', '1462-170138-0025', '1462-170142-0031', '1462-170138-0014', '1462-170142-0025', '1462-170138-0027', '1462-170142-0040', '1462-170142-0002', '1462-170142-0038', '1462-170138-0022', '1462-170142-0041', '1462-170142-0020', '1462-170142-0016', '1462-170145-0007'], 'Guns of Bull Run': ['6295-244435-0006', '6295-244435-0028', '6295-244435-0019', '6295-244435-0024', '6295-244435-0007', '6295-244435-0013', '6295-244435-0023', '6295-244435-0029', '6295-244435-0030'], 'Evil Genius': ['8297-275156-0000', '8297-275154-0015', '8297-275154-0017', '8297-275154-0023', '8297-275155-0010', '8297-275155-0023', '8297-275155-0012', '8297-275154-0016', '8297-275154-0013', '8297-275154-0008', '8297-275154-0007', '8297-275155-0007', '8297-275154-0021', '8297-275154-0026', '8297-275156-0001', '8297-275155-0020', '8297-275155-0022', '8297-275155-0002', '8297-275155-0015'], 'Junior Classics Volume 8: Animal and Nature Stories': ['6319-275224-0009', '6319-275224-0000', '6319-275224-0019', '6319-275224-0015'], 'Curious Book of Birds': [], 'Sky Island (version 2)': ['5338-284437-0033', '5338-284437-0019', '5338-284437-0012', '8555-284449-0006', '5338-284437-0007', '5338-284437-0004', '5338-284437-0030', '8555-284449-0016'], 'Among the Pond People': ['7850-286674-0017', '7850-286674-0007', '7850-286674-0008', '7850-286674-0002', '7850-286674-0003'], 'New Life (La vita nuova)': ['8842-302201-0010', '8842-302196-0008'], 'Sonnets of Michael Angelo Buonarroti and Tommaso Campanella': [], 'Timaeus': [], 'Patchwork Girl of Oz': ['1284-1180-0011', '1284-1181-0002', '1284-1180-0029', '1284-1180-0028', '1284-1181-0008', '1284-1181-0015', '1284-1180-0020', '1284-1180-0005', '1284-1180-0032'], 'Quest of the Silver Fleece': ['1995-1826-0010', '1995-1826-0004', '1995-1837-0028', '1995-1837-0013', '1995-1836-0002', '1995-1826-0005', '1995-1837-0005', '1995-1837-0010', '1995-1837-0021', '1995-1826-0002', '1995-1826-0022', '1995-1826-0019', '1995-1826-0016', '1995-1826-0012', '1995-1826-0020', '1995-1826-0009'], \"Alexander's Bridge (version 3)\": ['4446-2275-0017', '4446-2271-0023', '4446-2275-0014', '4446-2275-0003', '4446-2273-0017', '4446-2271-0022', '4446-2273-0014', '4446-2273-0026', '4446-2275-0018', '4446-2273-0013', '4446-2271-0019', '4446-2273-0027', '4446-2273-0018', '4446-2275-0035', '4446-2275-0038', '4446-2271-0010', '4446-2273-0012', '4446-2273-0002', '4446-2271-0024', '4446-2273-0019', '4446-2273-0029', '4446-2273-0009', '4446-2275-0042', '4446-2273-0034', '4446-2275-0001', '4446-2273-0015', '4446-2273-0023', '4446-2273-0028', '4446-2273-0005', '4446-2273-0004', '4446-2275-0026', '4446-2273-0022'], \"Commentary on St. Paul's Epistle to the Galatians\": ['2830-3980-0033', '2830-3979-0012', '2830-3979-0010', '2830-3980-0064', '2830-3980-0044', '2830-3980-0027', '2830-3980-0002', '2830-3980-0049', '2830-3980-0045', '2830-3980-0020', '2830-3979-0002', '2830-3980-0018', '2830-3980-0021', '2830-3980-0046', '2830-3980-0060', '2830-3980-0004', '2830-3980-0041', '2830-3980-0063', '2830-3980-0000', '2830-3980-0053', '2830-3980-0061', '2830-3980-0001', '2830-3980-0038', '2830-3980-0052', '2830-3980-0011', '2830-3980-0017', '2830-3980-0076', '2830-3980-0056', '2830-3980-0036', '2830-3980-0008', '2830-3980-0025', '2830-3980-0005', '2830-3980-0065', '2830-3980-0055', '2830-3980-0010', '2830-3979-0000', '2830-3980-0066', '2830-3980-0051'], 'Theory of the Leisure Class': ['3570-5694-0019', '3570-5696-0004', '3570-5695-0009', '3570-5694-0013', '3570-5694-0004', '3570-5694-0001', '3570-5695-0008'], 'Memoirs of Jacques Casanova Vol. 2': ['3729-6852-0025', '3729-6852-0030', '3729-6852-0031', '3729-6852-0019', '3729-6852-0038', '3729-6852-0028', '3729-6852-0044', '3729-6852-0011'], \"Story of 'Mormonism'\": ['4077-13751-0019', '4077-13754-0001', '4077-13751-0013', '4077-13754-0003', '4077-13751-0017', '4077-13751-0001'], 'Miserables Vol. 4': ['4507-16021-0008', '4507-16021-0012', '4507-16021-0057', '4507-16021-0054', '4507-16021-0024', '4507-16021-0005', '4507-16021-0029', '4507-16021-0058', '4507-16021-0003', '4507-16021-0011', '4507-16021-0043', '4507-16021-0050', '4507-16021-0052', '4507-16021-0059', '4507-16021-0051', '4507-16021-0055', '4507-16021-0035', '4507-16021-0048', '4507-16021-0033', '4507-16021-0053'], 'Off on a Comet': ['5105-28240-0014', '5105-28241-0003', '5105-28240-0018', '5105-28233-0001', '5105-28240-0011'], 'Gilded Age': ['4970-29093-0008', '4970-29093-0015', '4970-29093-0007'], 'Sonnets from the Portuguese (version 2)': [], \"Wylder's Hand\": ['5683-32865-0014', '5683-32879-0021', '5683-32866-0015', '5683-32879-0012', '5683-32865-0015', '5683-32879-0023', '5683-32866-0025', '5683-32866-0027', '5683-32866-0005', '5683-32865-0008', '5683-32879-0010'], 'Viking Tales': ['5142-33396-0017', '5142-33396-0008', '5142-33396-0029', '5142-33396-0061', '5142-33396-0005', '5142-33396-0040', '5142-33396-0020', '5142-33396-0062', '5142-33396-0021', '5142-33396-0033'], 'Dead Alive': [], 'Descent of Man and Selection in Relation to Sex, Part 1': ['5142-36586-0004'], 'Exemplary Novels of Miguel de Cervantes Saavedra': [], 'Mother Careys Chickens': ['4992-41797-0012', '4992-41797-0022'], \"Aunt Jane's Nieces at Work\": ['6829-68771-0034', '6829-68769-0046', '6829-68769-0016', '6829-68771-0003', '6829-68771-0028', '6829-68769-0011', '6829-68769-0051', '6829-68769-0035', '6829-68769-0007', '6829-68771-0023', '6829-68771-0022', '6829-68769-0022', '6829-68771-0035', '6829-68771-0006', '6829-68769-0049', '6829-68769-0032', '6829-68771-0024'], 'Robin Hood.': [], 'Ten Years Later': ['6930-75918-0010', '7127-75947-0017', '6930-75918-0013', '7127-75946-0011', '7127-75947-0030', '7127-75947-0002', '7127-75947-0008', '7127-75947-0011', '6930-75918-0007', '7127-75946-0025', '7127-75947-0034', '6930-75918-0011', '7127-75947-0029', '7127-75946-0009', '7127-75947-0035', '7127-75947-0003', '7127-75947-0015', '7127-75946-0015', '7127-75947-0024', '7127-75946-0012'], 'Boarded Up House': ['6930-76324-0026', '6930-76324-0014', '6930-76324-0009', '6930-76324-0023', '6930-76324-0017', '6930-76324-0002', '6930-76324-0020', '6930-76324-0008'], 'Gentle Measures in the Management and Training of the Young': ['7021-79759-0000', '7021-79740-0009', '7021-79759-0002', '7021-79740-0001'], 'Weapons of Mystery': ['6930-81414-0021', '6930-81414-0018', '6930-81414-0017', '6930-81414-0015', '6930-81414-0010', '6930-81414-0003', '6930-81414-0011', '6930-81414-0007', '6930-81414-0020'], 'Book of Stories for the Storyteller': ['7021-85628-0016', '7021-85628-0010', '7021-85628-0020', '7021-85628-0012'], 'Hoof and Claw': ['7176-88083-0008', '7176-88083-0017', '7176-88083-0010', '7176-88083-0003'], 'Sunny Side': ['7176-92135-0002', '7176-92135-0013', '7176-92135-0009', '7176-92135-0028', '7176-92135-0032', '7176-92135-0003', '7176-92135-0001', '7176-92135-0036'], 'Abraham Lincoln: A History (Volume 1)': ['7729-102255-0034', '7729-102255-0013', '7729-102255-0023', '7729-102255-0005', '7729-102255-0014', '7729-102255-0045', '7729-102255-0033'], 'Foolish Dictionary': ['121-121726-0006', '121-121726-0011', '121-121726-0008', '121-121726-0004', '121-121726-0001', '121-121726-0009', '121-121726-0003', '121-121726-0007'], 'Last of the Mohicans': ['1320-122612-0014', '1320-122617-0008', '1320-122617-0006', '1320-122617-0017'], 'Andersens Fairy Tales': ['672-122797-0047', '672-122797-0035', '672-122797-0057', '672-122797-0043', '672-122797-0052', '672-122797-0044', '672-122797-0027', '672-122797-0036', '672-122797-0003', '672-122797-0056', '672-122797-0050', '672-122797-0069', '672-122797-0040', '672-122797-0021', '672-122797-0030', '672-122797-0066', '672-122797-0072', '672-122797-0070', '672-122797-0013'], 'Journey to the Interior of the Earth': ['260-123286-0012', '260-123286-0011', '260-123288-0004', '260-123286-0004', '260-123286-0008', '260-123288-0006', '260-123288-0016', '260-123288-0020', '260-123288-0009', '260-123288-0008', '260-123286-0015', '260-123286-0005'], \"Alice's Adventures in Wonderland\": [], \"Shakespeare's Sonnets\": [], 'Five Little Peppers and How They Grew': ['237-126133-0012', '237-126133-0021'], 'Turn of the Screw': ['121-127105-0009', '121-127105-0032', '121-127105-0010', '121-127105-0015', '121-127105-0011'], 'Edison, His Life and Inventions': ['2300-131720-0041', '2300-131720-0006', '2300-131720-0008'], 'Lectures on Landscape': ['1188-133604-0013', '1188-133604-0029', '1188-133604-0031', '1188-133604-0010'], 'O Pioneers!': ['237-134500-0019', '237-134500-0042', '237-134500-0017', '237-134500-0035', '237-134500-0026', '237-134500-0003', '237-134500-0007', '237-134500-0030', '237-134500-0023', '237-134500-0011', '237-134493-0012', '237-134500-0008', '237-134500-0040', '237-134500-0010', '237-134500-0002', '237-134493-0006', '237-134500-0039', '237-134500-0024', '237-134500-0033', '237-134493-0011', '237-134493-0001', '237-134500-0022'], 'History of the Decline and Fall of the Roman Empire Vol. II': [], 'Portrait of the Artist as a Young Man': ['1089-134686-0003', '1089-134686-0014', '1089-134686-0001', '1089-134691-0019', '1089-134686-0027', '1089-134686-0035', '1089-134686-0029', '1089-134686-0032', '1089-134686-0015', '1089-134691-0001', '1089-134686-0002'], 'Scarlet Letter': ['1221-135767-0020', '1221-135766-0015', '1221-135767-0008', '1221-135766-0013', '1221-135766-0014', '1221-135767-0005', '1221-135767-0024', '1221-135766-0004'], 'Return of Sherlock Holmes': ['1580-141084-0036', '1580-141084-0043', '1580-141084-0006', '1580-141084-0013', '1580-141083-0053', '1580-141083-0052', '1580-141083-0005', '1580-141084-0018', '1580-141084-0020', '1580-141083-0011', '1580-141084-0038', '1580-141083-0049', '1580-141083-0047', '1580-141084-0015', '1580-141083-0039', '1580-141084-0035', '1580-141084-0014', '1580-141083-0048', '1580-141083-0014', '1580-141083-0046', '1580-141083-0023', '1580-141083-0013', '1580-141083-0008', '1580-141084-0045', '1580-141083-0025', '1580-141083-0024', '1580-141083-0015', '1580-141083-0016', '1580-141084-0042', '1580-141083-0007', '1580-141084-0011', '1580-141084-0009', '1580-141084-0039', '1580-141083-0037'], 'Adam Bede': ['2094-142345-0004', '2094-142345-0060', '2094-142345-0026', '2094-142345-0025', '2094-142345-0020', '2094-142345-0055', '2094-142345-0018', '2094-142345-0032', '2094-142345-0056', '2094-142345-0051', '2094-142345-0052'], 'Poems of William Blake': ['908-157963-0002', '908-157963-0003', '908-157963-0024', '908-157963-0022', '908-157963-0016'], 'Life Of Charlotte Bronte Volume 1': ['3575-170457-0049', '3575-170457-0004', '3575-170457-0001', '3575-170457-0034', '3575-170457-0021', '3575-170457-0048', '3575-170457-0029', '3575-170457-0014', '3575-170457-0040', '3575-170457-0012'], 'Fixed Period': ['8455-210777-0029', '8455-210777-0021', '8455-210777-0009', '8455-210777-0026', '8455-210777-0037', '8455-210777-0062', '8455-210777-0056', '8455-210777-0064', '8455-210777-0024'], 'History of England from the Invasion of Julius Caesar to the Revolution of 1688, Volume 1E': [], 'Analysis of Mind': ['8230-279154-0012', '8230-279154-0003', '8230-279154-0008', '8230-279154-0011', '8230-279154-0024', '8230-279154-0022', '8230-279154-0035', '8230-279154-0015'], 'Underground Railroad, Part 4': ['8463-287645-0008', '8463-287645-0001', '8463-287645-0012', '8463-287645-0009', '8463-287645-0010', '8463-287645-0011'], 'Eight Harvard Poets': ['8555-292519-0004'], 'Twenty Thousand Leagues Under The Sea (version 3)': ['8463-294828-0018', '8463-294828-0022', '8463-294828-0025', '8463-294828-0004', '8463-294828-0008', '8463-294828-0026', '8463-294828-0024', '8463-294828-0011', '8463-294828-0019', '8463-294828-0020', '8463-294825-0010', '8463-294825-0005', '8463-294828-0014', '8463-294828-0002', '8463-294828-0033', '8463-294828-0013']}\n"
          ],
          "name": "stdout"
        }
      ]
    },
    {
      "cell_type": "code",
      "metadata": {
        "colab": {
          "base_uri": "https://localhost:8080/"
        },
        "id": "Cecg0AxTLVPE",
        "outputId": "1955cee2-7647-4e9f-96bd-262436ece2cd"
      },
      "source": [
        "num_remaining_books = 0\n",
        "num_sentences_1 = 0\n",
        "num_sentences_2 = 0\n",
        "num_sentences_3 = 0\n",
        "num_sentences_4 = 0 \n",
        "\n",
        "data = {'book title': [],\n",
        "        'book year': [],\n",
        "        'number of sentences': []\n",
        "        }\n",
        "for book in dict_books.keys():\n",
        "  year = 0\n",
        "  for b in books_table:\n",
        "    if b[0]==book:\n",
        "      year = b[1]\n",
        "      break\n",
        "  data['book title'].append(book)\n",
        "  data['book year'].append(year)\n",
        "  data['number of sentences'].append(len(dict_books[book]))\n",
        "  if len(dict_books[book]) == 1:\n",
        "    num_sentences_1 += 1\n",
        "  if len(dict_books[book]) == 2:\n",
        "    num_sentences_2 += 1\n",
        "  if len(dict_books[book]) == 3:\n",
        "    num_sentences_3 += 1\n",
        "  if len(dict_books[book]) == 4:\n",
        "    num_sentences_4 += 1  \n",
        "  # print('{:>60}  {:>12}  {:>12}'.format(book[:55], year, len(dict_books[book])))\n",
        "  if len(dict_books[book]) > 0:\n",
        "    num_remaining_books += 1\n",
        "print(\"Total number of different books still having sentences:\", num_remaining_books,\"/\",len(books_table))\n",
        "df = pd.DataFrame (data, columns = ['book title','book year','number of sentences'])"
      ],
      "execution_count": null,
      "outputs": [
        {
          "output_type": "stream",
          "text": [
            "Total number of different books still having sentences: 93 / 117\n"
          ],
          "name": "stdout"
        }
      ]
    },
    {
      "cell_type": "code",
      "metadata": {
        "colab": {
          "base_uri": "https://localhost:8080/",
          "height": 1000
        },
        "id": "D1nA1kudUozJ",
        "outputId": "001a47c1-612a-455c-e2f5-6fffbe08b18e"
      },
      "source": [
        "df.sort_values(by=['number of sentences'], ascending=False).style.hide_index()"
      ],
      "execution_count": null,
      "outputs": [
        {
          "output_type": "execute_result",
          "data": {
            "text/html": [
              "<style  type=\"text/css\" >\n",
              "</style><table id=\"T_d55396e4_b70c_11eb_aec9_0242ac1c0002\" ><thead>    <tr>        <th class=\"col_heading level0 col0\" >book title</th>        <th class=\"col_heading level0 col1\" >book year</th>        <th class=\"col_heading level0 col2\" >number of sentences</th>    </tr></thead><tbody>\n",
              "                <tr>\n",
              "                                <td id=\"T_d55396e4_b70c_11eb_aec9_0242ac1c0002row0_col0\" class=\"data row0 col0\" >Commentary on St. Paul's Epistle to the Galatians</td>\n",
              "                        <td id=\"T_d55396e4_b70c_11eb_aec9_0242ac1c0002row0_col1\" class=\"data row0 col1\" >1851</td>\n",
              "                        <td id=\"T_d55396e4_b70c_11eb_aec9_0242ac1c0002row0_col2\" class=\"data row0 col2\" >38</td>\n",
              "            </tr>\n",
              "            <tr>\n",
              "                                <td id=\"T_d55396e4_b70c_11eb_aec9_0242ac1c0002row1_col0\" class=\"data row1 col0\" >My Antonia</td>\n",
              "                        <td id=\"T_d55396e4_b70c_11eb_aec9_0242ac1c0002row1_col1\" class=\"data row1 col1\" >1918</td>\n",
              "                        <td id=\"T_d55396e4_b70c_11eb_aec9_0242ac1c0002row1_col2\" class=\"data row1 col2\" >38</td>\n",
              "            </tr>\n",
              "            <tr>\n",
              "                                <td id=\"T_d55396e4_b70c_11eb_aec9_0242ac1c0002row2_col0\" class=\"data row2 col0\" >Return of Sherlock Holmes</td>\n",
              "                        <td id=\"T_d55396e4_b70c_11eb_aec9_0242ac1c0002row2_col1\" class=\"data row2 col1\" >1905</td>\n",
              "                        <td id=\"T_d55396e4_b70c_11eb_aec9_0242ac1c0002row2_col2\" class=\"data row2 col2\" >34</td>\n",
              "            </tr>\n",
              "            <tr>\n",
              "                                <td id=\"T_d55396e4_b70c_11eb_aec9_0242ac1c0002row3_col0\" class=\"data row3 col0\" >Sister Carrie</td>\n",
              "                        <td id=\"T_d55396e4_b70c_11eb_aec9_0242ac1c0002row3_col1\" class=\"data row3 col1\" >1900</td>\n",
              "                        <td id=\"T_d55396e4_b70c_11eb_aec9_0242ac1c0002row3_col2\" class=\"data row3 col2\" >34</td>\n",
              "            </tr>\n",
              "            <tr>\n",
              "                                <td id=\"T_d55396e4_b70c_11eb_aec9_0242ac1c0002row4_col0\" class=\"data row4 col0\" >Alexander's Bridge (version 2)</td>\n",
              "                        <td id=\"T_d55396e4_b70c_11eb_aec9_0242ac1c0002row4_col1\" class=\"data row4 col1\" >1912</td>\n",
              "                        <td id=\"T_d55396e4_b70c_11eb_aec9_0242ac1c0002row4_col2\" class=\"data row4 col2\" >34</td>\n",
              "            </tr>\n",
              "            <tr>\n",
              "                                <td id=\"T_d55396e4_b70c_11eb_aec9_0242ac1c0002row5_col0\" class=\"data row5 col0\" >Alexander's Bridge (version 3)</td>\n",
              "                        <td id=\"T_d55396e4_b70c_11eb_aec9_0242ac1c0002row5_col1\" class=\"data row5 col1\" >1912</td>\n",
              "                        <td id=\"T_d55396e4_b70c_11eb_aec9_0242ac1c0002row5_col2\" class=\"data row5 col2\" >32</td>\n",
              "            </tr>\n",
              "            <tr>\n",
              "                                <td id=\"T_d55396e4_b70c_11eb_aec9_0242ac1c0002row6_col0\" class=\"data row6 col0\" >For the Term of His Natural Life</td>\n",
              "                        <td id=\"T_d55396e4_b70c_11eb_aec9_0242ac1c0002row6_col1\" class=\"data row6 col1\" >1897</td>\n",
              "                        <td id=\"T_d55396e4_b70c_11eb_aec9_0242ac1c0002row6_col2\" class=\"data row6 col2\" >30</td>\n",
              "            </tr>\n",
              "            <tr>\n",
              "                                <td id=\"T_d55396e4_b70c_11eb_aec9_0242ac1c0002row7_col0\" class=\"data row7 col0\" >Initials Only</td>\n",
              "                        <td id=\"T_d55396e4_b70c_11eb_aec9_0242ac1c0002row7_col1\" class=\"data row7 col1\" >1851</td>\n",
              "                        <td id=\"T_d55396e4_b70c_11eb_aec9_0242ac1c0002row7_col2\" class=\"data row7 col2\" >27</td>\n",
              "            </tr>\n",
              "            <tr>\n",
              "                                <td id=\"T_d55396e4_b70c_11eb_aec9_0242ac1c0002row8_col0\" class=\"data row8 col0\" >Amusement Only</td>\n",
              "                        <td id=\"T_d55396e4_b70c_11eb_aec9_0242ac1c0002row8_col1\" class=\"data row8 col1\" >1859</td>\n",
              "                        <td id=\"T_d55396e4_b70c_11eb_aec9_0242ac1c0002row8_col2\" class=\"data row8 col2\" >26</td>\n",
              "            </tr>\n",
              "            <tr>\n",
              "                                <td id=\"T_d55396e4_b70c_11eb_aec9_0242ac1c0002row9_col0\" class=\"data row9 col0\" >Man Who Laughs</td>\n",
              "                        <td id=\"T_d55396e4_b70c_11eb_aec9_0242ac1c0002row9_col1\" class=\"data row9 col1\" >1888</td>\n",
              "                        <td id=\"T_d55396e4_b70c_11eb_aec9_0242ac1c0002row9_col2\" class=\"data row9 col2\" >24</td>\n",
              "            </tr>\n",
              "            <tr>\n",
              "                                <td id=\"T_d55396e4_b70c_11eb_aec9_0242ac1c0002row10_col0\" class=\"data row10 col0\" >O Pioneers!</td>\n",
              "                        <td id=\"T_d55396e4_b70c_11eb_aec9_0242ac1c0002row10_col1\" class=\"data row10 col1\" >1913</td>\n",
              "                        <td id=\"T_d55396e4_b70c_11eb_aec9_0242ac1c0002row10_col2\" class=\"data row10 col2\" >22</td>\n",
              "            </tr>\n",
              "            <tr>\n",
              "                                <td id=\"T_d55396e4_b70c_11eb_aec9_0242ac1c0002row11_col0\" class=\"data row11 col0\" >Mary Marston</td>\n",
              "                        <td id=\"T_d55396e4_b70c_11eb_aec9_0242ac1c0002row11_col1\" class=\"data row11 col1\" >1881</td>\n",
              "                        <td id=\"T_d55396e4_b70c_11eb_aec9_0242ac1c0002row11_col2\" class=\"data row11 col2\" >21</td>\n",
              "            </tr>\n",
              "            <tr>\n",
              "                                <td id=\"T_d55396e4_b70c_11eb_aec9_0242ac1c0002row12_col0\" class=\"data row12 col0\" >Miserables Vol. 4</td>\n",
              "                        <td id=\"T_d55396e4_b70c_11eb_aec9_0242ac1c0002row12_col1\" class=\"data row12 col1\" >1875</td>\n",
              "                        <td id=\"T_d55396e4_b70c_11eb_aec9_0242ac1c0002row12_col2\" class=\"data row12 col2\" >20</td>\n",
              "            </tr>\n",
              "            <tr>\n",
              "                                <td id=\"T_d55396e4_b70c_11eb_aec9_0242ac1c0002row13_col0\" class=\"data row13 col0\" >'Co. Aytch,' Maury Grays, First Tennessee Regiment or, A Side Show of the Big Show</td>\n",
              "                        <td id=\"T_d55396e4_b70c_11eb_aec9_0242ac1c0002row13_col1\" class=\"data row13 col1\" >1886</td>\n",
              "                        <td id=\"T_d55396e4_b70c_11eb_aec9_0242ac1c0002row13_col2\" class=\"data row13 col2\" >20</td>\n",
              "            </tr>\n",
              "            <tr>\n",
              "                                <td id=\"T_d55396e4_b70c_11eb_aec9_0242ac1c0002row14_col0\" class=\"data row14 col0\" >Ten Years Later</td>\n",
              "                        <td id=\"T_d55396e4_b70c_11eb_aec9_0242ac1c0002row14_col1\" class=\"data row14 col1\" >1893</td>\n",
              "                        <td id=\"T_d55396e4_b70c_11eb_aec9_0242ac1c0002row14_col2\" class=\"data row14 col2\" >20</td>\n",
              "            </tr>\n",
              "            <tr>\n",
              "                                <td id=\"T_d55396e4_b70c_11eb_aec9_0242ac1c0002row15_col0\" class=\"data row15 col0\" >Evil Genius</td>\n",
              "                        <td id=\"T_d55396e4_b70c_11eb_aec9_0242ac1c0002row15_col1\" class=\"data row15 col1\" >1907</td>\n",
              "                        <td id=\"T_d55396e4_b70c_11eb_aec9_0242ac1c0002row15_col2\" class=\"data row15 col2\" >19</td>\n",
              "            </tr>\n",
              "            <tr>\n",
              "                                <td id=\"T_d55396e4_b70c_11eb_aec9_0242ac1c0002row16_col0\" class=\"data row16 col0\" >Andersens Fairy Tales</td>\n",
              "                        <td id=\"T_d55396e4_b70c_11eb_aec9_0242ac1c0002row16_col1\" class=\"data row16 col1\" >1909</td>\n",
              "                        <td id=\"T_d55396e4_b70c_11eb_aec9_0242ac1c0002row16_col2\" class=\"data row16 col2\" >19</td>\n",
              "            </tr>\n",
              "            <tr>\n",
              "                                <td id=\"T_d55396e4_b70c_11eb_aec9_0242ac1c0002row17_col0\" class=\"data row17 col0\" >Aunt Jane's Nieces at Work</td>\n",
              "                        <td id=\"T_d55396e4_b70c_11eb_aec9_0242ac1c0002row17_col1\" class=\"data row17 col1\" >1906</td>\n",
              "                        <td id=\"T_d55396e4_b70c_11eb_aec9_0242ac1c0002row17_col2\" class=\"data row17 col2\" >17</td>\n",
              "            </tr>\n",
              "            <tr>\n",
              "                                <td id=\"T_d55396e4_b70c_11eb_aec9_0242ac1c0002row18_col0\" class=\"data row18 col0\" >Book of Household Management</td>\n",
              "                        <td id=\"T_d55396e4_b70c_11eb_aec9_0242ac1c0002row18_col1\" class=\"data row18 col1\" >1861</td>\n",
              "                        <td id=\"T_d55396e4_b70c_11eb_aec9_0242ac1c0002row18_col2\" class=\"data row18 col2\" >17</td>\n",
              "            </tr>\n",
              "            <tr>\n",
              "                                <td id=\"T_d55396e4_b70c_11eb_aec9_0242ac1c0002row19_col0\" class=\"data row19 col0\" >Quest of the Silver Fleece</td>\n",
              "                        <td id=\"T_d55396e4_b70c_11eb_aec9_0242ac1c0002row19_col1\" class=\"data row19 col1\" >1911</td>\n",
              "                        <td id=\"T_d55396e4_b70c_11eb_aec9_0242ac1c0002row19_col2\" class=\"data row19 col2\" >16</td>\n",
              "            </tr>\n",
              "            <tr>\n",
              "                                <td id=\"T_d55396e4_b70c_11eb_aec9_0242ac1c0002row20_col0\" class=\"data row20 col0\" >Twenty Thousand Leagues Under The Sea (version 3)</td>\n",
              "                        <td id=\"T_d55396e4_b70c_11eb_aec9_0242ac1c0002row20_col1\" class=\"data row20 col1\" >1873</td>\n",
              "                        <td id=\"T_d55396e4_b70c_11eb_aec9_0242ac1c0002row20_col2\" class=\"data row20 col2\" >16</td>\n",
              "            </tr>\n",
              "            <tr>\n",
              "                                <td id=\"T_d55396e4_b70c_11eb_aec9_0242ac1c0002row21_col0\" class=\"data row21 col0\" >Journey to the Centre of the Earth</td>\n",
              "                        <td id=\"T_d55396e4_b70c_11eb_aec9_0242ac1c0002row21_col1\" class=\"data row21 col1\" >1905</td>\n",
              "                        <td id=\"T_d55396e4_b70c_11eb_aec9_0242ac1c0002row21_col2\" class=\"data row21 col2\" >16</td>\n",
              "            </tr>\n",
              "            <tr>\n",
              "                                <td id=\"T_d55396e4_b70c_11eb_aec9_0242ac1c0002row22_col0\" class=\"data row22 col0\" >In Search of the Castaways</td>\n",
              "                        <td id=\"T_d55396e4_b70c_11eb_aec9_0242ac1c0002row22_col1\" class=\"data row22 col1\" >1873</td>\n",
              "                        <td id=\"T_d55396e4_b70c_11eb_aec9_0242ac1c0002row22_col2\" class=\"data row22 col2\" >14</td>\n",
              "            </tr>\n",
              "            <tr>\n",
              "                                <td id=\"T_d55396e4_b70c_11eb_aec9_0242ac1c0002row23_col0\" class=\"data row23 col0\" >Soul of the Indian</td>\n",
              "                        <td id=\"T_d55396e4_b70c_11eb_aec9_0242ac1c0002row23_col1\" class=\"data row23 col1\" >1911</td>\n",
              "                        <td id=\"T_d55396e4_b70c_11eb_aec9_0242ac1c0002row23_col2\" class=\"data row23 col2\" >13</td>\n",
              "            </tr>\n",
              "            <tr>\n",
              "                                <td id=\"T_d55396e4_b70c_11eb_aec9_0242ac1c0002row24_col0\" class=\"data row24 col0\" >House of the Seven Gables (Version 2)</td>\n",
              "                        <td id=\"T_d55396e4_b70c_11eb_aec9_0242ac1c0002row24_col1\" class=\"data row24 col1\" >1875</td>\n",
              "                        <td id=\"T_d55396e4_b70c_11eb_aec9_0242ac1c0002row24_col2\" class=\"data row24 col2\" >13</td>\n",
              "            </tr>\n",
              "            <tr>\n",
              "                                <td id=\"T_d55396e4_b70c_11eb_aec9_0242ac1c0002row25_col0\" class=\"data row25 col0\" >Journey to the Interior of the Earth</td>\n",
              "                        <td id=\"T_d55396e4_b70c_11eb_aec9_0242ac1c0002row25_col1\" class=\"data row25 col1\" >1876</td>\n",
              "                        <td id=\"T_d55396e4_b70c_11eb_aec9_0242ac1c0002row25_col2\" class=\"data row25 col2\" >12</td>\n",
              "            </tr>\n",
              "            <tr>\n",
              "                                <td id=\"T_d55396e4_b70c_11eb_aec9_0242ac1c0002row26_col0\" class=\"data row26 col0\" >Islands of Magic</td>\n",
              "                        <td id=\"T_d55396e4_b70c_11eb_aec9_0242ac1c0002row26_col1\" class=\"data row26 col1\" >1922</td>\n",
              "                        <td id=\"T_d55396e4_b70c_11eb_aec9_0242ac1c0002row26_col2\" class=\"data row26 col2\" >11</td>\n",
              "            </tr>\n",
              "            <tr>\n",
              "                                <td id=\"T_d55396e4_b70c_11eb_aec9_0242ac1c0002row27_col0\" class=\"data row27 col0\" >With Fire and Sword (Byers)</td>\n",
              "                        <td id=\"T_d55396e4_b70c_11eb_aec9_0242ac1c0002row27_col1\" class=\"data row27 col1\" >1911</td>\n",
              "                        <td id=\"T_d55396e4_b70c_11eb_aec9_0242ac1c0002row27_col2\" class=\"data row27 col2\" >11</td>\n",
              "            </tr>\n",
              "            <tr>\n",
              "                                <td id=\"T_d55396e4_b70c_11eb_aec9_0242ac1c0002row28_col0\" class=\"data row28 col0\" >Portrait of the Artist as a Young Man</td>\n",
              "                        <td id=\"T_d55396e4_b70c_11eb_aec9_0242ac1c0002row28_col1\" class=\"data row28 col1\" >1922</td>\n",
              "                        <td id=\"T_d55396e4_b70c_11eb_aec9_0242ac1c0002row28_col2\" class=\"data row28 col2\" >11</td>\n",
              "            </tr>\n",
              "            <tr>\n",
              "                                <td id=\"T_d55396e4_b70c_11eb_aec9_0242ac1c0002row29_col0\" class=\"data row29 col0\" >Adam Bede</td>\n",
              "                        <td id=\"T_d55396e4_b70c_11eb_aec9_0242ac1c0002row29_col1\" class=\"data row29 col1\" >1905</td>\n",
              "                        <td id=\"T_d55396e4_b70c_11eb_aec9_0242ac1c0002row29_col2\" class=\"data row29 col2\" >11</td>\n",
              "            </tr>\n",
              "            <tr>\n",
              "                                <td id=\"T_d55396e4_b70c_11eb_aec9_0242ac1c0002row30_col0\" class=\"data row30 col0\" >Wylder's Hand</td>\n",
              "                        <td id=\"T_d55396e4_b70c_11eb_aec9_0242ac1c0002row30_col1\" class=\"data row30 col1\" >1865</td>\n",
              "                        <td id=\"T_d55396e4_b70c_11eb_aec9_0242ac1c0002row30_col2\" class=\"data row30 col2\" >11</td>\n",
              "            </tr>\n",
              "            <tr>\n",
              "                                <td id=\"T_d55396e4_b70c_11eb_aec9_0242ac1c0002row31_col0\" class=\"data row31 col0\" >Bohemian San Francisco</td>\n",
              "                        <td id=\"T_d55396e4_b70c_11eb_aec9_0242ac1c0002row31_col1\" class=\"data row31 col1\" >1895</td>\n",
              "                        <td id=\"T_d55396e4_b70c_11eb_aec9_0242ac1c0002row31_col2\" class=\"data row31 col2\" >10</td>\n",
              "            </tr>\n",
              "            <tr>\n",
              "                                <td id=\"T_d55396e4_b70c_11eb_aec9_0242ac1c0002row32_col0\" class=\"data row32 col0\" >It's Like This, Cat (Version 2)</td>\n",
              "                        <td id=\"T_d55396e4_b70c_11eb_aec9_0242ac1c0002row32_col1\" class=\"data row32 col1\" >1868</td>\n",
              "                        <td id=\"T_d55396e4_b70c_11eb_aec9_0242ac1c0002row32_col2\" class=\"data row32 col2\" >10</td>\n",
              "            </tr>\n",
              "            <tr>\n",
              "                                <td id=\"T_d55396e4_b70c_11eb_aec9_0242ac1c0002row33_col0\" class=\"data row33 col0\" >Viking Tales</td>\n",
              "                        <td id=\"T_d55396e4_b70c_11eb_aec9_0242ac1c0002row33_col1\" class=\"data row33 col1\" >1882</td>\n",
              "                        <td id=\"T_d55396e4_b70c_11eb_aec9_0242ac1c0002row33_col2\" class=\"data row33 col2\" >10</td>\n",
              "            </tr>\n",
              "            <tr>\n",
              "                                <td id=\"T_d55396e4_b70c_11eb_aec9_0242ac1c0002row34_col0\" class=\"data row34 col0\" >Life Of Charlotte Bronte Volume 1</td>\n",
              "                        <td id=\"T_d55396e4_b70c_11eb_aec9_0242ac1c0002row34_col1\" class=\"data row34 col1\" >1857</td>\n",
              "                        <td id=\"T_d55396e4_b70c_11eb_aec9_0242ac1c0002row34_col2\" class=\"data row34 col2\" >10</td>\n",
              "            </tr>\n",
              "            <tr>\n",
              "                                <td id=\"T_d55396e4_b70c_11eb_aec9_0242ac1c0002row35_col0\" class=\"data row35 col0\" >Patchwork Girl of Oz</td>\n",
              "                        <td id=\"T_d55396e4_b70c_11eb_aec9_0242ac1c0002row35_col1\" class=\"data row35 col1\" >2013</td>\n",
              "                        <td id=\"T_d55396e4_b70c_11eb_aec9_0242ac1c0002row35_col2\" class=\"data row35 col2\" >9</td>\n",
              "            </tr>\n",
              "            <tr>\n",
              "                                <td id=\"T_d55396e4_b70c_11eb_aec9_0242ac1c0002row36_col0\" class=\"data row36 col0\" >Fixed Period</td>\n",
              "                        <td id=\"T_d55396e4_b70c_11eb_aec9_0242ac1c0002row36_col1\" class=\"data row36 col1\" >1882</td>\n",
              "                        <td id=\"T_d55396e4_b70c_11eb_aec9_0242ac1c0002row36_col2\" class=\"data row36 col2\" >9</td>\n",
              "            </tr>\n",
              "            <tr>\n",
              "                                <td id=\"T_d55396e4_b70c_11eb_aec9_0242ac1c0002row37_col0\" class=\"data row37 col0\" >Weapons of Mystery</td>\n",
              "                        <td id=\"T_d55396e4_b70c_11eb_aec9_0242ac1c0002row37_col1\" class=\"data row37 col1\" >1991</td>\n",
              "                        <td id=\"T_d55396e4_b70c_11eb_aec9_0242ac1c0002row37_col2\" class=\"data row37 col2\" >9</td>\n",
              "            </tr>\n",
              "            <tr>\n",
              "                                <td id=\"T_d55396e4_b70c_11eb_aec9_0242ac1c0002row38_col0\" class=\"data row38 col0\" >Guns of Bull Run</td>\n",
              "                        <td id=\"T_d55396e4_b70c_11eb_aec9_0242ac1c0002row38_col1\" class=\"data row38 col1\" >1899</td>\n",
              "                        <td id=\"T_d55396e4_b70c_11eb_aec9_0242ac1c0002row38_col2\" class=\"data row38 col2\" >9</td>\n",
              "            </tr>\n",
              "            <tr>\n",
              "                                <td id=\"T_d55396e4_b70c_11eb_aec9_0242ac1c0002row39_col0\" class=\"data row39 col0\" >Boarded Up House</td>\n",
              "                        <td id=\"T_d55396e4_b70c_11eb_aec9_0242ac1c0002row39_col1\" class=\"data row39 col1\" >1947</td>\n",
              "                        <td id=\"T_d55396e4_b70c_11eb_aec9_0242ac1c0002row39_col2\" class=\"data row39 col2\" >8</td>\n",
              "            </tr>\n",
              "            <tr>\n",
              "                                <td id=\"T_d55396e4_b70c_11eb_aec9_0242ac1c0002row40_col0\" class=\"data row40 col0\" >Sky Island (version 2)</td>\n",
              "                        <td id=\"T_d55396e4_b70c_11eb_aec9_0242ac1c0002row40_col1\" class=\"data row40 col1\" >1925</td>\n",
              "                        <td id=\"T_d55396e4_b70c_11eb_aec9_0242ac1c0002row40_col2\" class=\"data row40 col2\" >8</td>\n",
              "            </tr>\n",
              "            <tr>\n",
              "                                <td id=\"T_d55396e4_b70c_11eb_aec9_0242ac1c0002row41_col0\" class=\"data row41 col0\" >Scarlet Letter</td>\n",
              "                        <td id=\"T_d55396e4_b70c_11eb_aec9_0242ac1c0002row41_col1\" class=\"data row41 col1\" >1922</td>\n",
              "                        <td id=\"T_d55396e4_b70c_11eb_aec9_0242ac1c0002row41_col2\" class=\"data row41 col2\" >8</td>\n",
              "            </tr>\n",
              "            <tr>\n",
              "                                <td id=\"T_d55396e4_b70c_11eb_aec9_0242ac1c0002row42_col0\" class=\"data row42 col0\" >Analysis of Mind</td>\n",
              "                        <td id=\"T_d55396e4_b70c_11eb_aec9_0242ac1c0002row42_col1\" class=\"data row42 col1\" >1865</td>\n",
              "                        <td id=\"T_d55396e4_b70c_11eb_aec9_0242ac1c0002row42_col2\" class=\"data row42 col2\" >8</td>\n",
              "            </tr>\n",
              "            <tr>\n",
              "                                <td id=\"T_d55396e4_b70c_11eb_aec9_0242ac1c0002row43_col0\" class=\"data row43 col0\" >Sunny Side</td>\n",
              "                        <td id=\"T_d55396e4_b70c_11eb_aec9_0242ac1c0002row43_col1\" class=\"data row43 col1\" >1851</td>\n",
              "                        <td id=\"T_d55396e4_b70c_11eb_aec9_0242ac1c0002row43_col2\" class=\"data row43 col2\" >8</td>\n",
              "            </tr>\n",
              "            <tr>\n",
              "                                <td id=\"T_d55396e4_b70c_11eb_aec9_0242ac1c0002row44_col0\" class=\"data row44 col0\" >People of the Black Circle</td>\n",
              "                        <td id=\"T_d55396e4_b70c_11eb_aec9_0242ac1c0002row44_col1\" class=\"data row44 col1\" >1977</td>\n",
              "                        <td id=\"T_d55396e4_b70c_11eb_aec9_0242ac1c0002row44_col2\" class=\"data row44 col2\" >8</td>\n",
              "            </tr>\n",
              "            <tr>\n",
              "                                <td id=\"T_d55396e4_b70c_11eb_aec9_0242ac1c0002row45_col0\" class=\"data row45 col0\" >Foolish Dictionary</td>\n",
              "                        <td id=\"T_d55396e4_b70c_11eb_aec9_0242ac1c0002row45_col1\" class=\"data row45 col1\" >1904</td>\n",
              "                        <td id=\"T_d55396e4_b70c_11eb_aec9_0242ac1c0002row45_col2\" class=\"data row45 col2\" >8</td>\n",
              "            </tr>\n",
              "            <tr>\n",
              "                                <td id=\"T_d55396e4_b70c_11eb_aec9_0242ac1c0002row46_col0\" class=\"data row46 col0\" >Memoirs of Jacques Casanova Vol. 2</td>\n",
              "                        <td id=\"T_d55396e4_b70c_11eb_aec9_0242ac1c0002row46_col1\" class=\"data row46 col1\" >1863</td>\n",
              "                        <td id=\"T_d55396e4_b70c_11eb_aec9_0242ac1c0002row46_col2\" class=\"data row46 col2\" >8</td>\n",
              "            </tr>\n",
              "            <tr>\n",
              "                                <td id=\"T_d55396e4_b70c_11eb_aec9_0242ac1c0002row47_col0\" class=\"data row47 col0\" >Work: A Story of Experience</td>\n",
              "                        <td id=\"T_d55396e4_b70c_11eb_aec9_0242ac1c0002row47_col1\" class=\"data row47 col1\" >1873</td>\n",
              "                        <td id=\"T_d55396e4_b70c_11eb_aec9_0242ac1c0002row47_col2\" class=\"data row47 col2\" >8</td>\n",
              "            </tr>\n",
              "            <tr>\n",
              "                                <td id=\"T_d55396e4_b70c_11eb_aec9_0242ac1c0002row48_col0\" class=\"data row48 col0\" >Abraham Lincoln: A History (Volume 1)</td>\n",
              "                        <td id=\"T_d55396e4_b70c_11eb_aec9_0242ac1c0002row48_col1\" class=\"data row48 col1\" >1892</td>\n",
              "                        <td id=\"T_d55396e4_b70c_11eb_aec9_0242ac1c0002row48_col2\" class=\"data row48 col2\" >7</td>\n",
              "            </tr>\n",
              "            <tr>\n",
              "                                <td id=\"T_d55396e4_b70c_11eb_aec9_0242ac1c0002row49_col0\" class=\"data row49 col0\" >Theory of the Leisure Class</td>\n",
              "                        <td id=\"T_d55396e4_b70c_11eb_aec9_0242ac1c0002row49_col1\" class=\"data row49 col1\" >1912</td>\n",
              "                        <td id=\"T_d55396e4_b70c_11eb_aec9_0242ac1c0002row49_col2\" class=\"data row49 col2\" >7</td>\n",
              "            </tr>\n",
              "            <tr>\n",
              "                                <td id=\"T_d55396e4_b70c_11eb_aec9_0242ac1c0002row50_col0\" class=\"data row50 col0\" >Erewhon</td>\n",
              "                        <td id=\"T_d55396e4_b70c_11eb_aec9_0242ac1c0002row50_col1\" class=\"data row50 col1\" >1880</td>\n",
              "                        <td id=\"T_d55396e4_b70c_11eb_aec9_0242ac1c0002row50_col2\" class=\"data row50 col2\" >7</td>\n",
              "            </tr>\n",
              "            <tr>\n",
              "                                <td id=\"T_d55396e4_b70c_11eb_aec9_0242ac1c0002row51_col0\" class=\"data row51 col0\" >Good Things to Eat As Suggested By Rufus</td>\n",
              "                        <td id=\"T_d55396e4_b70c_11eb_aec9_0242ac1c0002row51_col1\" class=\"data row51 col1\" >1877</td>\n",
              "                        <td id=\"T_d55396e4_b70c_11eb_aec9_0242ac1c0002row51_col2\" class=\"data row51 col2\" >7</td>\n",
              "            </tr>\n",
              "            <tr>\n",
              "                                <td id=\"T_d55396e4_b70c_11eb_aec9_0242ac1c0002row52_col0\" class=\"data row52 col0\" >Tom Swift and the Visitor From Planet X</td>\n",
              "                        <td id=\"T_d55396e4_b70c_11eb_aec9_0242ac1c0002row52_col1\" class=\"data row52 col1\" >1954</td>\n",
              "                        <td id=\"T_d55396e4_b70c_11eb_aec9_0242ac1c0002row52_col2\" class=\"data row52 col2\" >7</td>\n",
              "            </tr>\n",
              "            <tr>\n",
              "                                <td id=\"T_d55396e4_b70c_11eb_aec9_0242ac1c0002row53_col0\" class=\"data row53 col0\" >Memoirs of Jacques Casanova Vol. 1</td>\n",
              "                        <td id=\"T_d55396e4_b70c_11eb_aec9_0242ac1c0002row53_col1\" class=\"data row53 col1\" >1894</td>\n",
              "                        <td id=\"T_d55396e4_b70c_11eb_aec9_0242ac1c0002row53_col2\" class=\"data row53 col2\" >7</td>\n",
              "            </tr>\n",
              "            <tr>\n",
              "                                <td id=\"T_d55396e4_b70c_11eb_aec9_0242ac1c0002row54_col0\" class=\"data row54 col0\" >Story of 'Mormonism'</td>\n",
              "                        <td id=\"T_d55396e4_b70c_11eb_aec9_0242ac1c0002row54_col1\" class=\"data row54 col1\" >1875</td>\n",
              "                        <td id=\"T_d55396e4_b70c_11eb_aec9_0242ac1c0002row54_col2\" class=\"data row54 col2\" >6</td>\n",
              "            </tr>\n",
              "            <tr>\n",
              "                                <td id=\"T_d55396e4_b70c_11eb_aec9_0242ac1c0002row55_col0\" class=\"data row55 col0\" >Steep Trails</td>\n",
              "                        <td id=\"T_d55396e4_b70c_11eb_aec9_0242ac1c0002row55_col1\" class=\"data row55 col1\" >1918</td>\n",
              "                        <td id=\"T_d55396e4_b70c_11eb_aec9_0242ac1c0002row55_col2\" class=\"data row55 col2\" >6</td>\n",
              "            </tr>\n",
              "            <tr>\n",
              "                                <td id=\"T_d55396e4_b70c_11eb_aec9_0242ac1c0002row56_col0\" class=\"data row56 col0\" >Underground Railroad, Part 4</td>\n",
              "                        <td id=\"T_d55396e4_b70c_11eb_aec9_0242ac1c0002row56_col1\" class=\"data row56 col1\" >1860</td>\n",
              "                        <td id=\"T_d55396e4_b70c_11eb_aec9_0242ac1c0002row56_col2\" class=\"data row56 col2\" >6</td>\n",
              "            </tr>\n",
              "            <tr>\n",
              "                                <td id=\"T_d55396e4_b70c_11eb_aec9_0242ac1c0002row57_col0\" class=\"data row57 col0\" >Secret Agent</td>\n",
              "                        <td id=\"T_d55396e4_b70c_11eb_aec9_0242ac1c0002row57_col1\" class=\"data row57 col1\" >1899</td>\n",
              "                        <td id=\"T_d55396e4_b70c_11eb_aec9_0242ac1c0002row57_col2\" class=\"data row57 col2\" >6</td>\n",
              "            </tr>\n",
              "            <tr>\n",
              "                                <td id=\"T_d55396e4_b70c_11eb_aec9_0242ac1c0002row58_col0\" class=\"data row58 col0\" >Henrietta Temple</td>\n",
              "                        <td id=\"T_d55396e4_b70c_11eb_aec9_0242ac1c0002row58_col1\" class=\"data row58 col1\" >1859</td>\n",
              "                        <td id=\"T_d55396e4_b70c_11eb_aec9_0242ac1c0002row58_col2\" class=\"data row58 col2\" >5</td>\n",
              "            </tr>\n",
              "            <tr>\n",
              "                                <td id=\"T_d55396e4_b70c_11eb_aec9_0242ac1c0002row59_col0\" class=\"data row59 col0\" >Tik-Tok of Oz</td>\n",
              "                        <td id=\"T_d55396e4_b70c_11eb_aec9_0242ac1c0002row59_col1\" class=\"data row59 col1\" >1914</td>\n",
              "                        <td id=\"T_d55396e4_b70c_11eb_aec9_0242ac1c0002row59_col2\" class=\"data row59 col2\" >5</td>\n",
              "            </tr>\n",
              "            <tr>\n",
              "                                <td id=\"T_d55396e4_b70c_11eb_aec9_0242ac1c0002row60_col0\" class=\"data row60 col0\" >Omnilingual</td>\n",
              "                        <td id=\"T_d55396e4_b70c_11eb_aec9_0242ac1c0002row60_col1\" class=\"data row60 col1\" >2011</td>\n",
              "                        <td id=\"T_d55396e4_b70c_11eb_aec9_0242ac1c0002row60_col2\" class=\"data row60 col2\" >5</td>\n",
              "            </tr>\n",
              "            <tr>\n",
              "                                <td id=\"T_d55396e4_b70c_11eb_aec9_0242ac1c0002row61_col0\" class=\"data row61 col0\" >Planet of the Damned</td>\n",
              "                        <td id=\"T_d55396e4_b70c_11eb_aec9_0242ac1c0002row61_col1\" class=\"data row61 col1\" >1962</td>\n",
              "                        <td id=\"T_d55396e4_b70c_11eb_aec9_0242ac1c0002row61_col2\" class=\"data row61 col2\" >5</td>\n",
              "            </tr>\n",
              "            <tr>\n",
              "                                <td id=\"T_d55396e4_b70c_11eb_aec9_0242ac1c0002row62_col0\" class=\"data row62 col0\" >Among the Pond People</td>\n",
              "                        <td id=\"T_d55396e4_b70c_11eb_aec9_0242ac1c0002row62_col1\" class=\"data row62 col1\" >1891</td>\n",
              "                        <td id=\"T_d55396e4_b70c_11eb_aec9_0242ac1c0002row62_col2\" class=\"data row62 col2\" >5</td>\n",
              "            </tr>\n",
              "            <tr>\n",
              "                                <td id=\"T_d55396e4_b70c_11eb_aec9_0242ac1c0002row63_col0\" class=\"data row63 col0\" >My Book Of Favourite Fairy Tales</td>\n",
              "                        <td id=\"T_d55396e4_b70c_11eb_aec9_0242ac1c0002row63_col1\" class=\"data row63 col1\" >1962</td>\n",
              "                        <td id=\"T_d55396e4_b70c_11eb_aec9_0242ac1c0002row63_col2\" class=\"data row63 col2\" >5</td>\n",
              "            </tr>\n",
              "            <tr>\n",
              "                                <td id=\"T_d55396e4_b70c_11eb_aec9_0242ac1c0002row64_col0\" class=\"data row64 col0\" >Turn of the Screw</td>\n",
              "                        <td id=\"T_d55396e4_b70c_11eb_aec9_0242ac1c0002row64_col1\" class=\"data row64 col1\" >1997</td>\n",
              "                        <td id=\"T_d55396e4_b70c_11eb_aec9_0242ac1c0002row64_col2\" class=\"data row64 col2\" >5</td>\n",
              "            </tr>\n",
              "            <tr>\n",
              "                                <td id=\"T_d55396e4_b70c_11eb_aec9_0242ac1c0002row65_col0\" class=\"data row65 col0\" >Off on a Comet</td>\n",
              "                        <td id=\"T_d55396e4_b70c_11eb_aec9_0242ac1c0002row65_col1\" class=\"data row65 col1\" >1911</td>\n",
              "                        <td id=\"T_d55396e4_b70c_11eb_aec9_0242ac1c0002row65_col2\" class=\"data row65 col2\" >5</td>\n",
              "            </tr>\n",
              "            <tr>\n",
              "                                <td id=\"T_d55396e4_b70c_11eb_aec9_0242ac1c0002row66_col0\" class=\"data row66 col0\" >Poems of William Blake</td>\n",
              "                        <td id=\"T_d55396e4_b70c_11eb_aec9_0242ac1c0002row66_col1\" class=\"data row66 col1\" >1971</td>\n",
              "                        <td id=\"T_d55396e4_b70c_11eb_aec9_0242ac1c0002row66_col2\" class=\"data row66 col2\" >5</td>\n",
              "            </tr>\n",
              "            <tr>\n",
              "                                <td id=\"T_d55396e4_b70c_11eb_aec9_0242ac1c0002row67_col0\" class=\"data row67 col0\" >Last of the Mohicans</td>\n",
              "                        <td id=\"T_d55396e4_b70c_11eb_aec9_0242ac1c0002row67_col1\" class=\"data row67 col1\" >1864</td>\n",
              "                        <td id=\"T_d55396e4_b70c_11eb_aec9_0242ac1c0002row67_col2\" class=\"data row67 col2\" >4</td>\n",
              "            </tr>\n",
              "            <tr>\n",
              "                                <td id=\"T_d55396e4_b70c_11eb_aec9_0242ac1c0002row68_col0\" class=\"data row68 col0\" >Book of Stories for the Storyteller</td>\n",
              "                        <td id=\"T_d55396e4_b70c_11eb_aec9_0242ac1c0002row68_col1\" class=\"data row68 col1\" >1913</td>\n",
              "                        <td id=\"T_d55396e4_b70c_11eb_aec9_0242ac1c0002row68_col2\" class=\"data row68 col2\" >4</td>\n",
              "            </tr>\n",
              "            <tr>\n",
              "                                <td id=\"T_d55396e4_b70c_11eb_aec9_0242ac1c0002row69_col0\" class=\"data row69 col0\" >Hoof and Claw</td>\n",
              "                        <td id=\"T_d55396e4_b70c_11eb_aec9_0242ac1c0002row69_col1\" class=\"data row69 col1\" >1914</td>\n",
              "                        <td id=\"T_d55396e4_b70c_11eb_aec9_0242ac1c0002row69_col2\" class=\"data row69 col2\" >4</td>\n",
              "            </tr>\n",
              "            <tr>\n",
              "                                <td id=\"T_d55396e4_b70c_11eb_aec9_0242ac1c0002row70_col0\" class=\"data row70 col0\" >Lectures on Landscape</td>\n",
              "                        <td id=\"T_d55396e4_b70c_11eb_aec9_0242ac1c0002row70_col1\" class=\"data row70 col1\" >1894</td>\n",
              "                        <td id=\"T_d55396e4_b70c_11eb_aec9_0242ac1c0002row70_col2\" class=\"data row70 col2\" >4</td>\n",
              "            </tr>\n",
              "            <tr>\n",
              "                                <td id=\"T_d55396e4_b70c_11eb_aec9_0242ac1c0002row71_col0\" class=\"data row71 col0\" >Gentle Measures in the Management and Training of the Young</td>\n",
              "                        <td id=\"T_d55396e4_b70c_11eb_aec9_0242ac1c0002row71_col1\" class=\"data row71 col1\" >1872</td>\n",
              "                        <td id=\"T_d55396e4_b70c_11eb_aec9_0242ac1c0002row71_col2\" class=\"data row71 col2\" >4</td>\n",
              "            </tr>\n",
              "            <tr>\n",
              "                                <td id=\"T_d55396e4_b70c_11eb_aec9_0242ac1c0002row72_col0\" class=\"data row72 col0\" >Junior Classics Volume 8: Animal and Nature Stories</td>\n",
              "                        <td id=\"T_d55396e4_b70c_11eb_aec9_0242ac1c0002row72_col1\" class=\"data row72 col1\" >1912</td>\n",
              "                        <td id=\"T_d55396e4_b70c_11eb_aec9_0242ac1c0002row72_col2\" class=\"data row72 col2\" >4</td>\n",
              "            </tr>\n",
              "            <tr>\n",
              "                                <td id=\"T_d55396e4_b70c_11eb_aec9_0242ac1c0002row73_col0\" class=\"data row73 col0\" >Beyond Good and Evil</td>\n",
              "                        <td id=\"T_d55396e4_b70c_11eb_aec9_0242ac1c0002row73_col1\" class=\"data row73 col1\" >1907</td>\n",
              "                        <td id=\"T_d55396e4_b70c_11eb_aec9_0242ac1c0002row73_col2\" class=\"data row73 col2\" >4</td>\n",
              "            </tr>\n",
              "            <tr>\n",
              "                                <td id=\"T_d55396e4_b70c_11eb_aec9_0242ac1c0002row74_col0\" class=\"data row74 col0\" >Gilded Age</td>\n",
              "                        <td id=\"T_d55396e4_b70c_11eb_aec9_0242ac1c0002row74_col1\" class=\"data row74 col1\" >1884</td>\n",
              "                        <td id=\"T_d55396e4_b70c_11eb_aec9_0242ac1c0002row74_col2\" class=\"data row74 col2\" >3</td>\n",
              "            </tr>\n",
              "            <tr>\n",
              "                                <td id=\"T_d55396e4_b70c_11eb_aec9_0242ac1c0002row75_col0\" class=\"data row75 col0\" >Pony Rider Boys in the Rockies</td>\n",
              "                        <td id=\"T_d55396e4_b70c_11eb_aec9_0242ac1c0002row75_col1\" class=\"data row75 col1\" >1910</td>\n",
              "                        <td id=\"T_d55396e4_b70c_11eb_aec9_0242ac1c0002row75_col2\" class=\"data row75 col2\" >3</td>\n",
              "            </tr>\n",
              "            <tr>\n",
              "                                <td id=\"T_d55396e4_b70c_11eb_aec9_0242ac1c0002row76_col0\" class=\"data row76 col0\" >Reviews</td>\n",
              "                        <td id=\"T_d55396e4_b70c_11eb_aec9_0242ac1c0002row76_col1\" class=\"data row76 col1\" >1895</td>\n",
              "                        <td id=\"T_d55396e4_b70c_11eb_aec9_0242ac1c0002row76_col2\" class=\"data row76 col2\" >3</td>\n",
              "            </tr>\n",
              "            <tr>\n",
              "                                <td id=\"T_d55396e4_b70c_11eb_aec9_0242ac1c0002row77_col0\" class=\"data row77 col0\" >Edison, His Life and Inventions</td>\n",
              "                        <td id=\"T_d55396e4_b70c_11eb_aec9_0242ac1c0002row77_col1\" class=\"data row77 col1\" >1894</td>\n",
              "                        <td id=\"T_d55396e4_b70c_11eb_aec9_0242ac1c0002row77_col2\" class=\"data row77 col2\" >3</td>\n",
              "            </tr>\n",
              "            <tr>\n",
              "                                <td id=\"T_d55396e4_b70c_11eb_aec9_0242ac1c0002row78_col0\" class=\"data row78 col0\" >He Knew He Was Right</td>\n",
              "                        <td id=\"T_d55396e4_b70c_11eb_aec9_0242ac1c0002row78_col1\" class=\"data row78 col1\" >1869</td>\n",
              "                        <td id=\"T_d55396e4_b70c_11eb_aec9_0242ac1c0002row78_col2\" class=\"data row78 col2\" >3</td>\n",
              "            </tr>\n",
              "            <tr>\n",
              "                                <td id=\"T_d55396e4_b70c_11eb_aec9_0242ac1c0002row79_col0\" class=\"data row79 col0\" >Martin Pippin in the Apple Orchard</td>\n",
              "                        <td id=\"T_d55396e4_b70c_11eb_aec9_0242ac1c0002row79_col1\" class=\"data row79 col1\" >1922</td>\n",
              "                        <td id=\"T_d55396e4_b70c_11eb_aec9_0242ac1c0002row79_col2\" class=\"data row79 col2\" >2</td>\n",
              "            </tr>\n",
              "            <tr>\n",
              "                                <td id=\"T_d55396e4_b70c_11eb_aec9_0242ac1c0002row80_col0\" class=\"data row80 col0\" >Mother Careys Chickens</td>\n",
              "                        <td id=\"T_d55396e4_b70c_11eb_aec9_0242ac1c0002row80_col1\" class=\"data row80 col1\" >1882</td>\n",
              "                        <td id=\"T_d55396e4_b70c_11eb_aec9_0242ac1c0002row80_col2\" class=\"data row80 col2\" >2</td>\n",
              "            </tr>\n",
              "            <tr>\n",
              "                                <td id=\"T_d55396e4_b70c_11eb_aec9_0242ac1c0002row81_col0\" class=\"data row81 col0\" >Pony Rider Boys in Texas</td>\n",
              "                        <td id=\"T_d55396e4_b70c_11eb_aec9_0242ac1c0002row81_col1\" class=\"data row81 col1\" >1908</td>\n",
              "                        <td id=\"T_d55396e4_b70c_11eb_aec9_0242ac1c0002row81_col2\" class=\"data row81 col2\" >2</td>\n",
              "            </tr>\n",
              "            <tr>\n",
              "                                <td id=\"T_d55396e4_b70c_11eb_aec9_0242ac1c0002row82_col0\" class=\"data row82 col0\" >Five Little Peppers and How They Grew</td>\n",
              "                        <td id=\"T_d55396e4_b70c_11eb_aec9_0242ac1c0002row82_col1\" class=\"data row82 col1\" >1881</td>\n",
              "                        <td id=\"T_d55396e4_b70c_11eb_aec9_0242ac1c0002row82_col2\" class=\"data row82 col2\" >2</td>\n",
              "            </tr>\n",
              "            <tr>\n",
              "                                <td id=\"T_d55396e4_b70c_11eb_aec9_0242ac1c0002row83_col0\" class=\"data row83 col0\" >New Life (La vita nuova)</td>\n",
              "                        <td id=\"T_d55396e4_b70c_11eb_aec9_0242ac1c0002row83_col1\" class=\"data row83 col1\" >1899</td>\n",
              "                        <td id=\"T_d55396e4_b70c_11eb_aec9_0242ac1c0002row83_col2\" class=\"data row83 col2\" >2</td>\n",
              "            </tr>\n",
              "            <tr>\n",
              "                                <td id=\"T_d55396e4_b70c_11eb_aec9_0242ac1c0002row84_col0\" class=\"data row84 col0\" >Stories Mother Nature Told Her Children</td>\n",
              "                        <td id=\"T_d55396e4_b70c_11eb_aec9_0242ac1c0002row84_col1\" class=\"data row84 col1\" >1889</td>\n",
              "                        <td id=\"T_d55396e4_b70c_11eb_aec9_0242ac1c0002row84_col2\" class=\"data row84 col2\" >2</td>\n",
              "            </tr>\n",
              "            <tr>\n",
              "                                <td id=\"T_d55396e4_b70c_11eb_aec9_0242ac1c0002row85_col0\" class=\"data row85 col0\" >Wolf Hunters</td>\n",
              "                        <td id=\"T_d55396e4_b70c_11eb_aec9_0242ac1c0002row85_col1\" class=\"data row85 col1\" >1859</td>\n",
              "                        <td id=\"T_d55396e4_b70c_11eb_aec9_0242ac1c0002row85_col2\" class=\"data row85 col2\" >2</td>\n",
              "            </tr>\n",
              "            <tr>\n",
              "                                <td id=\"T_d55396e4_b70c_11eb_aec9_0242ac1c0002row86_col0\" class=\"data row86 col0\" >Eight Harvard Poets</td>\n",
              "                        <td id=\"T_d55396e4_b70c_11eb_aec9_0242ac1c0002row86_col1\" class=\"data row86 col1\" >1887</td>\n",
              "                        <td id=\"T_d55396e4_b70c_11eb_aec9_0242ac1c0002row86_col2\" class=\"data row86 col2\" >1</td>\n",
              "            </tr>\n",
              "            <tr>\n",
              "                                <td id=\"T_d55396e4_b70c_11eb_aec9_0242ac1c0002row87_col0\" class=\"data row87 col0\" >Divine Comedy</td>\n",
              "                        <td id=\"T_d55396e4_b70c_11eb_aec9_0242ac1c0002row87_col1\" class=\"data row87 col1\" >1854</td>\n",
              "                        <td id=\"T_d55396e4_b70c_11eb_aec9_0242ac1c0002row87_col2\" class=\"data row87 col2\" >1</td>\n",
              "            </tr>\n",
              "            <tr>\n",
              "                                <td id=\"T_d55396e4_b70c_11eb_aec9_0242ac1c0002row88_col0\" class=\"data row88 col0\" >Passionate Friends</td>\n",
              "                        <td id=\"T_d55396e4_b70c_11eb_aec9_0242ac1c0002row88_col1\" class=\"data row88 col1\" >1866</td>\n",
              "                        <td id=\"T_d55396e4_b70c_11eb_aec9_0242ac1c0002row88_col2\" class=\"data row88 col2\" >1</td>\n",
              "            </tr>\n",
              "            <tr>\n",
              "                                <td id=\"T_d55396e4_b70c_11eb_aec9_0242ac1c0002row89_col0\" class=\"data row89 col0\" >Popular History of Ireland, Book 01</td>\n",
              "                        <td id=\"T_d55396e4_b70c_11eb_aec9_0242ac1c0002row89_col1\" class=\"data row89 col1\" >1855</td>\n",
              "                        <td id=\"T_d55396e4_b70c_11eb_aec9_0242ac1c0002row89_col2\" class=\"data row89 col2\" >1</td>\n",
              "            </tr>\n",
              "            <tr>\n",
              "                                <td id=\"T_d55396e4_b70c_11eb_aec9_0242ac1c0002row90_col0\" class=\"data row90 col0\" >Old Greek Stories</td>\n",
              "                        <td id=\"T_d55396e4_b70c_11eb_aec9_0242ac1c0002row90_col1\" class=\"data row90 col1\" >1874</td>\n",
              "                        <td id=\"T_d55396e4_b70c_11eb_aec9_0242ac1c0002row90_col2\" class=\"data row90 col2\" >1</td>\n",
              "            </tr>\n",
              "            <tr>\n",
              "                                <td id=\"T_d55396e4_b70c_11eb_aec9_0242ac1c0002row91_col0\" class=\"data row91 col0\" >Descent of Man and Selection in Relation to Sex, Part 1</td>\n",
              "                        <td id=\"T_d55396e4_b70c_11eb_aec9_0242ac1c0002row91_col1\" class=\"data row91 col1\" >1871</td>\n",
              "                        <td id=\"T_d55396e4_b70c_11eb_aec9_0242ac1c0002row91_col2\" class=\"data row91 col2\" >1</td>\n",
              "            </tr>\n",
              "            <tr>\n",
              "                                <td id=\"T_d55396e4_b70c_11eb_aec9_0242ac1c0002row92_col0\" class=\"data row92 col0\" >Fairy Tales Every Child Should Know</td>\n",
              "                        <td id=\"T_d55396e4_b70c_11eb_aec9_0242ac1c0002row92_col1\" class=\"data row92 col1\" >1910</td>\n",
              "                        <td id=\"T_d55396e4_b70c_11eb_aec9_0242ac1c0002row92_col2\" class=\"data row92 col2\" >1</td>\n",
              "            </tr>\n",
              "            <tr>\n",
              "                                <td id=\"T_d55396e4_b70c_11eb_aec9_0242ac1c0002row93_col0\" class=\"data row93 col0\" >Miserables Vol. 2</td>\n",
              "                        <td id=\"T_d55396e4_b70c_11eb_aec9_0242ac1c0002row93_col1\" class=\"data row93 col1\" >1638</td>\n",
              "                        <td id=\"T_d55396e4_b70c_11eb_aec9_0242ac1c0002row93_col2\" class=\"data row93 col2\" >0</td>\n",
              "            </tr>\n",
              "            <tr>\n",
              "                                <td id=\"T_d55396e4_b70c_11eb_aec9_0242ac1c0002row94_col0\" class=\"data row94 col0\" >History of the Decline and Fall of the Roman Empire Vol. IV</td>\n",
              "                        <td id=\"T_d55396e4_b70c_11eb_aec9_0242ac1c0002row94_col1\" class=\"data row94 col1\" >1807</td>\n",
              "                        <td id=\"T_d55396e4_b70c_11eb_aec9_0242ac1c0002row94_col2\" class=\"data row94 col2\" >0</td>\n",
              "            </tr>\n",
              "            <tr>\n",
              "                                <td id=\"T_d55396e4_b70c_11eb_aec9_0242ac1c0002row95_col0\" class=\"data row95 col0\" >Hidden Treasures</td>\n",
              "                        <td id=\"T_d55396e4_b70c_11eb_aec9_0242ac1c0002row95_col1\" class=\"data row95 col1\" >1633</td>\n",
              "                        <td id=\"T_d55396e4_b70c_11eb_aec9_0242ac1c0002row95_col2\" class=\"data row95 col2\" >0</td>\n",
              "            </tr>\n",
              "            <tr>\n",
              "                                <td id=\"T_d55396e4_b70c_11eb_aec9_0242ac1c0002row96_col0\" class=\"data row96 col0\" >Count of Monte Cristo</td>\n",
              "                        <td id=\"T_d55396e4_b70c_11eb_aec9_0242ac1c0002row96_col1\" class=\"data row96 col1\" >1846</td>\n",
              "                        <td id=\"T_d55396e4_b70c_11eb_aec9_0242ac1c0002row96_col2\" class=\"data row96 col2\" >0</td>\n",
              "            </tr>\n",
              "            <tr>\n",
              "                                <td id=\"T_d55396e4_b70c_11eb_aec9_0242ac1c0002row97_col0\" class=\"data row97 col0\" >History of England from the Invasion of Julius Caesar to the Revolution of 1688, Volume 1E</td>\n",
              "                        <td id=\"T_d55396e4_b70c_11eb_aec9_0242ac1c0002row97_col1\" class=\"data row97 col1\" >1786</td>\n",
              "                        <td id=\"T_d55396e4_b70c_11eb_aec9_0242ac1c0002row97_col2\" class=\"data row97 col2\" >0</td>\n",
              "            </tr>\n",
              "            <tr>\n",
              "                                <td id=\"T_d55396e4_b70c_11eb_aec9_0242ac1c0002row98_col0\" class=\"data row98 col0\" >Dead Alive</td>\n",
              "                        <td id=\"T_d55396e4_b70c_11eb_aec9_0242ac1c0002row98_col1\" class=\"data row98 col1\" >1874</td>\n",
              "                        <td id=\"T_d55396e4_b70c_11eb_aec9_0242ac1c0002row98_col2\" class=\"data row98 col2\" >0</td>\n",
              "            </tr>\n",
              "            <tr>\n",
              "                                <td id=\"T_d55396e4_b70c_11eb_aec9_0242ac1c0002row99_col0\" class=\"data row99 col0\" >Exemplary Novels of Miguel de Cervantes Saavedra</td>\n",
              "                        <td id=\"T_d55396e4_b70c_11eb_aec9_0242ac1c0002row99_col1\" class=\"data row99 col1\" >1822</td>\n",
              "                        <td id=\"T_d55396e4_b70c_11eb_aec9_0242ac1c0002row99_col2\" class=\"data row99 col2\" >0</td>\n",
              "            </tr>\n",
              "            <tr>\n",
              "                                <td id=\"T_d55396e4_b70c_11eb_aec9_0242ac1c0002row100_col0\" class=\"data row100 col0\" >Don Quixote - Vol. 2</td>\n",
              "                        <td id=\"T_d55396e4_b70c_11eb_aec9_0242ac1c0002row100_col1\" class=\"data row100 col1\" >1749</td>\n",
              "                        <td id=\"T_d55396e4_b70c_11eb_aec9_0242ac1c0002row100_col2\" class=\"data row100 col2\" >0</td>\n",
              "            </tr>\n",
              "            <tr>\n",
              "                                <td id=\"T_d55396e4_b70c_11eb_aec9_0242ac1c0002row101_col0\" class=\"data row101 col0\" >Hypatia</td>\n",
              "                        <td id=\"T_d55396e4_b70c_11eb_aec9_0242ac1c0002row101_col1\" class=\"data row101 col1\" >1753</td>\n",
              "                        <td id=\"T_d55396e4_b70c_11eb_aec9_0242ac1c0002row101_col2\" class=\"data row101 col2\" >0</td>\n",
              "            </tr>\n",
              "            <tr>\n",
              "                                <td id=\"T_d55396e4_b70c_11eb_aec9_0242ac1c0002row102_col0\" class=\"data row102 col0\" >Timaeus</td>\n",
              "                        <td id=\"T_d55396e4_b70c_11eb_aec9_0242ac1c0002row102_col1\" class=\"data row102 col1\" >1849</td>\n",
              "                        <td id=\"T_d55396e4_b70c_11eb_aec9_0242ac1c0002row102_col2\" class=\"data row102 col2\" >0</td>\n",
              "            </tr>\n",
              "            <tr>\n",
              "                                <td id=\"T_d55396e4_b70c_11eb_aec9_0242ac1c0002row103_col0\" class=\"data row103 col0\" >History of the Decline and Fall of the Roman Empire Vol. II</td>\n",
              "                        <td id=\"T_d55396e4_b70c_11eb_aec9_0242ac1c0002row103_col1\" class=\"data row103 col1\" >1913</td>\n",
              "                        <td id=\"T_d55396e4_b70c_11eb_aec9_0242ac1c0002row103_col2\" class=\"data row103 col2\" >0</td>\n",
              "            </tr>\n",
              "            <tr>\n",
              "                                <td id=\"T_d55396e4_b70c_11eb_aec9_0242ac1c0002row104_col0\" class=\"data row104 col0\" >Mary Barton</td>\n",
              "                        <td id=\"T_d55396e4_b70c_11eb_aec9_0242ac1c0002row104_col1\" class=\"data row104 col1\" >1848</td>\n",
              "                        <td id=\"T_d55396e4_b70c_11eb_aec9_0242ac1c0002row104_col2\" class=\"data row104 col2\" >0</td>\n",
              "            </tr>\n",
              "            <tr>\n",
              "                                <td id=\"T_d55396e4_b70c_11eb_aec9_0242ac1c0002row105_col0\" class=\"data row105 col0\" >Robin Hood.</td>\n",
              "                        <td id=\"T_d55396e4_b70c_11eb_aec9_0242ac1c0002row105_col1\" class=\"data row105 col1\" >1850</td>\n",
              "                        <td id=\"T_d55396e4_b70c_11eb_aec9_0242ac1c0002row105_col2\" class=\"data row105 col2\" >0</td>\n",
              "            </tr>\n",
              "            <tr>\n",
              "                                <td id=\"T_d55396e4_b70c_11eb_aec9_0242ac1c0002row106_col0\" class=\"data row106 col0\" >Waverley, Volume 1</td>\n",
              "                        <td id=\"T_d55396e4_b70c_11eb_aec9_0242ac1c0002row106_col1\" class=\"data row106 col1\" >1822</td>\n",
              "                        <td id=\"T_d55396e4_b70c_11eb_aec9_0242ac1c0002row106_col2\" class=\"data row106 col2\" >0</td>\n",
              "            </tr>\n",
              "            <tr>\n",
              "                                <td id=\"T_d55396e4_b70c_11eb_aec9_0242ac1c0002row107_col0\" class=\"data row107 col0\" >Democracy in America II</td>\n",
              "                        <td id=\"T_d55396e4_b70c_11eb_aec9_0242ac1c0002row107_col1\" class=\"data row107 col1\" >1840</td>\n",
              "                        <td id=\"T_d55396e4_b70c_11eb_aec9_0242ac1c0002row107_col2\" class=\"data row107 col2\" >0</td>\n",
              "            </tr>\n",
              "            <tr>\n",
              "                                <td id=\"T_d55396e4_b70c_11eb_aec9_0242ac1c0002row108_col0\" class=\"data row108 col0\" >Sonnets of Michael Angelo Buonarroti and Tommaso Campanella</td>\n",
              "                        <td id=\"T_d55396e4_b70c_11eb_aec9_0242ac1c0002row108_col1\" class=\"data row108 col1\" >1878</td>\n",
              "                        <td id=\"T_d55396e4_b70c_11eb_aec9_0242ac1c0002row108_col2\" class=\"data row108 col2\" >0</td>\n",
              "            </tr>\n",
              "            <tr>\n",
              "                                <td id=\"T_d55396e4_b70c_11eb_aec9_0242ac1c0002row109_col0\" class=\"data row109 col0\" >Shakespeare's Sonnets</td>\n",
              "                        <td id=\"T_d55396e4_b70c_11eb_aec9_0242ac1c0002row109_col1\" class=\"data row109 col1\" >1868</td>\n",
              "                        <td id=\"T_d55396e4_b70c_11eb_aec9_0242ac1c0002row109_col2\" class=\"data row109 col2\" >0</td>\n",
              "            </tr>\n",
              "            <tr>\n",
              "                                <td id=\"T_d55396e4_b70c_11eb_aec9_0242ac1c0002row110_col0\" class=\"data row110 col0\" >Alice's Adventures in Wonderland</td>\n",
              "                        <td id=\"T_d55396e4_b70c_11eb_aec9_0242ac1c0002row110_col1\" class=\"data row110 col1\" >1834</td>\n",
              "                        <td id=\"T_d55396e4_b70c_11eb_aec9_0242ac1c0002row110_col2\" class=\"data row110 col2\" >0</td>\n",
              "            </tr>\n",
              "            <tr>\n",
              "                                <td id=\"T_d55396e4_b70c_11eb_aec9_0242ac1c0002row111_col0\" class=\"data row111 col0\" >Sonnets from the Portuguese (version 2)</td>\n",
              "                        <td id=\"T_d55396e4_b70c_11eb_aec9_0242ac1c0002row111_col1\" class=\"data row111 col1\" >1827</td>\n",
              "                        <td id=\"T_d55396e4_b70c_11eb_aec9_0242ac1c0002row111_col2\" class=\"data row111 col2\" >0</td>\n",
              "            </tr>\n",
              "            <tr>\n",
              "                                <td id=\"T_d55396e4_b70c_11eb_aec9_0242ac1c0002row112_col0\" class=\"data row112 col0\" >Simple Story</td>\n",
              "                        <td id=\"T_d55396e4_b70c_11eb_aec9_0242ac1c0002row112_col1\" class=\"data row112 col1\" >1791</td>\n",
              "                        <td id=\"T_d55396e4_b70c_11eb_aec9_0242ac1c0002row112_col2\" class=\"data row112 col2\" >0</td>\n",
              "            </tr>\n",
              "            <tr>\n",
              "                                <td id=\"T_d55396e4_b70c_11eb_aec9_0242ac1c0002row113_col0\" class=\"data row113 col0\" >Curious Book of Birds</td>\n",
              "                        <td id=\"T_d55396e4_b70c_11eb_aec9_0242ac1c0002row113_col1\" class=\"data row113 col1\" >1747</td>\n",
              "                        <td id=\"T_d55396e4_b70c_11eb_aec9_0242ac1c0002row113_col2\" class=\"data row113 col2\" >0</td>\n",
              "            </tr>\n",
              "            <tr>\n",
              "                                <td id=\"T_d55396e4_b70c_11eb_aec9_0242ac1c0002row114_col0\" class=\"data row114 col0\" >Literary Sense</td>\n",
              "                        <td id=\"T_d55396e4_b70c_11eb_aec9_0242ac1c0002row114_col1\" class=\"data row114 col1\" >1850</td>\n",
              "                        <td id=\"T_d55396e4_b70c_11eb_aec9_0242ac1c0002row114_col2\" class=\"data row114 col2\" >0</td>\n",
              "            </tr>\n",
              "    </tbody></table>"
            ],
            "text/plain": [
              "<pandas.io.formats.style.Styler at 0x7f9329a17410>"
            ]
          },
          "metadata": {
            "tags": []
          },
          "execution_count": 34
        }
      ]
    },
    {
      "cell_type": "markdown",
      "metadata": {
        "id": "WZq1J_hpkl27"
      },
      "source": [
        "## Extracting the dataset of 300 sentences"
      ]
    },
    {
      "cell_type": "code",
      "metadata": {
        "colab": {
          "base_uri": "https://localhost:8080/"
        },
        "id": "6h-KK0RUc1OZ",
        "outputId": "af2b1152-4d8e-490a-de06-f390f2795fd1"
      },
      "source": [
        "print(num_sentences_4)"
      ],
      "execution_count": null,
      "outputs": [
        {
          "output_type": "stream",
          "text": [
            "7\n"
          ],
          "name": "stdout"
        }
      ]
    },
    {
      "cell_type": "code",
      "metadata": {
        "colab": {
          "base_uri": "https://localhost:8080/"
        },
        "id": "27Okol2vQKgA",
        "outputId": "504cb05a-c864-4081-836e-18b049eaddbe"
      },
      "source": [
        "dataset_300 = []\n",
        "\n",
        "#First round - taking one sentence from each book\n",
        "for i, book in enumerate(df[\"book title\"]):\n",
        "  if df[\"number of sentences\"][i] > 0:\n",
        "    #print(\"\\n\", book, \", \", df[\"number of sentences\"][i], \"sentences\")\n",
        "    #print(dict_books[book])\n",
        "    rnd_sentence = random.choice(dict_books[book])\n",
        "    #print(\"CHOSEN SENTENCE: \", rnd_sentence)\n",
        "    dataset_300.append(rnd_sentence)\n",
        "\n",
        "\n",
        "#Second round - taking randomly sentences from books\n",
        "temp = list(df[\"book title\"].items()) \n",
        "chosen_books = []\n",
        "\n",
        "while len(dataset_300) < 300:\n",
        "  if len(dataset_300) == num_remaining_books*2 - num_sentences_1 or \\\n",
        "  len(dataset_300) == num_remaining_books*3 - num_sentences_1*2 - num_sentences_2 or \\\n",
        "  len(dataset_300) == num_remaining_books*4 - num_sentences_1*3 - num_sentences_2*2 - num_sentences_3: \n",
        "    chosen_books = []\n",
        "  rnd_book = random.choice(df[\"book title\"])\n",
        "  index = [idx for idx, key in enumerate(temp) if key[1] == rnd_book]\n",
        "  num_sentences = df[\"number of sentences\"][index[0]]\n",
        "  \n",
        "  if rnd_book not in chosen_books:\n",
        "    if num_sentences > 1:\n",
        "      #print(\"\\n\", rnd_book, \", \", num_sentences, \"sentences\")\n",
        "      #print(dict_books[rnd_book])\n",
        "      rnd_sentence = random.choice(dict_books[rnd_book])\n",
        "      if rnd_sentence not in dataset_300:\n",
        "        #print(\"CHOSEN SENTENCE: \", rnd_sentence)\n",
        "        dataset_300.append(rnd_sentence)\n",
        "        chosen_books.append(rnd_book)\n",
        "      #else:\n",
        "        #print(\"SENTENCE %s IS ALREADY IN THE DATASET\"%rnd_sentence)\n",
        "  #else:\n",
        "    #print(\"This book was already chosen once\")\n",
        "\n",
        "print(\"Length of the final dataset: %d sentences\"%len(dataset_300))"
      ],
      "execution_count": null,
      "outputs": [
        {
          "output_type": "stream",
          "text": [
            "Length of the final dataset: 300 sentences\n"
          ],
          "name": "stdout"
        }
      ]
    },
    {
      "cell_type": "code",
      "metadata": {
        "colab": {
          "base_uri": "https://localhost:8080/"
        },
        "id": "6_L6Pk5PS7Fd",
        "outputId": "84782cf7-b3a5-4b42-e165-8e8e029715d2"
      },
      "source": [
        "print(\"Final dataset of 300 sentences IDs:\\n\", dataset_300)\n"
      ],
      "execution_count": null,
      "outputs": [
        {
          "output_type": "stream",
          "text": [
            "Final dataset of 300 sentences IDs:\n",
            " ['3752-4944-0006', '3536-8226-0029', '3000-15664-0003', '1988-24833-0023', '5895-34615-0000', '5536-43358-0000', '174-50561-0019', '6319-57405-0007', '6241-61943-0012', '5694-64038-0011', '6295-64301-0014', '6319-64726-0006', '6313-66129-0035', '6241-66616-0020', '7850-73752-0002', '6313-76958-0031', '2428-83699-0030', '174-84280-0011', '7976-105575-0019', '7976-110124-0007', '7976-110523-0016', '251-118436-0018', '84-121550-0015', '422-122949-0029', '777-126732-0078', '1272-128104-0012', '652-129742-0007', '652-130726-0030', '1272-135031-0017', '251-136532-0002', '3170-137482-0032', '251-137823-0016', '1272-141231-0011', '1919-142785-0028', '1993-147964-0006', '2086-149220-0045', '2277-149897-0028', '2035-152373-0003', '2412-153954-0023', '2803-154320-0002', '2803-161169-0011', '3853-163249-0040', '3081-166546-0011', '1462-170142-0015', '6295-244435-0024', '8297-275154-0026', '6319-275224-0009', '5338-284437-0007', '7850-286674-0008', '8842-302201-0010', '1284-1180-0029', '1995-1826-0004', '4446-2271-0023', '2830-3980-0036', '3570-5694-0001', '3729-6852-0011', '4077-13754-0003', '4507-16021-0029', '5105-28240-0014', '4970-29093-0008', '5683-32865-0014', '5142-33396-0061', '5142-36586-0004', '4992-41797-0022', '6829-68771-0028', '7127-75947-0017', '6930-76324-0014', '7021-79759-0002', '6930-81414-0007', '7021-85628-0016', '7176-88083-0017', '7176-92135-0032', '7729-102255-0033', '121-121726-0006', '1320-122617-0017', '672-122797-0036', '260-123288-0009', '237-126133-0012', '121-127105-0009', '2300-131720-0008', '1188-133604-0029', '237-134500-0030', '1089-134686-0014', '1221-135767-0024', '1580-141084-0009', '2094-142345-0025', '908-157963-0022', '3575-170457-0014', '8455-210777-0026', '8230-279154-0012', '8463-287645-0010', '8555-292519-0004', '8463-294828-0025', '1272-128104-0008', '2830-3980-0018', '7176-88083-0003', '1462-170142-0011', '8463-287645-0009', '121-121726-0007', '2428-83699-0024', '5683-32866-0005', '4970-29093-0015', '2803-154328-0023', '8230-279154-0024', '3853-163249-0026', '3081-166546-0028', '777-126732-0026', '4446-2271-0019', '2300-131720-0006', '7021-79759-0000', '3729-6852-0025', '6930-76324-0026', '251-136532-0013', '1988-24833-0008', '7729-102255-0014', '2412-153954-0024', '6313-66129-0007', '6345-64257-0017', '5536-43363-0011', '7850-73752-0011', '6241-61943-0009', '7976-110523-0021', '672-122797-0070', '7976-105575-0018', '1089-134686-0001', '422-122949-0016', '5694-64025-0008', '1188-133604-0031', '251-137823-0009', '6295-244435-0029', '3536-8226-0030', '1580-141083-0016', '5142-33396-0017', '3575-170457-0001', '908-157963-0024', '260-123286-0005', '2803-161169-0003', '251-118436-0011', '6313-76958-0001', '4077-13751-0017', '2086-149220-0032', '6829-68769-0046', '7976-110124-0019', '1272-135031-0006', '6930-81414-0017', '5105-28240-0018', '3570-5694-0019', '7176-92135-0003', '1919-142785-0022', '5895-34615-0001', '3170-137482-0019', '1995-1836-0002', '174-50561-0017', '121-127105-0015', '8455-210777-0056', '8297-275154-0008', '2277-149897-0027', '2094-142345-0026', '2035-147960-0012', '8842-302196-0008', '8463-294828-0019', '3000-15664-0027', '4992-41797-0012', '5338-284437-0019', '1221-135767-0020', '652-130737-0005', '1320-122617-0008', '237-134500-0002', '6241-66616-0016', '1284-1180-0032', '4507-16021-0043', '7850-286674-0017', '7021-85628-0010', '1272-141231-0004', '237-126133-0021', '3752-4943-0029', '652-129742-0002', '7127-75947-0035', '6319-275224-0015', '3575-170457-0004', '2428-83705-0038', '1993-147965-0000', '7021-79740-0001', '652-130726-0025', '1919-142785-0062', '5694-64038-0014', '1272-135031-0007', '7021-85628-0020', '908-157963-0002', '777-126732-0012', '2086-149220-0020', '3000-15664-0004', '652-129742-0020', '1462-170138-0022', '6930-81414-0018', '6829-68769-0051', '5683-32879-0012', '7729-102255-0045', '6345-64257-0015', '1272-128104-0007', '3081-166546-0027', '251-136532-0009', '8230-279154-0003', '4507-16021-0008', '3570-5696-0004', '8463-287645-0008', '7976-110124-0024', '5338-284437-0033', '672-122797-0030', '5536-43363-0015', '6313-66129-0000', '1320-122612-0014', '2803-154320-0013', '237-134500-0019', '422-122949-0033', '251-118436-0000', '1995-1826-0016', '260-123286-0008', '1580-141084-0043', '8463-294828-0004', '6295-244435-0030', '7976-110523-0001', '6241-61946-0009', '7176-92135-0028', '3170-137482-0034', '6319-275224-0019', '6930-75918-0011', '5895-34615-0013', '7976-105575-0023', '2830-3980-0000', '7176-88083-0010', '3729-6852-0038', '2412-153954-0008', '121-121726-0009', '1221-135767-0008', '1284-1180-0020', '121-127105-0010', '4077-13754-0001', '1272-141231-0000', '6930-76324-0020', '3752-4944-0013', '1089-134686-0003', '4446-2273-0015', '8297-275154-0007', '2277-149897-0036', '3853-163249-0008', '7850-73752-0016', '5142-33396-0008', '7850-286674-0003', '1988-24833-0002', '8455-210777-0024', '1188-133604-0013', '5105-28241-0003', '2094-142345-0056', '2300-131720-0041', '3536-8226-0027', '251-137823-0020', '4970-29093-0007', '3752-4943-0009', '652-130726-0028', '8455-210777-0062', '1995-1826-0012', '5142-33396-0020', '2412-153948-0010', '1089-134686-0027', '5536-43358-0011', '1988-24833-0028', '5683-32865-0008', '908-157963-0016', '2277-149897-0009', '251-137823-0017', '4446-2273-0012', '6930-76324-0017', '1272-135031-0021', '5105-28240-0011', '1919-142785-0009', '2086-149220-0044', '2830-3980-0076', '4077-13751-0019', '5338-284437-0004', '6930-75918-0013', '2428-83705-0021', '1221-135766-0004', '6319-275224-0000', '260-123286-0004', '7976-110523-0019', '7976-110124-0005', '1580-141084-0006', '5694-64029-0026', '777-126732-0043', '5895-34622-0020', '3853-163249-0021', '422-122949-0002', '121-121726-0004', '6241-61946-0021', '672-122797-0044', '6930-81414-0010', '7021-85628-0012', '3081-166546-0035', '7729-102255-0034']\n"
          ],
          "name": "stdout"
        }
      ]
    },
    {
      "cell_type": "code",
      "metadata": {
        "colab": {
          "base_uri": "https://localhost:8080/"
        },
        "id": "zHFMnLB2hL8T",
        "outputId": "ad821ad1-005c-4b01-ca61-6642c8d8c6bc"
      },
      "source": [
        "content_lines_300 = []\n",
        "\n",
        "for sentence_id in dataset_300:\n",
        "  for i, item in enumerate(content_lines):\n",
        "    if sentence_id == content_lines[i,0]:\n",
        "      content_lines_300.append(content_lines[i])\n",
        "\n",
        "content_lines_300 = np.asarray(content_lines_300)\n",
        "\n",
        "print(\"\\nExample first column of the 1st element of content_lines_300:\\n\", content_lines_300[0,0])\n",
        "print(\"Example second column of the 2nd element of content_lines_300:\\n\", content_lines_300[0,1])"
      ],
      "execution_count": null,
      "outputs": [
        {
          "output_type": "stream",
          "text": [
            "\n",
            "Example first column of the 1st element of content_lines_300:\n",
            " 3752-4944-0006\n",
            "Example second column of the 2nd element of content_lines_300:\n",
            " HAVE YOU MANY VISITORS CAPTAIN BURGESS VERY FEW\n"
          ],
          "name": "stdout"
        }
      ]
    },
    {
      "cell_type": "code",
      "metadata": {
        "colab": {
          "base_uri": "https://localhost:8080/"
        },
        "id": "c8oGcRZLikPV",
        "outputId": "94d34b35-87b5-4bb0-e18b-f084a6dd0f5b"
      },
      "source": [
        "print(\"Final dataset of 300 sentences in text: \\n\", content_lines_300[:,1])"
      ],
      "execution_count": null,
      "outputs": [
        {
          "output_type": "stream",
          "text": [
            "Final dataset of 300 sentences in text: \n",
            " ['HAVE YOU MANY VISITORS CAPTAIN BURGESS VERY FEW'\n",
            " \"I'VE WATCHED AS SHARP AS WATCHING CAN GO PRETTY NEAR\"\n",
            " 'GO QUIETLY ALONE NO HARM WILL BEFALL YOU'\n",
            " 'TOM SAYS THANKS AND LOOKS AT HILDA AND SHE BLUSHES REALLY'\n",
            " 'BUT IS LAUGHTER A SYNONYM OF JOY' 'THE SAVAGE PHILOSOPHER THE DUAL MIND'\n",
            " 'YOU SEE THE TREATMENT IS A TRIFLE FANCIFUL'\n",
            " 'IS THERE ANYTHING THAT YOU WISH HE ASKED'\n",
            " 'THE FACT WAS THAT SCARCELY ANY ONE OF THEM BUT EXPECTED SOME GOODS BY THE PERIODICAL VESSEL'\n",
            " 'BUT HOW TO GET HIM OUT WAS THE UNSOLVED PROBLEM'\n",
            " 'THEY SAT DOWN AND LISTENED IN SILENCE'\n",
            " 'HE KNEW THAT SHE WOULD NOT AWAKE FOR A HUNDRED YEARS'\n",
            " 'AS A RESULT INSTEAD OF STOPPING WHEN HE REACHED THE HAT THE BOY KEPT ON GOING'\n",
            " 'SPRING CAME AND PASSED AND THEN SUMMER'\n",
            " 'IT REQUIRES SOME SELF COMMUNION TO PREPARE OURSELVES FOR GOOD FORTUNE AS WELL AS TO ENCOUNTER DIFFICULTY AND DANGER AND DISGRACE'\n",
            " 'WE HAD BETTER START THE DRIVE THIS MORNING'\n",
            " 'NO ANSWER THOUGH I ALLOWED A MORE THAN DECENT INTERVAL'\n",
            " \"BUT NOW IT DOESN'T SEEM TO MATTER VERY MUCH\"\n",
            " 'MY FRIEND WITH MANY OTHERS WAS BEING CARRIED OUT TO DIE ELSEWHERE'\n",
            " 'HE IS OLD AS WELL AS POOR SHE SAID'\n",
            " 'DEAR GOOD GOD HELP US NOW SHE PRAYED'\n",
            " 'I KNOW NOW WHAT BRINGS ME TO THE PYRE'\n",
            " \"THE INTERVAL BETWEEN THESE FOUR CONTAINED A CHARIOT TRIUMPHAL ON TWO WHEELS WHICH BY A GRIFFIN'S NECK CAME DRAWN ALONG\"\n",
            " 'ONLY NAME IT WHATEVER I HAVE I OFFER THEE'\n",
            " \"I WOULDN'T GIVE A HALFPENNY FOR THE WHOLE LOT\"\n",
            " 'ONLY UNFORTUNATELY HIS OWN WORK NEVER DOES GET GOOD'\n",
            " 'SURROUND WITH A GARNISH OF COOKED AND DICED CARROTS TURNIPS GREEN PEAS'\n",
            " 'SEASON WITH SALT AND PEPPER AND A LITTLE SUGAR TO TASTE'\n",
            " 'HOWEVER IF WE LOOK SHARP WE MAY BE ABLE TO DISCOVER ONE OF THESE SECRET WAYS'\n",
            " 'THAT TOOK THE CENTER OF INTEREST AWAY FROM ARCHAEOLOGY AND STARTED A NEW BURST OF ACTIVITY'\n",
            " 'I OBEYED IMPLICITLY AND MET YOUR EXCELLENCY'\n",
            " 'AND THE ONLY TRUCK WE HAD AVAILABLE WAS IN THAT BURNING SHED THE SUPERINTENDENT ADDED BITTERLY'\n",
            " 'THE OTHER VOICE SNAPPED WITH A HARSH URGENCY CLEARLY USED TO COMMAND'\n",
            " 'BOIL THEM BEFORE THEY ARE PUT INTO THE SOUP OR OTHER DISH THEY MAY BE INTENDED FOR'\n",
            " 'I PUT ON MY CAP AND RAN OUT TO MEET JAKE'\n",
            " 'FEWER WORDS THAN BEFORE BUT WITH THE SAME MYSTERIOUS MUSIC IN THEM'\n",
            " 'HE WOULD EXPLAIN TO HER JUST WHERE HE STOOD AND HOW MUCH HE NEEDED HER'\n",
            " 'THE POETS OF SUCCEEDING AGES HAVE DWELT MUCH IN DETAIL ON THE OCCURRENCES OF THIS MEMORABLE DAY'\n",
            " 'THIS HAD SOME EFFECT IN CALMING HIM'\n",
            " 'THEIR FRIENDS DID THEIR BEST TO AMUSE THEM'\n",
            " 'WHAT SHOULD WE HAVE DONE IF EVERYBODY HAD KEPT ON BURNING WOOD TO THIS DAY'\n",
            " \"NOW LET'S BE BRAVE AND ENJOY EVERY MINUTE OF IT\"\n",
            " 'THE BOYS LOOK WIDE AWAKE ENOUGH BUT WHO CAN TELL I WOULD SOONER BELIEVE THAT'\n",
            " \"IT'S UNBEARABLE IT TORTURES ME EVERY MINUTE\"\n",
            " 'HE GAZED UPON A WORLD FULL OF RESPONSIBILITIES AND PERILS'\n",
            " \"LET ME REST A LITTLE HE PLEADED IF I'M NOT IN THE WAY\"\n",
            " 'INDEED NOT A FLOWER ESCAPED HIS MISCHIEVOUS SUGGESTIONS'\n",
            " 'THE PEOPLE MUST WAIT OUTSIDE FOR THERE IS NO ROOM FOR THEM IN THE PALACE'\n",
            " \"OUR UPPER LIPS ARE SO SMALL THEY DON'T MATTER\"\n",
            " 'THE FIRST PART IS DIVIDED INTO FOUR'\n",
            " 'SOMETIMES IT IS CALLED A CRAZY QUILT BECAUSE THE PATCHES AND COLORS ARE SO MIXED UP'\n",
            " 'MIGHT LEARN SOMETHING USEFUL DOWN THERE'\n",
            " 'AFTER ALL WE WERE AWFULLY YOUNG'\n",
            " 'WHEREVER THE MEANS OF GRACE ARE FOUND THERE IS THE HOLY CHURCH EVEN THOUGH ANTICHRIST REIGNS THERE'\n",
            " 'THE UTILITY OF CONSUMPTION AS AN EVIDENCE OF WEALTH IS TO BE CLASSED AS A DERIVATIVE GROWTH'\n",
            " 'I HAD A NAME I BELIEVE IN MY YOUNG DAYS BUT I HAVE FORGOTTEN IT SINCE I HAVE BEEN IN SERVICE'\n",
            " 'MOREOVER HAD THE PEOPLE BEEN INCLINED TO REBELLION WHAT GREATER OPPORTUNITY COULD THEY HAVE WISHED'\n",
            " 'TO THIS WE REPLY IN ONE WORD ONLY'\n",
            " 'ARE YOU CERTAIN THAT THIS IS THE MEDITERRANEAN'\n",
            " 'HE WANTED TO BEGIN AT THE TOP OF THE LADDER'\n",
            " \"HE'S NOT A MAN FOR COUNTRY QUARTERS\"\n",
            " 'YOUR MOTHER THE QUEEN WAS STANDING BY'\n",
            " 'EFFECTS OF THE INCREASED USE AND DISUSE OF PARTS'\n",
            " \"SHE'S OLDER THAN I AM BUT SO TINY AND SAD AND SHY THAT SHE SEEMS LIKE A CHILD\"\n",
            " 'SHE EVEN SEEMED MILDLY AMUSED AT THE ATTENTION SHE ATTRACTED'\n",
            " 'WHAT ALREADY HERE THEY SAID TO HER'\n",
            " 'THIS THOUGHT HOWEVER DID NOT ENTER THE HEADS OF THE ENTHUSIASTIC PAIR'\n",
            " 'THEY ARE CHIEFLY FORMED FROM COMBINATIONS OF THE IMPRESSIONS MADE IN CHILDHOOD'\n",
            " 'NOTHING MORE NOT EVEN THE WRIST TO WHICH IT MIGHT BE ATTACHED'\n",
            " 'THAT IS A VERY FINE CAP YOU HAVE HE SAID'\n",
            " 'BUT AT THIS POINT IN THE RAPIDS IT WAS IMPOSSIBLE FOR HIM TO STAY DOWN'\n",
            " 'HOW YOU MAY BE WONDERING ARE YOU TO BEGIN YOUR MASTERPIECE'\n",
            " 'AS HE HAD PROMISED TO PROTECT THE HOTEL THE REASSURED CITIZENS BEGAN TO LAUGH AT THEIR OWN FEARS'\n",
            " 'HEREDITY THE CAUSE OF ALL OUR FAULTS'\n",
            " 'THEN AS IF SATISFIED OF THEIR SAFETY THE SCOUT LEFT HIS POSITION AND SLOWLY ENTERED THE PLACE'\n",
            " 'HUMPY DUMPY FELL DOWNSTAIRS AND YET HE MARRIED THE PRINCESS'\n",
            " 'THOSE CLOUDS SEEM AS IF THEY WERE GOING TO CRUSH THE SEA'\n",
            " 'THERE THERE HE SAID SOOTHINGLY PATTING HER BROWN FUZZY HEAD'\n",
            " 'SHE HAS BEEN DEAD THESE TWENTY YEARS'\n",
            " 'EVERYTHING HE HAS DONE HAS BEEN AIMED AT THE CONSERVATION OF ENERGY THE CONTRACTION OF SPACE THE INTENSIFICATION OF CULTURE'\n",
            " 'ONLY THERE ARE TWO SORTS OF CLOUD AND FIRE'\n",
            " 'I WANT TO BE DOING SOMETHING ON MY OWN ACCOUNT'\n",
            " 'HE TRIED TO THINK HOW IT COULD BE'\n",
            " 'PEARL SEEING THE ROSE BUSHES BEGAN TO CRY FOR A RED ROSE AND WOULD NOT BE PACIFIED'\n",
            " 'IT IS POSSIBLE THAT I MAY BE IN A POSITION THEN TO INDICATE SOME COURSE OF ACTION'\n",
            " 'COLD IS IT MY DARLING BLESS YOUR SWEET FACE'\n",
            " 'COME FORTH WORM AND THE SILENT VALLEY TO THY PENSIVE QUEEN'\n",
            " 'TO THOSE DUTIES YOU HAVE NOT YET BEEN CALLED AND WHEN YOU ARE YOU WILL BE LESS EAGER FOR CELEBRITY'\n",
            " 'AND THE DEATH OF WHICH I DREAMT COULD NOT ALAS'\n",
            " 'FAMILIARITY IS A FEELING CAPABLE OF DEGREES'\n",
            " 'HE WORKED ME VERY HARD HE WANTED TO BE BEATING ME ALL THE TIME'\n",
            " 'THE PITY THAT WE MUST COME AND GO' \"BUT WE'RE GOING JUST THE SAME\"\n",
            " 'AS FOR ETCHINGS THEY ARE OF TWO KINDS BRITISH AND FOREIGN'\n",
            " 'I DID NOT THEN REALIZE THE IMPORTANCE OF THE MINISTRY'\n",
            " 'BUT HERE HE WAS AT A TERRIBLE DISADVANTAGE AS COMPARED WITH THE OWLS HAWKS AND EAGLES HE HAD NO RENDING CLAWS'\n",
            " 'HE PULLED UP A WINDOW AS IF THE AIR WERE HEAVY'\n",
            " 'I NEVER KNEW OF BUT ONE MAN WHO COULD EVER PLEASE HIM'\n",
            " 'HORSE SENSE A DEGREE OF WISDOM THAT KEEPS ONE FROM BETTING ON THE RACES'\n",
            " 'I WAS CHILLED TO THE BONE WET TIRED HUNGRY'\n",
            " 'AND HE MADE A LITTLE DIP OF HIS CANE TOWARDS BRANDON HALL OVER HIS SHOULDER'\n",
            " 'YOU CAN BEGIN BY CARRYING A ROD AND PUTTING DOWN THE FIGURES'\n",
            " 'MY CHILD MY CHILD MURMURED LADY HELENA THE SAVAGES DID NOT KILL YOU'\n",
            " 'THE FIRST OF OUR VAGUE BUT INDUBITABLE DATA IS THAT THERE IS KNOWLEDGE OF THE PAST'\n",
            " 'IT WOULD HAVE TAKEN MANY KNAPSACKS TO HOLD ALL THE GIFTS SHOWERED UPON HIM BY HIS FRIENDS AND NEIGHBORS'\n",
            " 'IT WAS ONE WHICH GAVE ME A SMALL TRIUMPH OVER GEORGE'\n",
            " 'HE HAD BEEN A PRISONER HIMSELF'\n",
            " 'AFTER THAT IT WAS EASY TO FORGET ACTUALLY TO FORGET'\n",
            " 'THERE SEEMS NO GOOD REASON FOR BELIEVING THAT IT WILL CHANGE'\n",
            " 'NATURE OF THE EFFECT PRODUCED BY EARLY IMPRESSIONS'\n",
            " 'IS THERE NOT A MERIDIAN EVERYWHERE'\n",
            " \"ISN'T HE THE GREATEST FOR GETTING INTO ODD CORNERS\"\n",
            " \"MASS SUICIDE THAT'S WHAT IT WAS NOTICE WHAT'S IN THE CORNERS\"\n",
            " \"I'LL BE LUCKY IF I HAVE TIME TO BREATHE\"\n",
            " 'THE LEADERS OF THE CONSPIRACY BECAME DISTRUSTFUL OF THEIR POWER TO CRUSH THE TOWN'\n",
            " 'HE BEGAN PRESENTLY TO RELENT AND SPOKE TO ME IN A KINDER MANNER'\n",
            " 'I AM FREE TO ADMIT THAT I AM HUNGRY TOO'\n",
            " 'HER ONLY LIFE WAS THAT SHE WAS LOST'\n",
            " 'THIS WAS CARRIED OUT TO THE LETTER'\n",
            " 'HIS CONSTANCY TO HER WAS NOW REWARDED'\n",
            " 'THE VALKYRIE KEPT OFF THE COAST STEERING TO THE WESTWARD'\n",
            " \"THEN THEY BEGAN TO RUN AND RUSHING INTO THE HOUSE THEY FELL UPON THEIR FATHER'S NECK\"\n",
            " 'THE GOLDEN STAR OF TINSEL WAS STILL ON THE TOP OF THE TREE AND GLITTERED IN THE SUNSHINE'\n",
            " 'GO BACK TO THE REGIMENT HE SAID SMILING ALL WILL BE NEEDED'\n",
            " 'STUFF IT INTO YOU HIS BELLY COUNSELLED HIM'\n",
            " 'WHAT WILL THE MORAL PHILOSOPHERS WHO APPEAR AT THIS TIME HAVE TO PREACH'\n",
            " 'THE FACT WAS KEPT FROM THE TROOPS'\n",
            " \"THERE'S ONE AND THERE'S ANOTHER THE DUDLEY AND THE FLINT\"\n",
            " \"TOM'S EYES FOCUSED IN HORROR ON THE WRECKAGE ENVELOPED BY STILL BILLOWING DUST\"\n",
            " 'HE FELT THE DIFFERENCE AS SOON AS HE REACHED THE HILLS OF HIS NATIVE STATE'\n",
            " \"BUT IF YOU ASK ME MY OPINION WHY IN COURSE THEY'VE BEEN TOGETHER SOMEWHERE\"\n",
            " 'I WAS IN SUCH A HURRY TO COME TO YOU YOU LEFT YOUR DOOR OPEN'\n",
            " \"WE ATE AT MANY MEN'S TABLES UNINVITED\"\n",
            " \"WHY ARE WE TO BE DENIED EACH OTHER'S SOCIETY\"\n",
            " 'IMAGE OF WEAKNESS ART THOU BUT A WORM'\n",
            " 'I AM NOT COMPLAINING THAT THE RATE IS SLOW BUT THAT THE SEA IS SO WIDE'\n",
            " 'AND SO THROUGH MANY QUESTIONS AND MANY EXPERIMENTS THEY LEARN AT LAST HOW TO USE THE CONTENTS OF THIS ONE STOREHOUSE'\n",
            " 'ALL DISCARDED PORTIONS OF THE HUMAN BODY STILL REMAIN PART OF IT ATTACHED TO IT BY INTANGIBLE CONNECTIONS'\n",
            " \"EVEN IF I CAN'T SING I CAN BEAT THAT\"\n",
            " 'OH WHAT A RECORD TO READ WHAT A PICTURE TO GAZE UPON HOW AWFUL THE FACT'\n",
            " 'AND YET IF YOU COULD ONLY SEE THE BENIGN SMILE OF THE ORIGINAL'\n",
            " \"YOU'RE FOOLISH WHY SHOULD YOU DO ALL THIS\"\n",
            " 'I PROMISE YOU I WILL DO YOU NO HARM'\n",
            " 'I ALSO OFFERED TO HELP YOUR BROTHER TO ESCAPE BUT HE WOULD NOT GO'\n",
            " 'I KNOW HE HAD IT THIS VERY EVENING'\n",
            " 'YOU WILL TAKE ME ON BOARD COUNT WILL YOU NOT'\n",
            " 'BUT THE GENERAL DISTINCTION IS NOT ON THAT ACCOUNT TO BE OVERLOOKED'\n",
            " 'YOUR PLAY MUST BE NOT MERELY A GOOD PLAY BUT A SUCCESSFUL ONE'\n",
            " 'SEASONABLE THIS SHOULD BE MADE ABOUT EASTER AS AT THIS TIME EGGS ARE PLENTIFUL AND CHEAP'\n",
            " 'SUCH PERFECT COMPLETENESS IS NOT IN NATURE'\n",
            " 'I PICKED IT UP AND COMING UP TO HIM JUST AS HE WAS GOING DOWN THE STEPS I HANDED IT TO HIM'\n",
            " 'WHY SHOULD HE NOT BE AS OTHER MEN'\n",
            " \"I DON'T KNOW WHAT BECOMES OF THE LADIES\"\n",
            " 'HE QUITTED THE FIRE AND DROPPED BACK INTO HIS CHAIR'\n",
            " \"THE PECULIAR CIRCUMSTANCES OF THE COLONY ARE WITHIN YOUR EXCELLENCY'S KNOWLEDGE\"\n",
            " 'YOU DISTRESS ME HERBERT MORE THAN WORDS CAN SAY'\n",
            " 'HE WOULD GO TO HER AND TELL HER ALL HIS FAMILY COMPLICATIONS'\n",
            " \"SHE'S GOING TO PUT THE IRONING THINGS AWAY\"\n",
            " 'I FOLLOWED WITH THE SPADE OVER MY SHOULDER DRAGGING MY SNAKE'\n",
            " 'MY NOTES WHICH YOU HAVE TAKEN THE TROUBLE OF REVISING ARE OF COURSE QUITE PALTRY AND USELESS'\n",
            " \"ANYHOW WE'LL LEAVE INSTRUCTIONS TO SHIP THE WHOLE MENAGERIE TO FRANCE\"\n",
            " 'THEIR LONG MASSIVE EARS GIVE THEM A VERY STRIKING APPEARANCE'\n",
            " 'SHE IS WILD TO KNOW HOW TO DO THINGS'\n",
            " 'BUT SURELY THAT IS ALL WRONG SAID TOURMALINE GRAVELY'\n",
            " 'IN TRUTH SHE SEEMED ABSOLUTELY HIDDEN BEHIND IT'\n",
            " 'CLARETS ARE VALUED FOR THEIR FLAVOR AND FOR THEIR TONIC PROPERTIES'\n",
            " 'THE YOUNG MAN IS IN BONDAGE AND MUCH I FEAR HIS DEATH IS DECREED'\n",
            " 'A BRISK WIND HAD COME UP AND WAS DRIVING PUFFY WHITE CLOUDS ACROSS THE SKY'\n",
            " 'NECESSITY HAD BECOME HIS GRIM MASTER AND THE FOLLOWING WEEK HE WAS GOING TO WORK'\n",
            " 'I WILL SHOW YOU WHAT A GOOD JOB I DID AND SHE WENT TO A TALL CUPBOARD AND THREW OPEN THE DOORS'\n",
            " 'THE EARTH IS NOT DEVOID OF RESEMBLANCE TO A JAIL'\n",
            " 'THE NYMPHS HAD ALREADY GOTTEN AWAY'\n",
            " 'ON HUGE SILVER PLATTERS WERE PYRAMIDS OF TARTS AND CAKES AND RED WINE SPARKLED IN GLITTERING DECANTERS'\n",
            " 'ONE MINUTE A VOICE SAID AND THE TIME BUZZER SOUNDED'\n",
            " \"SHE ASKED IMPULSIVELY I DIDN'T BELIEVE YOU COULD PERSUADE HER FATHER\"\n",
            " \"I WON'T HAVE MY MEN KNOCKED UP WITH FLOGGING THESE RASCALS\"\n",
            " 'SERVE WITH FRENCH DRESSING HIDDEN UNDER THE LEAVES OF THE NEST'\n",
            " 'GOOD GRACIOUS HAS THE KING ANY RIGHT TO INTERFERE IN MATTERS OF THAT KIND'\n",
            " 'BEFORE THE DAY CLOSED THE GARDENER CAME WHISTLING FROM HIS FARM WORK TO LOOK OVER HIS PRETTY CHARGES'\n",
            " 'WE USED TO DISPUTE ABOUT POLITICS AND RELIGION'\n",
            " 'AS IT IS UNLESS I AM MISTAKEN SOME OF THE RENDING WILL BE ON OUR SIDE AND THEY KNOW IT'\n",
            " 'GRANDFATHER CAME DOWN WEARING A WHITE SHIRT AND HIS SUNDAY COAT'\n",
            " 'DELLA HAD A YOUNG SISTER NAMED MARIA AND A COUSIN WHOSE NAME WAS JANE'\n",
            " 'PUT IN THE OVEN AND BROWN TO A GOLDEN COLOR'\n",
            " 'SUFFICIENT HALF THIS QUANTITY FOR TWO SLICES OF SALMON'\n",
            " \"I DON'T THINK HIS GUN WAS LOADED THOUGH BECAUSE WE DID NOT HEAR THE BALL WHISTLE\"\n",
            " 'HE EATS AND SLEEPS VERY STEADILY REPLIED THE NEW KING'\n",
            " 'HE DARTED LIKE AN ARROW THROUGH ALL THE HALLS DOWN ALL THE STAIRS AND ACROSS THE YARD'\n",
            " 'WHY FADES THE LOTUS OF THE WATER'\n",
            " 'STRUGGLE WARFARE WAS THE CONDITION OF PRIVATE OWNERSHIP IT WAS FATAL'\n",
            " 'I TURN UP THE EARTH BY WAY OF PASTIME'\n",
            " 'BUT IT IS FAR BETTER TO GO AFOOT'\n",
            " 'STRAIN AND BOTTLE AND PUT IN ICE BOX SHAKE BEFORE USING EACH TIME'\n",
            " 'IN A MOMENT PEGGY WAS ON THE STAGE AGAIN AND ALEXANDER APPLAUDED VIGOROUSLY WITH THE REST'\n",
            " 'I REMEMBER SAYING HAVE WE BEEN TOGETHER'\n",
            " 'THERE WAS A GRIM SMILE OF AMUSEMENT ON HIS SHREWD FACE'\n",
            " 'THANK YOU RACHEL MY COUSIN RACHEL MY ONLY FRIEND'\n",
            " 'CAPTAIN MARTIN SAID I SHALL GIVE YOU A PISTOL TO HELP PROTECT YOURSELF IF WORSE COMES TO WORST'\n",
            " 'I KNOW IT AND THERE IS NO WAKING'\n",
            " 'PAINTING HE TELLS US IS OF A DIFFERENT QUALITY TO MATHEMATICS AND FINISH IN ART IS ADDING MORE FACT'\n",
            " 'HOWEVER A LITTLE LATER WE HAD A COMFORTABLE CHAT'\n",
            " \"WELL OF COURSE THEY'RE DEAD WHAT A QUESTION\"\n",
            " 'AND WHAT SORT OF EVIDENCE IS LOGICALLY POSSIBLE'\n",
            " 'WHO DENIES THAT OF COURSE IT DOES'\n",
            " 'THE SALIENT FEATURES OF THIS DEVELOPMENT OF DOMESTIC SERVICE HAVE ALREADY BEEN INDICATED'\n",
            " 'AS USUAL NOTHING WAS DONE IN THE WAY OF PUNISHMENT'\n",
            " 'THEY TRIED IN VAIN TO BREAK DOWN THE GREAT DOORS'\n",
            " \"I'LL LOOK IN THE GREAT BOOK FIRST\"\n",
            " 'PERHAPS THE OTHER TREES FROM THE FOREST WILL COME TO LOOK AT ME'\n",
            " 'FIVE YEARS LATER HE REPEATED THE SERVICE AND AGAIN SAVED HIS PEOPLE FROM AWFUL SLAUGHTER'\n",
            " 'HE NO DOUBT WOULD BRING FOOD OF SOME KIND WITH HIM'\n",
            " 'THE EXAMINATION HOWEVER RESULTED IN NO DISCOVERY'\n",
            " 'SO THAT ON THAT SCORE THERE IS LITTLE OR NO DANGER'\n",
            " 'HE DROPPED A HANDFUL INTO HER LAP'\n",
            " 'I DO NOT KNOW HE SAID HESITATINGLY PERHAPS THE HARPIES HAVE FLOWN OVER MY TABLE'\n",
            " 'HE WAS YOUNG NO SPEAR HAD TOUCHED HIM NO POISON LURKED IN HIS WINE'\n",
            " 'THE GLIMMERING SEA OF DELICATE LEAVES WHISPERED AND MURMURED BEFORE HER STRETCHING AWAY TO THE NORTHWARD'\n",
            " \"THEREFORE DON'T TALK TO ME ABOUT VIEWS AND PROSPECTS\"\n",
            " 'HE PUT HIS SHOES ON THE TABLE' 'BUT NOW NOTHING COULD HOLD ME BACK'\n",
            " 'PEOPLE WERE COOLER HERE AND THEY WERE MORE PRONE TO LOOK AT THE TWO SIDES OF A QUESTION'\n",
            " 'HOW CAN WE FEED OUR CHILDREN WHEN WE HAVE NO MORE THAN WE CAN EAT OURSELVES'\n",
            " 'I SHOULD HAVE A VIOLENT ATTACK OF THE CRAMP IF I WERE NOT TO HAVE SOME SORT OF EXERCISE'\n",
            " 'LARKSPUR BIT ME AGAIN THIS MORNING FOR THE THIRD TIME'\n",
            " 'I DECLARED MYSELF QUITE WILLING FOR IT WAS NECESSARY TO BRAZEN IT OUT AFTER HAVING VENTURED AS FAR AS I HAD DONE'\n",
            " 'IN THIS POSITION SHE REMAINED UNTIL A GENTLE HAND WAS LAID UPON HER SHOULDER'\n",
            " 'I AM CONVINCED OF WHAT I SAY SAID THE COUNT'\n",
            " 'THE WHOLE OF EXISTENCE RESEMBLES A LETTER MODIFIED IN THE POSTSCRIPT'\n",
            " 'THEY LAY IN HEAPS OF DOZENS EVEN CLOSE UP TO THE WORKS'\n",
            " 'IN EVERY WAY THEY SOUGHT TO UNDERMINE THE AUTHORITY OF SAINT PAUL'\n",
            " 'THE CAT GROWLED SOFTLY PICKED UP THE PRIZE IN HER JAWS AND TROTTED INTO THE BUSHES TO DEVOUR IT'\n",
            " 'WHAT SIR I SAID TO HIM AM I FORTUNATE ENOUGH TO SEE YOU'\n",
            " 'THE MEN WERE AS HANDSOME AS THE WOMEN BEAUTIFUL'\n",
            " 'HOTEL A PLACE WHERE A GUEST OFTEN GIVES UP GOOD DOLLARS FOR POOR QUARTERS'\n",
            " 'COME THEREFORE AND LET US FLING MUD AT THEM'\n",
            " 'THE FIRST LOT WE TESTED ON OUR GLASS CAT WHICH NOT ONLY BEGAN TO LIVE BUT HAS LIVED EVER SINCE'\n",
            " 'SHE SENT ME THE PAGES IN QUESTION BEFORE SHE DIED'\n",
            " 'BUT A WORD FURTHER CONCERNING THE EXPEDITION IN GENERAL'\n",
            " 'A MAN SAID TO THE UNIVERSE SIR I EXIST'\n",
            " 'YET LITTLE AS IT WAS IT HAD ALREADY MADE A VAST DIFFERENCE IN THE ASPECT OF THE ROOM'\n",
            " 'IN FACT THE RINGLEADER JOHN REX GAVE ME HIS CONFESSION AND I SENT IT TO THE BISHOP'\n",
            " 'HELLO BERTIE ANY GOOD IN YOUR MIND'\n",
            " \"DON'T I THOUGH I'M SO SORRY TO HEAR IT HOW DID HER SON TURN OUT\"\n",
            " 'AFTER MONTHS OF SEPARATION HE RECEIVED A VISIT FROM HERBERT'\n",
            " 'SO HERE IT WAS SPREAD OUT CLEAR BEFORE HIM AND NOW HE KNEW WHAT TO EXPECT'\n",
            " \"MOTHER SAYS I'VE GONE BACK TO THE TIME BEFORE WE LOST LETTY AND I SOMETIMES FEEL AS IF I HAD\"\n",
            " 'HE MIGHT BE ENCHANTED BUT THAT WAS THE TALISMAN'\n",
            " 'I PAINTED THE EYES RED FOR ANGER'\n",
            " 'THEY ALWAYS ATE PLAIN FOOD AND PLENTY OF IT AND THEY NEVER ATE BETWEEN MEALS'\n",
            " \"SHE DOESN'T PICK THEM UP BUT JUST HAVING THEM IN THE ROOM SURE DOESN'T GIVE HER ASTHMA\"\n",
            " 'HOW MUCH OF EVIL OF REAL ACCOMPLISHED EVIL HAD THERE NOT OCCURRED TO ME DURING THE LAST FEW DAYS'\n",
            " 'IT MUST REMEMBER BE ONE OR THE OTHER'\n",
            " 'STEAM UP AND CANVAS SPREAD THE SCHOONER STARTED EASTWARDS'\n",
            " 'I THINK I SHOULD BE DOING YOU A SERVICE TO TURN YOU OUT OF SUCH A PLACE'\n",
            " 'WE HAD METERS IN WHICH THERE WERE TWO BOTTLES OF LIQUID'\n",
            " 'AND ALL WORK HAD CEASED WITH HIM'\n",
            " \"THE TWO GIRLS WERE AS MUCH UPSET AS TOM'S MOTHER TOM LAUGHED\"\n",
            " 'IT IS SUCH A NOBLE AMBITION THAT IT IS A PITY IT HAS USUALLY SUCH A SHALLOW FOUNDATION'\n",
            " 'I ORDER YOU SIR NORTH CRIED INDIGNANT'\n",
            " 'WHEN DONE TAKE THE MEAT OUT OF THE SAUCE'\n",
            " 'WHEN DO YOU INTEND THAT THE JOHN BRIGHT SHALL START'\n",
            " 'SHE WANTED A GLANCE OF THE NEW BOOKS AND PERIODICALS AND TALK OF GREAT PHILANTHROPIES AND REFORMS'\n",
            " 'A HOUSE SMELLS OF SMOKE A SHIP SMELLS OF FROLIC'\n",
            " 'THE COUNTRY WAS THE GRANDEST THAT CAN BE IMAGINED'\n",
            " 'HE CLASPED HIS HANDS ON THE DESK AND SAID'\n",
            " 'TO THE UNTUTORED SAGE THE CONCENTRATION OF POPULATION WAS THE PROLIFIC MOTHER OF ALL EVILS MORAL NO LESS THAN PHYSICAL'\n",
            " \"HERE'S TO YOU A LONG HAPPY LIFE\"\n",
            " 'I BELIEVE I HAVE A LITTLE TASTE THAT WAY THOSE ARE ALL REAL YOU KNOW THOSE JEWELS'\n",
            " 'I PASS AWAY YET I COMPLAIN AND NO ONE HEARS MY VOICE'\n",
            " 'THE BOY HASTENED AWAY AND THE MANAGER FELL TO HIS MUSINGS'\n",
            " 'ANYHOW WE WANT TO HELP GOT A JOB FOR US'\n",
            " \"THANK YOU BUT I DON'T LIKE IT SO WELL AS THIS\"\n",
            " 'OH LET HIM COME ALONG SHE URGED I DO LOVE TO SEE HIM ABOUT THAT OLD HOUSE'\n",
            " 'I DO NOT KNOW CONFESSED SHAGGY'\n",
            " 'I LEFT YOU ON A CONTINENT AND HERE I HAVE THE HONOR OF FINDING YOU ON AN ISLAND'\n",
            " 'SEASONABLE THIS RECIPE SHOULD BE USED IN JUNE JULY OR AUGUST'\n",
            " 'HOW WONDERFULLY RESPONSIVE TO EVERY EMOTION OF THE HUMAN SOUL'\n",
            " 'ON THE OTHER HAND WE ARE NOT TO REGARD THEM AS SO TERRIBLE THAT WE MUST DESPAIR'\n",
            " 'WHO BEGAN THE QUARREL WAS IT THE MORMONS'\n",
            " 'DID YOU SUPPOSE A PALACE WOULD BE LIKE ONE OF OUR HANDSOME RESIDENCES ASKED THE WOMAN EVIDENTLY SURPRISED'\n",
            " 'IN THOSE VERY TERMS I EVEN ADDED MORE'\n",
            " 'I SHALL MAKE PAPA GIVE ME FIVE HUNDRED POUNDS AT LEAST'\n",
            " 'THIS OUTWARD MUTABILITY INDICATED AND DID NOT MORE THAN FAIRLY EXPRESS THE VARIOUS PROPERTIES OF HER INNER LIFE'\n",
            " 'WHAT A FUSS IS MADE ABOUT YOU MY DEAR LITTLE FRIENDS'\n",
            " 'ONE MIGHT BE WITH LESS REASON THAN NOW'\n",
            " 'AND SHE GOT UP AND PUT HER HEAD INTO THE OVEN'\n",
            " 'LET ME ENTER I PRAY YOU TO PASS THE NIGHT UNDER YOUR ROOF'\n",
            " \"YOU DON'T SEEM TO REALIZE THE POSITION\"\n",
            " 'AS I WENT BACK TO THE FIELD HOSPITAL I OVERTOOK ANOTHER MAN WALKING ALONG'\n",
            " 'HE WAS NOT SATISFIED WITH HIS FRIENDS'\n",
            " 'URSUS WAS THE POET OF THESE MAGICAL REPRESENTATIONS HE WROTE THE PIECES'\n",
            " 'I KNEW YOU WOULD GO I SAW YOU GETTING READY AND I MADE UP MY MIND TO FOLLOW'\n",
            " 'WE TRUTHFUL ONES THE NOBILITY IN ANCIENT GREECE CALLED THEMSELVES'\n",
            " 'HEAVEN A GOOD PLACE TO BE RAISED TO'\n",
            " 'HE SAYS TIDE REPLIED MY UNCLE TRANSLATING THE DANISH WORD FOR MY INFORMATION'\n",
            " 'AND HE LEANED AGAINST THE WALL LOST IN REVERIE'\n",
            " 'A SOUND OF VOICES A FLASH OF LIGHT'\n",
            " 'BUT YOU MUST NOT EAT WITH YOUR CAP ON YOUR HEAD SHE SAID AND WAS GOING TO TAKE IT OFF'\n",
            " 'AT LEAST THAT IS WHAT WE HOPE'\n",
            " 'TO THEIR SORROW THEY WERE SOON UNDECEIVED']\n"
          ],
          "name": "stdout"
        }
      ]
    },
    {
      "cell_type": "code",
      "metadata": {
        "id": "r4abQ1aYlORm"
      },
      "source": [
        "final_dataset = (content_lines_300).tolist()\n",
        "\n",
        "with open(\"dataset_300.json\", \"w\") as outfile:\n",
        "    json.dump(final_dataset, outfile, indent=4)  \n",
        "with open('/content/dataset_300.json', 'w') as f:\n",
        "    json.dump(final_dataset, f, indent=4)"
      ],
      "execution_count": null,
      "outputs": []
    }
  ]
}